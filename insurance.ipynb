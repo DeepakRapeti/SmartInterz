{
  "cells": [
    {
      "cell_type": "markdown",
      "metadata": {
        "id": "view-in-github",
        "colab_type": "text"
      },
      "source": [
        "<a href=\"https://colab.research.google.com/github/DeepakRapeti/SmartInterz/blob/main/insurance.ipynb\" target=\"_parent\"><img src=\"https://colab.research.google.com/assets/colab-badge.svg\" alt=\"Open In Colab\"/></a>"
      ]
    },
    {
      "cell_type": "code",
      "execution_count": 1,
      "metadata": {
        "id": "eSkGyS1-b7dE"
      },
      "outputs": [],
      "source": [
        "import numpy as np\n",
        "import pandas as pd\n",
        "\n",
        "import matplotlib.pyplot as plt\n",
        "import seaborn as sns"
      ]
    },
    {
      "cell_type": "code",
      "execution_count": 2,
      "metadata": {
        "id": "CcgFU5MxkGSa"
      },
      "outputs": [],
      "source": [
        "df_claim=pd.read_csv('/content/insurance_claims.csv')\n",
        "df=pd.read_csv('/content/insurance_data_set.csv')"
      ]
    },
    {
      "cell_type": "code",
      "execution_count": 3,
      "metadata": {
        "colab": {
          "base_uri": "https://localhost:8080/",
          "height": 299
        },
        "id": "BjNYPZegkGWj",
        "outputId": "3244bb65-55af-41c8-83c2-cf07cce6e7e9"
      },
      "outputs": [
        {
          "output_type": "execute_result",
          "data": {
            "text/plain": [
              "   months_as_customer  age  policy_number policy_bind_date policy_state  \\\n",
              "0                 328   48         521585       2014-10-17           OH   \n",
              "1                 228   42         342868       2006-06-27           IN   \n",
              "2                 134   29         687698       2000-09-06           OH   \n",
              "3                 256   41         227811       1990-05-25           IL   \n",
              "4                 228   44         367455       2014-06-06           IL   \n",
              "\n",
              "  policy_csl  policy_deductable  policy_annual_premium  umbrella_limit  \\\n",
              "0    250/500               1000                1406.91               0   \n",
              "1    250/500               2000                1197.22         5000000   \n",
              "2    100/300               2000                1413.14         5000000   \n",
              "3    250/500               2000                1415.74         6000000   \n",
              "4   500/1000               1000                1583.91         6000000   \n",
              "\n",
              "   insured_zip  ... police_report_available total_claim_amount injury_claim  \\\n",
              "0       466132  ...                     YES              71610         6510   \n",
              "1       468176  ...                       ?               5070          780   \n",
              "2       430632  ...                      NO              34650         7700   \n",
              "3       608117  ...                      NO              63400         6340   \n",
              "4       610706  ...                      NO               6500         1300   \n",
              "\n",
              "  property_claim vehicle_claim  auto_make  auto_model auto_year  \\\n",
              "0          13020         52080       Saab         92x      2004   \n",
              "1            780          3510   Mercedes        E400      2007   \n",
              "2           3850         23100      Dodge         RAM      2007   \n",
              "3           6340         50720  Chevrolet       Tahoe      2014   \n",
              "4            650          4550     Accura         RSX      2009   \n",
              "\n",
              "  fraud_reported _c39  \n",
              "0              Y  NaN  \n",
              "1              Y  NaN  \n",
              "2              N  NaN  \n",
              "3              Y  NaN  \n",
              "4              N  NaN  \n",
              "\n",
              "[5 rows x 40 columns]"
            ],
            "text/html": [
              "\n",
              "  <div id=\"df-cf2ef0cf-1486-4a93-956e-f7dbdae3d0f6\">\n",
              "    <div class=\"colab-df-container\">\n",
              "      <div>\n",
              "<style scoped>\n",
              "    .dataframe tbody tr th:only-of-type {\n",
              "        vertical-align: middle;\n",
              "    }\n",
              "\n",
              "    .dataframe tbody tr th {\n",
              "        vertical-align: top;\n",
              "    }\n",
              "\n",
              "    .dataframe thead th {\n",
              "        text-align: right;\n",
              "    }\n",
              "</style>\n",
              "<table border=\"1\" class=\"dataframe\">\n",
              "  <thead>\n",
              "    <tr style=\"text-align: right;\">\n",
              "      <th></th>\n",
              "      <th>months_as_customer</th>\n",
              "      <th>age</th>\n",
              "      <th>policy_number</th>\n",
              "      <th>policy_bind_date</th>\n",
              "      <th>policy_state</th>\n",
              "      <th>policy_csl</th>\n",
              "      <th>policy_deductable</th>\n",
              "      <th>policy_annual_premium</th>\n",
              "      <th>umbrella_limit</th>\n",
              "      <th>insured_zip</th>\n",
              "      <th>...</th>\n",
              "      <th>police_report_available</th>\n",
              "      <th>total_claim_amount</th>\n",
              "      <th>injury_claim</th>\n",
              "      <th>property_claim</th>\n",
              "      <th>vehicle_claim</th>\n",
              "      <th>auto_make</th>\n",
              "      <th>auto_model</th>\n",
              "      <th>auto_year</th>\n",
              "      <th>fraud_reported</th>\n",
              "      <th>_c39</th>\n",
              "    </tr>\n",
              "  </thead>\n",
              "  <tbody>\n",
              "    <tr>\n",
              "      <th>0</th>\n",
              "      <td>328</td>\n",
              "      <td>48</td>\n",
              "      <td>521585</td>\n",
              "      <td>2014-10-17</td>\n",
              "      <td>OH</td>\n",
              "      <td>250/500</td>\n",
              "      <td>1000</td>\n",
              "      <td>1406.91</td>\n",
              "      <td>0</td>\n",
              "      <td>466132</td>\n",
              "      <td>...</td>\n",
              "      <td>YES</td>\n",
              "      <td>71610</td>\n",
              "      <td>6510</td>\n",
              "      <td>13020</td>\n",
              "      <td>52080</td>\n",
              "      <td>Saab</td>\n",
              "      <td>92x</td>\n",
              "      <td>2004</td>\n",
              "      <td>Y</td>\n",
              "      <td>NaN</td>\n",
              "    </tr>\n",
              "    <tr>\n",
              "      <th>1</th>\n",
              "      <td>228</td>\n",
              "      <td>42</td>\n",
              "      <td>342868</td>\n",
              "      <td>2006-06-27</td>\n",
              "      <td>IN</td>\n",
              "      <td>250/500</td>\n",
              "      <td>2000</td>\n",
              "      <td>1197.22</td>\n",
              "      <td>5000000</td>\n",
              "      <td>468176</td>\n",
              "      <td>...</td>\n",
              "      <td>?</td>\n",
              "      <td>5070</td>\n",
              "      <td>780</td>\n",
              "      <td>780</td>\n",
              "      <td>3510</td>\n",
              "      <td>Mercedes</td>\n",
              "      <td>E400</td>\n",
              "      <td>2007</td>\n",
              "      <td>Y</td>\n",
              "      <td>NaN</td>\n",
              "    </tr>\n",
              "    <tr>\n",
              "      <th>2</th>\n",
              "      <td>134</td>\n",
              "      <td>29</td>\n",
              "      <td>687698</td>\n",
              "      <td>2000-09-06</td>\n",
              "      <td>OH</td>\n",
              "      <td>100/300</td>\n",
              "      <td>2000</td>\n",
              "      <td>1413.14</td>\n",
              "      <td>5000000</td>\n",
              "      <td>430632</td>\n",
              "      <td>...</td>\n",
              "      <td>NO</td>\n",
              "      <td>34650</td>\n",
              "      <td>7700</td>\n",
              "      <td>3850</td>\n",
              "      <td>23100</td>\n",
              "      <td>Dodge</td>\n",
              "      <td>RAM</td>\n",
              "      <td>2007</td>\n",
              "      <td>N</td>\n",
              "      <td>NaN</td>\n",
              "    </tr>\n",
              "    <tr>\n",
              "      <th>3</th>\n",
              "      <td>256</td>\n",
              "      <td>41</td>\n",
              "      <td>227811</td>\n",
              "      <td>1990-05-25</td>\n",
              "      <td>IL</td>\n",
              "      <td>250/500</td>\n",
              "      <td>2000</td>\n",
              "      <td>1415.74</td>\n",
              "      <td>6000000</td>\n",
              "      <td>608117</td>\n",
              "      <td>...</td>\n",
              "      <td>NO</td>\n",
              "      <td>63400</td>\n",
              "      <td>6340</td>\n",
              "      <td>6340</td>\n",
              "      <td>50720</td>\n",
              "      <td>Chevrolet</td>\n",
              "      <td>Tahoe</td>\n",
              "      <td>2014</td>\n",
              "      <td>Y</td>\n",
              "      <td>NaN</td>\n",
              "    </tr>\n",
              "    <tr>\n",
              "      <th>4</th>\n",
              "      <td>228</td>\n",
              "      <td>44</td>\n",
              "      <td>367455</td>\n",
              "      <td>2014-06-06</td>\n",
              "      <td>IL</td>\n",
              "      <td>500/1000</td>\n",
              "      <td>1000</td>\n",
              "      <td>1583.91</td>\n",
              "      <td>6000000</td>\n",
              "      <td>610706</td>\n",
              "      <td>...</td>\n",
              "      <td>NO</td>\n",
              "      <td>6500</td>\n",
              "      <td>1300</td>\n",
              "      <td>650</td>\n",
              "      <td>4550</td>\n",
              "      <td>Accura</td>\n",
              "      <td>RSX</td>\n",
              "      <td>2009</td>\n",
              "      <td>N</td>\n",
              "      <td>NaN</td>\n",
              "    </tr>\n",
              "  </tbody>\n",
              "</table>\n",
              "<p>5 rows × 40 columns</p>\n",
              "</div>\n",
              "      <button class=\"colab-df-convert\" onclick=\"convertToInteractive('df-cf2ef0cf-1486-4a93-956e-f7dbdae3d0f6')\"\n",
              "              title=\"Convert this dataframe to an interactive table.\"\n",
              "              style=\"display:none;\">\n",
              "        \n",
              "  <svg xmlns=\"http://www.w3.org/2000/svg\" height=\"24px\"viewBox=\"0 0 24 24\"\n",
              "       width=\"24px\">\n",
              "    <path d=\"M0 0h24v24H0V0z\" fill=\"none\"/>\n",
              "    <path d=\"M18.56 5.44l.94 2.06.94-2.06 2.06-.94-2.06-.94-.94-2.06-.94 2.06-2.06.94zm-11 1L8.5 8.5l.94-2.06 2.06-.94-2.06-.94L8.5 2.5l-.94 2.06-2.06.94zm10 10l.94 2.06.94-2.06 2.06-.94-2.06-.94-.94-2.06-.94 2.06-2.06.94z\"/><path d=\"M17.41 7.96l-1.37-1.37c-.4-.4-.92-.59-1.43-.59-.52 0-1.04.2-1.43.59L10.3 9.45l-7.72 7.72c-.78.78-.78 2.05 0 2.83L4 21.41c.39.39.9.59 1.41.59.51 0 1.02-.2 1.41-.59l7.78-7.78 2.81-2.81c.8-.78.8-2.07 0-2.86zM5.41 20L4 18.59l7.72-7.72 1.47 1.35L5.41 20z\"/>\n",
              "  </svg>\n",
              "      </button>\n",
              "      \n",
              "  <style>\n",
              "    .colab-df-container {\n",
              "      display:flex;\n",
              "      flex-wrap:wrap;\n",
              "      gap: 12px;\n",
              "    }\n",
              "\n",
              "    .colab-df-convert {\n",
              "      background-color: #E8F0FE;\n",
              "      border: none;\n",
              "      border-radius: 50%;\n",
              "      cursor: pointer;\n",
              "      display: none;\n",
              "      fill: #1967D2;\n",
              "      height: 32px;\n",
              "      padding: 0 0 0 0;\n",
              "      width: 32px;\n",
              "    }\n",
              "\n",
              "    .colab-df-convert:hover {\n",
              "      background-color: #E2EBFA;\n",
              "      box-shadow: 0px 1px 2px rgba(60, 64, 67, 0.3), 0px 1px 3px 1px rgba(60, 64, 67, 0.15);\n",
              "      fill: #174EA6;\n",
              "    }\n",
              "\n",
              "    [theme=dark] .colab-df-convert {\n",
              "      background-color: #3B4455;\n",
              "      fill: #D2E3FC;\n",
              "    }\n",
              "\n",
              "    [theme=dark] .colab-df-convert:hover {\n",
              "      background-color: #434B5C;\n",
              "      box-shadow: 0px 1px 3px 1px rgba(0, 0, 0, 0.15);\n",
              "      filter: drop-shadow(0px 1px 2px rgba(0, 0, 0, 0.3));\n",
              "      fill: #FFFFFF;\n",
              "    }\n",
              "  </style>\n",
              "\n",
              "      <script>\n",
              "        const buttonEl =\n",
              "          document.querySelector('#df-cf2ef0cf-1486-4a93-956e-f7dbdae3d0f6 button.colab-df-convert');\n",
              "        buttonEl.style.display =\n",
              "          google.colab.kernel.accessAllowed ? 'block' : 'none';\n",
              "\n",
              "        async function convertToInteractive(key) {\n",
              "          const element = document.querySelector('#df-cf2ef0cf-1486-4a93-956e-f7dbdae3d0f6');\n",
              "          const dataTable =\n",
              "            await google.colab.kernel.invokeFunction('convertToInteractive',\n",
              "                                                     [key], {});\n",
              "          if (!dataTable) return;\n",
              "\n",
              "          const docLinkHtml = 'Like what you see? Visit the ' +\n",
              "            '<a target=\"_blank\" href=https://colab.research.google.com/notebooks/data_table.ipynb>data table notebook</a>'\n",
              "            + ' to learn more about interactive tables.';\n",
              "          element.innerHTML = '';\n",
              "          dataTable['output_type'] = 'display_data';\n",
              "          await google.colab.output.renderOutput(dataTable, element);\n",
              "          const docLink = document.createElement('div');\n",
              "          docLink.innerHTML = docLinkHtml;\n",
              "          element.appendChild(docLink);\n",
              "        }\n",
              "      </script>\n",
              "    </div>\n",
              "  </div>\n",
              "  "
            ]
          },
          "metadata": {},
          "execution_count": 3
        }
      ],
      "source": [
        "df_claim.head()"
      ]
    },
    {
      "cell_type": "code",
      "execution_count": 4,
      "metadata": {
        "colab": {
          "base_uri": "https://localhost:8080/"
        },
        "id": "pbOItIeDkGaA",
        "outputId": "40ddf34b-7cf8-4aae-e04c-0168654d6b78"
      },
      "outputs": [
        {
          "output_type": "stream",
          "name": "stdout",
          "text": [
            "<class 'pandas.core.frame.DataFrame'>\n",
            "RangeIndex: 1000 entries, 0 to 999\n",
            "Data columns (total 40 columns):\n",
            " #   Column                       Non-Null Count  Dtype  \n",
            "---  ------                       --------------  -----  \n",
            " 0   months_as_customer           1000 non-null   int64  \n",
            " 1   age                          1000 non-null   int64  \n",
            " 2   policy_number                1000 non-null   int64  \n",
            " 3   policy_bind_date             1000 non-null   object \n",
            " 4   policy_state                 1000 non-null   object \n",
            " 5   policy_csl                   1000 non-null   object \n",
            " 6   policy_deductable            1000 non-null   int64  \n",
            " 7   policy_annual_premium        1000 non-null   float64\n",
            " 8   umbrella_limit               1000 non-null   int64  \n",
            " 9   insured_zip                  1000 non-null   int64  \n",
            " 10  insured_sex                  1000 non-null   object \n",
            " 11  insured_education_level      1000 non-null   object \n",
            " 12  insured_occupation           1000 non-null   object \n",
            " 13  insured_hobbies              1000 non-null   object \n",
            " 14  insured_relationship         1000 non-null   object \n",
            " 15  capital-gains                1000 non-null   int64  \n",
            " 16  capital-loss                 1000 non-null   int64  \n",
            " 17  incident_date                1000 non-null   object \n",
            " 18  incident_type                1000 non-null   object \n",
            " 19  collision_type               1000 non-null   object \n",
            " 20  incident_severity            1000 non-null   object \n",
            " 21  authorities_contacted        1000 non-null   object \n",
            " 22  incident_state               1000 non-null   object \n",
            " 23  incident_city                1000 non-null   object \n",
            " 24  incident_location            1000 non-null   object \n",
            " 25  incident_hour_of_the_day     1000 non-null   int64  \n",
            " 26  number_of_vehicles_involved  1000 non-null   int64  \n",
            " 27  property_damage              1000 non-null   object \n",
            " 28  bodily_injuries              1000 non-null   int64  \n",
            " 29  witnesses                    1000 non-null   int64  \n",
            " 30  police_report_available      1000 non-null   object \n",
            " 31  total_claim_amount           1000 non-null   int64  \n",
            " 32  injury_claim                 1000 non-null   int64  \n",
            " 33  property_claim               1000 non-null   int64  \n",
            " 34  vehicle_claim                1000 non-null   int64  \n",
            " 35  auto_make                    1000 non-null   object \n",
            " 36  auto_model                   1000 non-null   object \n",
            " 37  auto_year                    1000 non-null   int64  \n",
            " 38  fraud_reported               1000 non-null   object \n",
            " 39  _c39                         0 non-null      float64\n",
            "dtypes: float64(2), int64(17), object(21)\n",
            "memory usage: 312.6+ KB\n"
          ]
        }
      ],
      "source": [
        "df_claim.info()"
      ]
    },
    {
      "cell_type": "code",
      "execution_count": 5,
      "metadata": {
        "colab": {
          "base_uri": "https://localhost:8080/",
          "height": 382
        },
        "id": "7osYYkghkI3_",
        "outputId": "59cf299f-fc22-429c-8ba8-1ad390d4ffcc"
      },
      "outputs": [
        {
          "output_type": "execute_result",
          "data": {
            "text/plain": [
              "       months_as_customer          age  policy_number  policy_deductable  \\\n",
              "count         1000.000000  1000.000000    1000.000000        1000.000000   \n",
              "mean           203.954000    38.948000  546238.648000        1136.000000   \n",
              "std            115.113174     9.140287  257063.005276         611.864673   \n",
              "min              0.000000    19.000000  100804.000000         500.000000   \n",
              "25%            115.750000    32.000000  335980.250000         500.000000   \n",
              "50%            199.500000    38.000000  533135.000000        1000.000000   \n",
              "75%            276.250000    44.000000  759099.750000        2000.000000   \n",
              "max            479.000000    64.000000  999435.000000        2000.000000   \n",
              "\n",
              "       policy_annual_premium  umbrella_limit    insured_zip  capital-gains  \\\n",
              "count            1000.000000    1.000000e+03    1000.000000    1000.000000   \n",
              "mean             1256.406150    1.101000e+06  501214.488000   25126.100000   \n",
              "std               244.167395    2.297407e+06   71701.610941   27872.187708   \n",
              "min               433.330000   -1.000000e+06  430104.000000       0.000000   \n",
              "25%              1089.607500    0.000000e+00  448404.500000       0.000000   \n",
              "50%              1257.200000    0.000000e+00  466445.500000       0.000000   \n",
              "75%              1415.695000    0.000000e+00  603251.000000   51025.000000   \n",
              "max              2047.590000    1.000000e+07  620962.000000  100500.000000   \n",
              "\n",
              "        capital-loss  incident_hour_of_the_day  number_of_vehicles_involved  \\\n",
              "count    1000.000000               1000.000000                   1000.00000   \n",
              "mean   -26793.700000                 11.644000                      1.83900   \n",
              "std     28104.096686                  6.951373                      1.01888   \n",
              "min   -111100.000000                  0.000000                      1.00000   \n",
              "25%    -51500.000000                  6.000000                      1.00000   \n",
              "50%    -23250.000000                 12.000000                      1.00000   \n",
              "75%         0.000000                 17.000000                      3.00000   \n",
              "max         0.000000                 23.000000                      4.00000   \n",
              "\n",
              "       bodily_injuries    witnesses  total_claim_amount  injury_claim  \\\n",
              "count      1000.000000  1000.000000          1000.00000   1000.000000   \n",
              "mean          0.992000     1.487000         52761.94000   7433.420000   \n",
              "std           0.820127     1.111335         26401.53319   4880.951853   \n",
              "min           0.000000     0.000000           100.00000      0.000000   \n",
              "25%           0.000000     1.000000         41812.50000   4295.000000   \n",
              "50%           1.000000     1.000000         58055.00000   6775.000000   \n",
              "75%           2.000000     2.000000         70592.50000  11305.000000   \n",
              "max           2.000000     3.000000        114920.00000  21450.000000   \n",
              "\n",
              "       property_claim  vehicle_claim    auto_year  _c39  \n",
              "count     1000.000000    1000.000000  1000.000000   0.0  \n",
              "mean      7399.570000   37928.950000  2005.103000   NaN  \n",
              "std       4824.726179   18886.252893     6.015861   NaN  \n",
              "min          0.000000      70.000000  1995.000000   NaN  \n",
              "25%       4445.000000   30292.500000  2000.000000   NaN  \n",
              "50%       6750.000000   42100.000000  2005.000000   NaN  \n",
              "75%      10885.000000   50822.500000  2010.000000   NaN  \n",
              "max      23670.000000   79560.000000  2015.000000   NaN  "
            ],
            "text/html": [
              "\n",
              "  <div id=\"df-4f9a9919-98ff-478c-a351-b75b318e06dd\">\n",
              "    <div class=\"colab-df-container\">\n",
              "      <div>\n",
              "<style scoped>\n",
              "    .dataframe tbody tr th:only-of-type {\n",
              "        vertical-align: middle;\n",
              "    }\n",
              "\n",
              "    .dataframe tbody tr th {\n",
              "        vertical-align: top;\n",
              "    }\n",
              "\n",
              "    .dataframe thead th {\n",
              "        text-align: right;\n",
              "    }\n",
              "</style>\n",
              "<table border=\"1\" class=\"dataframe\">\n",
              "  <thead>\n",
              "    <tr style=\"text-align: right;\">\n",
              "      <th></th>\n",
              "      <th>months_as_customer</th>\n",
              "      <th>age</th>\n",
              "      <th>policy_number</th>\n",
              "      <th>policy_deductable</th>\n",
              "      <th>policy_annual_premium</th>\n",
              "      <th>umbrella_limit</th>\n",
              "      <th>insured_zip</th>\n",
              "      <th>capital-gains</th>\n",
              "      <th>capital-loss</th>\n",
              "      <th>incident_hour_of_the_day</th>\n",
              "      <th>number_of_vehicles_involved</th>\n",
              "      <th>bodily_injuries</th>\n",
              "      <th>witnesses</th>\n",
              "      <th>total_claim_amount</th>\n",
              "      <th>injury_claim</th>\n",
              "      <th>property_claim</th>\n",
              "      <th>vehicle_claim</th>\n",
              "      <th>auto_year</th>\n",
              "      <th>_c39</th>\n",
              "    </tr>\n",
              "  </thead>\n",
              "  <tbody>\n",
              "    <tr>\n",
              "      <th>count</th>\n",
              "      <td>1000.000000</td>\n",
              "      <td>1000.000000</td>\n",
              "      <td>1000.000000</td>\n",
              "      <td>1000.000000</td>\n",
              "      <td>1000.000000</td>\n",
              "      <td>1.000000e+03</td>\n",
              "      <td>1000.000000</td>\n",
              "      <td>1000.000000</td>\n",
              "      <td>1000.000000</td>\n",
              "      <td>1000.000000</td>\n",
              "      <td>1000.00000</td>\n",
              "      <td>1000.000000</td>\n",
              "      <td>1000.000000</td>\n",
              "      <td>1000.00000</td>\n",
              "      <td>1000.000000</td>\n",
              "      <td>1000.000000</td>\n",
              "      <td>1000.000000</td>\n",
              "      <td>1000.000000</td>\n",
              "      <td>0.0</td>\n",
              "    </tr>\n",
              "    <tr>\n",
              "      <th>mean</th>\n",
              "      <td>203.954000</td>\n",
              "      <td>38.948000</td>\n",
              "      <td>546238.648000</td>\n",
              "      <td>1136.000000</td>\n",
              "      <td>1256.406150</td>\n",
              "      <td>1.101000e+06</td>\n",
              "      <td>501214.488000</td>\n",
              "      <td>25126.100000</td>\n",
              "      <td>-26793.700000</td>\n",
              "      <td>11.644000</td>\n",
              "      <td>1.83900</td>\n",
              "      <td>0.992000</td>\n",
              "      <td>1.487000</td>\n",
              "      <td>52761.94000</td>\n",
              "      <td>7433.420000</td>\n",
              "      <td>7399.570000</td>\n",
              "      <td>37928.950000</td>\n",
              "      <td>2005.103000</td>\n",
              "      <td>NaN</td>\n",
              "    </tr>\n",
              "    <tr>\n",
              "      <th>std</th>\n",
              "      <td>115.113174</td>\n",
              "      <td>9.140287</td>\n",
              "      <td>257063.005276</td>\n",
              "      <td>611.864673</td>\n",
              "      <td>244.167395</td>\n",
              "      <td>2.297407e+06</td>\n",
              "      <td>71701.610941</td>\n",
              "      <td>27872.187708</td>\n",
              "      <td>28104.096686</td>\n",
              "      <td>6.951373</td>\n",
              "      <td>1.01888</td>\n",
              "      <td>0.820127</td>\n",
              "      <td>1.111335</td>\n",
              "      <td>26401.53319</td>\n",
              "      <td>4880.951853</td>\n",
              "      <td>4824.726179</td>\n",
              "      <td>18886.252893</td>\n",
              "      <td>6.015861</td>\n",
              "      <td>NaN</td>\n",
              "    </tr>\n",
              "    <tr>\n",
              "      <th>min</th>\n",
              "      <td>0.000000</td>\n",
              "      <td>19.000000</td>\n",
              "      <td>100804.000000</td>\n",
              "      <td>500.000000</td>\n",
              "      <td>433.330000</td>\n",
              "      <td>-1.000000e+06</td>\n",
              "      <td>430104.000000</td>\n",
              "      <td>0.000000</td>\n",
              "      <td>-111100.000000</td>\n",
              "      <td>0.000000</td>\n",
              "      <td>1.00000</td>\n",
              "      <td>0.000000</td>\n",
              "      <td>0.000000</td>\n",
              "      <td>100.00000</td>\n",
              "      <td>0.000000</td>\n",
              "      <td>0.000000</td>\n",
              "      <td>70.000000</td>\n",
              "      <td>1995.000000</td>\n",
              "      <td>NaN</td>\n",
              "    </tr>\n",
              "    <tr>\n",
              "      <th>25%</th>\n",
              "      <td>115.750000</td>\n",
              "      <td>32.000000</td>\n",
              "      <td>335980.250000</td>\n",
              "      <td>500.000000</td>\n",
              "      <td>1089.607500</td>\n",
              "      <td>0.000000e+00</td>\n",
              "      <td>448404.500000</td>\n",
              "      <td>0.000000</td>\n",
              "      <td>-51500.000000</td>\n",
              "      <td>6.000000</td>\n",
              "      <td>1.00000</td>\n",
              "      <td>0.000000</td>\n",
              "      <td>1.000000</td>\n",
              "      <td>41812.50000</td>\n",
              "      <td>4295.000000</td>\n",
              "      <td>4445.000000</td>\n",
              "      <td>30292.500000</td>\n",
              "      <td>2000.000000</td>\n",
              "      <td>NaN</td>\n",
              "    </tr>\n",
              "    <tr>\n",
              "      <th>50%</th>\n",
              "      <td>199.500000</td>\n",
              "      <td>38.000000</td>\n",
              "      <td>533135.000000</td>\n",
              "      <td>1000.000000</td>\n",
              "      <td>1257.200000</td>\n",
              "      <td>0.000000e+00</td>\n",
              "      <td>466445.500000</td>\n",
              "      <td>0.000000</td>\n",
              "      <td>-23250.000000</td>\n",
              "      <td>12.000000</td>\n",
              "      <td>1.00000</td>\n",
              "      <td>1.000000</td>\n",
              "      <td>1.000000</td>\n",
              "      <td>58055.00000</td>\n",
              "      <td>6775.000000</td>\n",
              "      <td>6750.000000</td>\n",
              "      <td>42100.000000</td>\n",
              "      <td>2005.000000</td>\n",
              "      <td>NaN</td>\n",
              "    </tr>\n",
              "    <tr>\n",
              "      <th>75%</th>\n",
              "      <td>276.250000</td>\n",
              "      <td>44.000000</td>\n",
              "      <td>759099.750000</td>\n",
              "      <td>2000.000000</td>\n",
              "      <td>1415.695000</td>\n",
              "      <td>0.000000e+00</td>\n",
              "      <td>603251.000000</td>\n",
              "      <td>51025.000000</td>\n",
              "      <td>0.000000</td>\n",
              "      <td>17.000000</td>\n",
              "      <td>3.00000</td>\n",
              "      <td>2.000000</td>\n",
              "      <td>2.000000</td>\n",
              "      <td>70592.50000</td>\n",
              "      <td>11305.000000</td>\n",
              "      <td>10885.000000</td>\n",
              "      <td>50822.500000</td>\n",
              "      <td>2010.000000</td>\n",
              "      <td>NaN</td>\n",
              "    </tr>\n",
              "    <tr>\n",
              "      <th>max</th>\n",
              "      <td>479.000000</td>\n",
              "      <td>64.000000</td>\n",
              "      <td>999435.000000</td>\n",
              "      <td>2000.000000</td>\n",
              "      <td>2047.590000</td>\n",
              "      <td>1.000000e+07</td>\n",
              "      <td>620962.000000</td>\n",
              "      <td>100500.000000</td>\n",
              "      <td>0.000000</td>\n",
              "      <td>23.000000</td>\n",
              "      <td>4.00000</td>\n",
              "      <td>2.000000</td>\n",
              "      <td>3.000000</td>\n",
              "      <td>114920.00000</td>\n",
              "      <td>21450.000000</td>\n",
              "      <td>23670.000000</td>\n",
              "      <td>79560.000000</td>\n",
              "      <td>2015.000000</td>\n",
              "      <td>NaN</td>\n",
              "    </tr>\n",
              "  </tbody>\n",
              "</table>\n",
              "</div>\n",
              "      <button class=\"colab-df-convert\" onclick=\"convertToInteractive('df-4f9a9919-98ff-478c-a351-b75b318e06dd')\"\n",
              "              title=\"Convert this dataframe to an interactive table.\"\n",
              "              style=\"display:none;\">\n",
              "        \n",
              "  <svg xmlns=\"http://www.w3.org/2000/svg\" height=\"24px\"viewBox=\"0 0 24 24\"\n",
              "       width=\"24px\">\n",
              "    <path d=\"M0 0h24v24H0V0z\" fill=\"none\"/>\n",
              "    <path d=\"M18.56 5.44l.94 2.06.94-2.06 2.06-.94-2.06-.94-.94-2.06-.94 2.06-2.06.94zm-11 1L8.5 8.5l.94-2.06 2.06-.94-2.06-.94L8.5 2.5l-.94 2.06-2.06.94zm10 10l.94 2.06.94-2.06 2.06-.94-2.06-.94-.94-2.06-.94 2.06-2.06.94z\"/><path d=\"M17.41 7.96l-1.37-1.37c-.4-.4-.92-.59-1.43-.59-.52 0-1.04.2-1.43.59L10.3 9.45l-7.72 7.72c-.78.78-.78 2.05 0 2.83L4 21.41c.39.39.9.59 1.41.59.51 0 1.02-.2 1.41-.59l7.78-7.78 2.81-2.81c.8-.78.8-2.07 0-2.86zM5.41 20L4 18.59l7.72-7.72 1.47 1.35L5.41 20z\"/>\n",
              "  </svg>\n",
              "      </button>\n",
              "      \n",
              "  <style>\n",
              "    .colab-df-container {\n",
              "      display:flex;\n",
              "      flex-wrap:wrap;\n",
              "      gap: 12px;\n",
              "    }\n",
              "\n",
              "    .colab-df-convert {\n",
              "      background-color: #E8F0FE;\n",
              "      border: none;\n",
              "      border-radius: 50%;\n",
              "      cursor: pointer;\n",
              "      display: none;\n",
              "      fill: #1967D2;\n",
              "      height: 32px;\n",
              "      padding: 0 0 0 0;\n",
              "      width: 32px;\n",
              "    }\n",
              "\n",
              "    .colab-df-convert:hover {\n",
              "      background-color: #E2EBFA;\n",
              "      box-shadow: 0px 1px 2px rgba(60, 64, 67, 0.3), 0px 1px 3px 1px rgba(60, 64, 67, 0.15);\n",
              "      fill: #174EA6;\n",
              "    }\n",
              "\n",
              "    [theme=dark] .colab-df-convert {\n",
              "      background-color: #3B4455;\n",
              "      fill: #D2E3FC;\n",
              "    }\n",
              "\n",
              "    [theme=dark] .colab-df-convert:hover {\n",
              "      background-color: #434B5C;\n",
              "      box-shadow: 0px 1px 3px 1px rgba(0, 0, 0, 0.15);\n",
              "      filter: drop-shadow(0px 1px 2px rgba(0, 0, 0, 0.3));\n",
              "      fill: #FFFFFF;\n",
              "    }\n",
              "  </style>\n",
              "\n",
              "      <script>\n",
              "        const buttonEl =\n",
              "          document.querySelector('#df-4f9a9919-98ff-478c-a351-b75b318e06dd button.colab-df-convert');\n",
              "        buttonEl.style.display =\n",
              "          google.colab.kernel.accessAllowed ? 'block' : 'none';\n",
              "\n",
              "        async function convertToInteractive(key) {\n",
              "          const element = document.querySelector('#df-4f9a9919-98ff-478c-a351-b75b318e06dd');\n",
              "          const dataTable =\n",
              "            await google.colab.kernel.invokeFunction('convertToInteractive',\n",
              "                                                     [key], {});\n",
              "          if (!dataTable) return;\n",
              "\n",
              "          const docLinkHtml = 'Like what you see? Visit the ' +\n",
              "            '<a target=\"_blank\" href=https://colab.research.google.com/notebooks/data_table.ipynb>data table notebook</a>'\n",
              "            + ' to learn more about interactive tables.';\n",
              "          element.innerHTML = '';\n",
              "          dataTable['output_type'] = 'display_data';\n",
              "          await google.colab.output.renderOutput(dataTable, element);\n",
              "          const docLink = document.createElement('div');\n",
              "          docLink.innerHTML = docLinkHtml;\n",
              "          element.appendChild(docLink);\n",
              "        }\n",
              "      </script>\n",
              "    </div>\n",
              "  </div>\n",
              "  "
            ]
          },
          "metadata": {},
          "execution_count": 5
        }
      ],
      "source": [
        "df_claim.describe()"
      ]
    },
    {
      "cell_type": "code",
      "execution_count": 6,
      "metadata": {
        "colab": {
          "base_uri": "https://localhost:8080/"
        },
        "id": "tpKEE4B_kI-T",
        "outputId": "1b0b6c23-5af6-469f-fc43-f96e418f04ed"
      },
      "outputs": [
        {
          "output_type": "execute_result",
          "data": {
            "text/plain": [
              "months_as_customer                0\n",
              "age                               0\n",
              "policy_number                     0\n",
              "policy_bind_date                  0\n",
              "policy_state                      0\n",
              "policy_csl                        0\n",
              "policy_deductable                 0\n",
              "policy_annual_premium             0\n",
              "umbrella_limit                    0\n",
              "insured_zip                       0\n",
              "insured_sex                       0\n",
              "insured_education_level           0\n",
              "insured_occupation                0\n",
              "insured_hobbies                   0\n",
              "insured_relationship              0\n",
              "capital-gains                     0\n",
              "capital-loss                      0\n",
              "incident_date                     0\n",
              "incident_type                     0\n",
              "collision_type                    0\n",
              "incident_severity                 0\n",
              "authorities_contacted             0\n",
              "incident_state                    0\n",
              "incident_city                     0\n",
              "incident_location                 0\n",
              "incident_hour_of_the_day          0\n",
              "number_of_vehicles_involved       0\n",
              "property_damage                   0\n",
              "bodily_injuries                   0\n",
              "witnesses                         0\n",
              "police_report_available           0\n",
              "total_claim_amount                0\n",
              "injury_claim                      0\n",
              "property_claim                    0\n",
              "vehicle_claim                     0\n",
              "auto_make                         0\n",
              "auto_model                        0\n",
              "auto_year                         0\n",
              "fraud_reported                    0\n",
              "_c39                           1000\n",
              "dtype: int64"
            ]
          },
          "metadata": {},
          "execution_count": 6
        }
      ],
      "source": [
        "df_claim.isnull().sum()"
      ]
    },
    {
      "cell_type": "markdown",
      "metadata": {
        "id": "_9qXL6HSm_Cd"
      },
      "source": [
        "The data contains 1000 inputs to 39 variables all of which have zero missing values. Column 40 is empty."
      ]
    },
    {
      "cell_type": "code",
      "execution_count": 7,
      "metadata": {
        "colab": {
          "base_uri": "https://localhost:8080/"
        },
        "id": "1EcRqWeEkJC3",
        "outputId": "0059b496-b093-46b2-bbf3-86861d8d0162"
      },
      "outputs": [
        {
          "output_type": "execute_result",
          "data": {
            "text/plain": [
              "0     NaN\n",
              "1     NaN\n",
              "2     NaN\n",
              "3     NaN\n",
              "4     NaN\n",
              "       ..\n",
              "995   NaN\n",
              "996   NaN\n",
              "997   NaN\n",
              "998   NaN\n",
              "999   NaN\n",
              "Name: _c39, Length: 1000, dtype: float64"
            ]
          },
          "metadata": {},
          "execution_count": 7
        }
      ],
      "source": [
        "df_claim._c39"
      ]
    },
    {
      "cell_type": "markdown",
      "metadata": {
        "id": "LJ_CljC-zOWx"
      },
      "source": [
        "Drop _c39 as it is a null column"
      ]
    },
    {
      "cell_type": "code",
      "execution_count": 8,
      "metadata": {
        "id": "2DBL95GtzPBp"
      },
      "outputs": [],
      "source": [
        "df_claim.drop('_c39',axis=1,inplace=True)"
      ]
    },
    {
      "cell_type": "code",
      "execution_count": 9,
      "metadata": {
        "colab": {
          "base_uri": "https://localhost:8080/"
        },
        "id": "d7iKpUnikJG5",
        "outputId": "8b027419-f2cb-4ece-b008-5b2c11fce40d"
      },
      "outputs": [
        {
          "output_type": "execute_result",
          "data": {
            "text/plain": [
              "0      2014-10-17\n",
              "1      2006-06-27\n",
              "2      2000-09-06\n",
              "3      1990-05-25\n",
              "4      2014-06-06\n",
              "          ...    \n",
              "995    1991-07-16\n",
              "996    2014-01-05\n",
              "997    2003-02-17\n",
              "998    2011-11-18\n",
              "999    1996-11-11\n",
              "Name: policy_bind_date, Length: 1000, dtype: object"
            ]
          },
          "metadata": {},
          "execution_count": 9
        }
      ],
      "source": [
        "df_claim['policy_bind_date']"
      ]
    },
    {
      "cell_type": "code",
      "execution_count": 10,
      "metadata": {
        "colab": {
          "base_uri": "https://localhost:8080/"
        },
        "id": "oc2UXTOzkJLV",
        "outputId": "90d291e9-4bb1-4a9f-dfd3-8438c666c149"
      },
      "outputs": [
        {
          "output_type": "execute_result",
          "data": {
            "text/plain": [
              "0      2015-01-25\n",
              "1      2015-01-21\n",
              "2      2015-02-22\n",
              "3      2015-01-10\n",
              "4      2015-02-17\n",
              "          ...    \n",
              "995    2015-02-22\n",
              "996    2015-01-24\n",
              "997    2015-01-23\n",
              "998    2015-02-26\n",
              "999    2015-02-26\n",
              "Name: incident_date, Length: 1000, dtype: object"
            ]
          },
          "metadata": {},
          "execution_count": 10
        }
      ],
      "source": [
        "df_claim['incident_date']"
      ]
    },
    {
      "cell_type": "code",
      "execution_count": 11,
      "metadata": {
        "id": "YzDis56SpOJF"
      },
      "outputs": [],
      "source": [
        "df_claim['policy_bind_date']=pd.to_datetime(df_claim['policy_bind_date'])\n",
        "df_claim['policy_bind_year'] = df_claim.policy_bind_date.dt.year\n",
        "df_claim['policy_bind_month'] = df_claim.policy_bind_date.dt.month\n",
        "df_claim['policy_bind_day'] = df_claim.policy_bind_date.dt.day\n",
        "df_claim['policy_bind_week_of_year'] = df_claim.policy_bind_date.dt.isocalendar().week\n",
        "df_claim['incident_date'] = pd.to_datetime(df_claim['incident_date'])\n",
        "df_claim['incident_year'] = df_claim.incident_date.dt.year\n",
        "df_claim['incident_month'] = df_claim.incident_date.dt.month\n",
        "df_claim['incident_day'] = df_claim.incident_date.dt.day\n",
        "df_claim['incident_week_of_year'] = df_claim.incident_date.dt.isocalendar().week"
      ]
    },
    {
      "cell_type": "code",
      "execution_count": 12,
      "metadata": {
        "colab": {
          "base_uri": "https://localhost:8080/",
          "height": 299
        },
        "id": "vIaNUh0ypOQ4",
        "outputId": "8cdc4e9b-b4e7-4e16-92aa-7a23279dc0e5"
      },
      "outputs": [
        {
          "output_type": "execute_result",
          "data": {
            "text/plain": [
              "   months_as_customer  age  policy_number policy_bind_date policy_state  \\\n",
              "0                 328   48         521585       2014-10-17           OH   \n",
              "1                 228   42         342868       2006-06-27           IN   \n",
              "2                 134   29         687698       2000-09-06           OH   \n",
              "3                 256   41         227811       1990-05-25           IL   \n",
              "4                 228   44         367455       2014-06-06           IL   \n",
              "\n",
              "  policy_csl  policy_deductable  policy_annual_premium  umbrella_limit  \\\n",
              "0    250/500               1000                1406.91               0   \n",
              "1    250/500               2000                1197.22         5000000   \n",
              "2    100/300               2000                1413.14         5000000   \n",
              "3    250/500               2000                1415.74         6000000   \n",
              "4   500/1000               1000                1583.91         6000000   \n",
              "\n",
              "   insured_zip  ... auto_year fraud_reported policy_bind_year  \\\n",
              "0       466132  ...      2004              Y             2014   \n",
              "1       468176  ...      2007              Y             2006   \n",
              "2       430632  ...      2007              N             2000   \n",
              "3       608117  ...      2014              Y             1990   \n",
              "4       610706  ...      2009              N             2014   \n",
              "\n",
              "  policy_bind_month policy_bind_day  policy_bind_week_of_year  incident_year  \\\n",
              "0                10              17                        42           2015   \n",
              "1                 6              27                        26           2015   \n",
              "2                 9               6                        36           2015   \n",
              "3                 5              25                        21           2015   \n",
              "4                 6               6                        23           2015   \n",
              "\n",
              "  incident_month incident_day incident_week_of_year  \n",
              "0              1           25                     4  \n",
              "1              1           21                     4  \n",
              "2              2           22                     8  \n",
              "3              1           10                     2  \n",
              "4              2           17                     8  \n",
              "\n",
              "[5 rows x 47 columns]"
            ],
            "text/html": [
              "\n",
              "  <div id=\"df-f12baf8c-1da2-44b2-ba83-f5dbaada388f\">\n",
              "    <div class=\"colab-df-container\">\n",
              "      <div>\n",
              "<style scoped>\n",
              "    .dataframe tbody tr th:only-of-type {\n",
              "        vertical-align: middle;\n",
              "    }\n",
              "\n",
              "    .dataframe tbody tr th {\n",
              "        vertical-align: top;\n",
              "    }\n",
              "\n",
              "    .dataframe thead th {\n",
              "        text-align: right;\n",
              "    }\n",
              "</style>\n",
              "<table border=\"1\" class=\"dataframe\">\n",
              "  <thead>\n",
              "    <tr style=\"text-align: right;\">\n",
              "      <th></th>\n",
              "      <th>months_as_customer</th>\n",
              "      <th>age</th>\n",
              "      <th>policy_number</th>\n",
              "      <th>policy_bind_date</th>\n",
              "      <th>policy_state</th>\n",
              "      <th>policy_csl</th>\n",
              "      <th>policy_deductable</th>\n",
              "      <th>policy_annual_premium</th>\n",
              "      <th>umbrella_limit</th>\n",
              "      <th>insured_zip</th>\n",
              "      <th>...</th>\n",
              "      <th>auto_year</th>\n",
              "      <th>fraud_reported</th>\n",
              "      <th>policy_bind_year</th>\n",
              "      <th>policy_bind_month</th>\n",
              "      <th>policy_bind_day</th>\n",
              "      <th>policy_bind_week_of_year</th>\n",
              "      <th>incident_year</th>\n",
              "      <th>incident_month</th>\n",
              "      <th>incident_day</th>\n",
              "      <th>incident_week_of_year</th>\n",
              "    </tr>\n",
              "  </thead>\n",
              "  <tbody>\n",
              "    <tr>\n",
              "      <th>0</th>\n",
              "      <td>328</td>\n",
              "      <td>48</td>\n",
              "      <td>521585</td>\n",
              "      <td>2014-10-17</td>\n",
              "      <td>OH</td>\n",
              "      <td>250/500</td>\n",
              "      <td>1000</td>\n",
              "      <td>1406.91</td>\n",
              "      <td>0</td>\n",
              "      <td>466132</td>\n",
              "      <td>...</td>\n",
              "      <td>2004</td>\n",
              "      <td>Y</td>\n",
              "      <td>2014</td>\n",
              "      <td>10</td>\n",
              "      <td>17</td>\n",
              "      <td>42</td>\n",
              "      <td>2015</td>\n",
              "      <td>1</td>\n",
              "      <td>25</td>\n",
              "      <td>4</td>\n",
              "    </tr>\n",
              "    <tr>\n",
              "      <th>1</th>\n",
              "      <td>228</td>\n",
              "      <td>42</td>\n",
              "      <td>342868</td>\n",
              "      <td>2006-06-27</td>\n",
              "      <td>IN</td>\n",
              "      <td>250/500</td>\n",
              "      <td>2000</td>\n",
              "      <td>1197.22</td>\n",
              "      <td>5000000</td>\n",
              "      <td>468176</td>\n",
              "      <td>...</td>\n",
              "      <td>2007</td>\n",
              "      <td>Y</td>\n",
              "      <td>2006</td>\n",
              "      <td>6</td>\n",
              "      <td>27</td>\n",
              "      <td>26</td>\n",
              "      <td>2015</td>\n",
              "      <td>1</td>\n",
              "      <td>21</td>\n",
              "      <td>4</td>\n",
              "    </tr>\n",
              "    <tr>\n",
              "      <th>2</th>\n",
              "      <td>134</td>\n",
              "      <td>29</td>\n",
              "      <td>687698</td>\n",
              "      <td>2000-09-06</td>\n",
              "      <td>OH</td>\n",
              "      <td>100/300</td>\n",
              "      <td>2000</td>\n",
              "      <td>1413.14</td>\n",
              "      <td>5000000</td>\n",
              "      <td>430632</td>\n",
              "      <td>...</td>\n",
              "      <td>2007</td>\n",
              "      <td>N</td>\n",
              "      <td>2000</td>\n",
              "      <td>9</td>\n",
              "      <td>6</td>\n",
              "      <td>36</td>\n",
              "      <td>2015</td>\n",
              "      <td>2</td>\n",
              "      <td>22</td>\n",
              "      <td>8</td>\n",
              "    </tr>\n",
              "    <tr>\n",
              "      <th>3</th>\n",
              "      <td>256</td>\n",
              "      <td>41</td>\n",
              "      <td>227811</td>\n",
              "      <td>1990-05-25</td>\n",
              "      <td>IL</td>\n",
              "      <td>250/500</td>\n",
              "      <td>2000</td>\n",
              "      <td>1415.74</td>\n",
              "      <td>6000000</td>\n",
              "      <td>608117</td>\n",
              "      <td>...</td>\n",
              "      <td>2014</td>\n",
              "      <td>Y</td>\n",
              "      <td>1990</td>\n",
              "      <td>5</td>\n",
              "      <td>25</td>\n",
              "      <td>21</td>\n",
              "      <td>2015</td>\n",
              "      <td>1</td>\n",
              "      <td>10</td>\n",
              "      <td>2</td>\n",
              "    </tr>\n",
              "    <tr>\n",
              "      <th>4</th>\n",
              "      <td>228</td>\n",
              "      <td>44</td>\n",
              "      <td>367455</td>\n",
              "      <td>2014-06-06</td>\n",
              "      <td>IL</td>\n",
              "      <td>500/1000</td>\n",
              "      <td>1000</td>\n",
              "      <td>1583.91</td>\n",
              "      <td>6000000</td>\n",
              "      <td>610706</td>\n",
              "      <td>...</td>\n",
              "      <td>2009</td>\n",
              "      <td>N</td>\n",
              "      <td>2014</td>\n",
              "      <td>6</td>\n",
              "      <td>6</td>\n",
              "      <td>23</td>\n",
              "      <td>2015</td>\n",
              "      <td>2</td>\n",
              "      <td>17</td>\n",
              "      <td>8</td>\n",
              "    </tr>\n",
              "  </tbody>\n",
              "</table>\n",
              "<p>5 rows × 47 columns</p>\n",
              "</div>\n",
              "      <button class=\"colab-df-convert\" onclick=\"convertToInteractive('df-f12baf8c-1da2-44b2-ba83-f5dbaada388f')\"\n",
              "              title=\"Convert this dataframe to an interactive table.\"\n",
              "              style=\"display:none;\">\n",
              "        \n",
              "  <svg xmlns=\"http://www.w3.org/2000/svg\" height=\"24px\"viewBox=\"0 0 24 24\"\n",
              "       width=\"24px\">\n",
              "    <path d=\"M0 0h24v24H0V0z\" fill=\"none\"/>\n",
              "    <path d=\"M18.56 5.44l.94 2.06.94-2.06 2.06-.94-2.06-.94-.94-2.06-.94 2.06-2.06.94zm-11 1L8.5 8.5l.94-2.06 2.06-.94-2.06-.94L8.5 2.5l-.94 2.06-2.06.94zm10 10l.94 2.06.94-2.06 2.06-.94-2.06-.94-.94-2.06-.94 2.06-2.06.94z\"/><path d=\"M17.41 7.96l-1.37-1.37c-.4-.4-.92-.59-1.43-.59-.52 0-1.04.2-1.43.59L10.3 9.45l-7.72 7.72c-.78.78-.78 2.05 0 2.83L4 21.41c.39.39.9.59 1.41.59.51 0 1.02-.2 1.41-.59l7.78-7.78 2.81-2.81c.8-.78.8-2.07 0-2.86zM5.41 20L4 18.59l7.72-7.72 1.47 1.35L5.41 20z\"/>\n",
              "  </svg>\n",
              "      </button>\n",
              "      \n",
              "  <style>\n",
              "    .colab-df-container {\n",
              "      display:flex;\n",
              "      flex-wrap:wrap;\n",
              "      gap: 12px;\n",
              "    }\n",
              "\n",
              "    .colab-df-convert {\n",
              "      background-color: #E8F0FE;\n",
              "      border: none;\n",
              "      border-radius: 50%;\n",
              "      cursor: pointer;\n",
              "      display: none;\n",
              "      fill: #1967D2;\n",
              "      height: 32px;\n",
              "      padding: 0 0 0 0;\n",
              "      width: 32px;\n",
              "    }\n",
              "\n",
              "    .colab-df-convert:hover {\n",
              "      background-color: #E2EBFA;\n",
              "      box-shadow: 0px 1px 2px rgba(60, 64, 67, 0.3), 0px 1px 3px 1px rgba(60, 64, 67, 0.15);\n",
              "      fill: #174EA6;\n",
              "    }\n",
              "\n",
              "    [theme=dark] .colab-df-convert {\n",
              "      background-color: #3B4455;\n",
              "      fill: #D2E3FC;\n",
              "    }\n",
              "\n",
              "    [theme=dark] .colab-df-convert:hover {\n",
              "      background-color: #434B5C;\n",
              "      box-shadow: 0px 1px 3px 1px rgba(0, 0, 0, 0.15);\n",
              "      filter: drop-shadow(0px 1px 2px rgba(0, 0, 0, 0.3));\n",
              "      fill: #FFFFFF;\n",
              "    }\n",
              "  </style>\n",
              "\n",
              "      <script>\n",
              "        const buttonEl =\n",
              "          document.querySelector('#df-f12baf8c-1da2-44b2-ba83-f5dbaada388f button.colab-df-convert');\n",
              "        buttonEl.style.display =\n",
              "          google.colab.kernel.accessAllowed ? 'block' : 'none';\n",
              "\n",
              "        async function convertToInteractive(key) {\n",
              "          const element = document.querySelector('#df-f12baf8c-1da2-44b2-ba83-f5dbaada388f');\n",
              "          const dataTable =\n",
              "            await google.colab.kernel.invokeFunction('convertToInteractive',\n",
              "                                                     [key], {});\n",
              "          if (!dataTable) return;\n",
              "\n",
              "          const docLinkHtml = 'Like what you see? Visit the ' +\n",
              "            '<a target=\"_blank\" href=https://colab.research.google.com/notebooks/data_table.ipynb>data table notebook</a>'\n",
              "            + ' to learn more about interactive tables.';\n",
              "          element.innerHTML = '';\n",
              "          dataTable['output_type'] = 'display_data';\n",
              "          await google.colab.output.renderOutput(dataTable, element);\n",
              "          const docLink = document.createElement('div');\n",
              "          docLink.innerHTML = docLinkHtml;\n",
              "          element.appendChild(docLink);\n",
              "        }\n",
              "      </script>\n",
              "    </div>\n",
              "  </div>\n",
              "  "
            ]
          },
          "metadata": {},
          "execution_count": 12
        }
      ],
      "source": [
        "df_claim.head()"
      ]
    },
    {
      "cell_type": "code",
      "execution_count": 13,
      "metadata": {
        "colab": {
          "base_uri": "https://localhost:8080/"
        },
        "id": "kcN58kTvtrag",
        "outputId": "2da4b560-08a9-43a8-d041-706af14ca126"
      },
      "outputs": [
        {
          "output_type": "stream",
          "name": "stdout",
          "text": [
            "<class 'pandas.core.frame.DataFrame'>\n",
            "RangeIndex: 1000 entries, 0 to 999\n",
            "Data columns (total 47 columns):\n",
            " #   Column                       Non-Null Count  Dtype         \n",
            "---  ------                       --------------  -----         \n",
            " 0   months_as_customer           1000 non-null   int64         \n",
            " 1   age                          1000 non-null   int64         \n",
            " 2   policy_number                1000 non-null   int64         \n",
            " 3   policy_bind_date             1000 non-null   datetime64[ns]\n",
            " 4   policy_state                 1000 non-null   object        \n",
            " 5   policy_csl                   1000 non-null   object        \n",
            " 6   policy_deductable            1000 non-null   int64         \n",
            " 7   policy_annual_premium        1000 non-null   float64       \n",
            " 8   umbrella_limit               1000 non-null   int64         \n",
            " 9   insured_zip                  1000 non-null   int64         \n",
            " 10  insured_sex                  1000 non-null   object        \n",
            " 11  insured_education_level      1000 non-null   object        \n",
            " 12  insured_occupation           1000 non-null   object        \n",
            " 13  insured_hobbies              1000 non-null   object        \n",
            " 14  insured_relationship         1000 non-null   object        \n",
            " 15  capital-gains                1000 non-null   int64         \n",
            " 16  capital-loss                 1000 non-null   int64         \n",
            " 17  incident_date                1000 non-null   datetime64[ns]\n",
            " 18  incident_type                1000 non-null   object        \n",
            " 19  collision_type               1000 non-null   object        \n",
            " 20  incident_severity            1000 non-null   object        \n",
            " 21  authorities_contacted        1000 non-null   object        \n",
            " 22  incident_state               1000 non-null   object        \n",
            " 23  incident_city                1000 non-null   object        \n",
            " 24  incident_location            1000 non-null   object        \n",
            " 25  incident_hour_of_the_day     1000 non-null   int64         \n",
            " 26  number_of_vehicles_involved  1000 non-null   int64         \n",
            " 27  property_damage              1000 non-null   object        \n",
            " 28  bodily_injuries              1000 non-null   int64         \n",
            " 29  witnesses                    1000 non-null   int64         \n",
            " 30  police_report_available      1000 non-null   object        \n",
            " 31  total_claim_amount           1000 non-null   int64         \n",
            " 32  injury_claim                 1000 non-null   int64         \n",
            " 33  property_claim               1000 non-null   int64         \n",
            " 34  vehicle_claim                1000 non-null   int64         \n",
            " 35  auto_make                    1000 non-null   object        \n",
            " 36  auto_model                   1000 non-null   object        \n",
            " 37  auto_year                    1000 non-null   int64         \n",
            " 38  fraud_reported               1000 non-null   object        \n",
            " 39  policy_bind_year             1000 non-null   int64         \n",
            " 40  policy_bind_month            1000 non-null   int64         \n",
            " 41  policy_bind_day              1000 non-null   int64         \n",
            " 42  policy_bind_week_of_year     1000 non-null   UInt32        \n",
            " 43  incident_year                1000 non-null   int64         \n",
            " 44  incident_month               1000 non-null   int64         \n",
            " 45  incident_day                 1000 non-null   int64         \n",
            " 46  incident_week_of_year        1000 non-null   UInt32        \n",
            "dtypes: UInt32(2), datetime64[ns](2), float64(1), int64(23), object(19)\n",
            "memory usage: 361.5+ KB\n"
          ]
        }
      ],
      "source": [
        "df_claim.info()"
      ]
    },
    {
      "cell_type": "markdown",
      "metadata": {
        "id": "S-ozIdAhtTQm"
      },
      "source": [
        "now we can see the insurance claimed after how many months"
      ]
    },
    {
      "cell_type": "code",
      "execution_count": 14,
      "metadata": {
        "id": "CAsbTPCztS6q"
      },
      "outputs": [],
      "source": [
        "df_claim['incident_time']=12*(df_claim['incident_year']-df_claim['policy_bind_year'])+(df_claim['incident_month']-df_claim['policy_bind_month'])"
      ]
    },
    {
      "cell_type": "code",
      "execution_count": 15,
      "metadata": {
        "colab": {
          "base_uri": "https://localhost:8080/"
        },
        "id": "YpigsdQ7pOX-",
        "outputId": "d9271296-a2a3-4632-9267-eb85896bac25"
      },
      "outputs": [
        {
          "output_type": "execute_result",
          "data": {
            "text/plain": [
              "0"
            ]
          },
          "metadata": {},
          "execution_count": 15
        }
      ],
      "source": [
        "df_claim['incident_time'].isnull().sum()"
      ]
    },
    {
      "cell_type": "code",
      "execution_count": 16,
      "metadata": {
        "colab": {
          "base_uri": "https://localhost:8080/",
          "height": 424
        },
        "id": "LDqIma_ZpOe2",
        "outputId": "12492bca-32f4-448c-8f83-a7387f9331e8"
      },
      "outputs": [
        {
          "output_type": "execute_result",
          "data": {
            "text/plain": [
              "    policy_bind_date incident_date  incident_time\n",
              "0         2014-10-17    2015-01-25              3\n",
              "1         2006-06-27    2015-01-21            103\n",
              "2         2000-09-06    2015-02-22            173\n",
              "3         1990-05-25    2015-01-10            296\n",
              "4         2014-06-06    2015-02-17              8\n",
              "..               ...           ...            ...\n",
              "995       1991-07-16    2015-02-22            283\n",
              "996       2014-01-05    2015-01-24             12\n",
              "997       2003-02-17    2015-01-23            143\n",
              "998       2011-11-18    2015-02-26             39\n",
              "999       1996-11-11    2015-02-26            219\n",
              "\n",
              "[1000 rows x 3 columns]"
            ],
            "text/html": [
              "\n",
              "  <div id=\"df-3a590b26-fa28-4162-834c-9d81049b5fe0\">\n",
              "    <div class=\"colab-df-container\">\n",
              "      <div>\n",
              "<style scoped>\n",
              "    .dataframe tbody tr th:only-of-type {\n",
              "        vertical-align: middle;\n",
              "    }\n",
              "\n",
              "    .dataframe tbody tr th {\n",
              "        vertical-align: top;\n",
              "    }\n",
              "\n",
              "    .dataframe thead th {\n",
              "        text-align: right;\n",
              "    }\n",
              "</style>\n",
              "<table border=\"1\" class=\"dataframe\">\n",
              "  <thead>\n",
              "    <tr style=\"text-align: right;\">\n",
              "      <th></th>\n",
              "      <th>policy_bind_date</th>\n",
              "      <th>incident_date</th>\n",
              "      <th>incident_time</th>\n",
              "    </tr>\n",
              "  </thead>\n",
              "  <tbody>\n",
              "    <tr>\n",
              "      <th>0</th>\n",
              "      <td>2014-10-17</td>\n",
              "      <td>2015-01-25</td>\n",
              "      <td>3</td>\n",
              "    </tr>\n",
              "    <tr>\n",
              "      <th>1</th>\n",
              "      <td>2006-06-27</td>\n",
              "      <td>2015-01-21</td>\n",
              "      <td>103</td>\n",
              "    </tr>\n",
              "    <tr>\n",
              "      <th>2</th>\n",
              "      <td>2000-09-06</td>\n",
              "      <td>2015-02-22</td>\n",
              "      <td>173</td>\n",
              "    </tr>\n",
              "    <tr>\n",
              "      <th>3</th>\n",
              "      <td>1990-05-25</td>\n",
              "      <td>2015-01-10</td>\n",
              "      <td>296</td>\n",
              "    </tr>\n",
              "    <tr>\n",
              "      <th>4</th>\n",
              "      <td>2014-06-06</td>\n",
              "      <td>2015-02-17</td>\n",
              "      <td>8</td>\n",
              "    </tr>\n",
              "    <tr>\n",
              "      <th>...</th>\n",
              "      <td>...</td>\n",
              "      <td>...</td>\n",
              "      <td>...</td>\n",
              "    </tr>\n",
              "    <tr>\n",
              "      <th>995</th>\n",
              "      <td>1991-07-16</td>\n",
              "      <td>2015-02-22</td>\n",
              "      <td>283</td>\n",
              "    </tr>\n",
              "    <tr>\n",
              "      <th>996</th>\n",
              "      <td>2014-01-05</td>\n",
              "      <td>2015-01-24</td>\n",
              "      <td>12</td>\n",
              "    </tr>\n",
              "    <tr>\n",
              "      <th>997</th>\n",
              "      <td>2003-02-17</td>\n",
              "      <td>2015-01-23</td>\n",
              "      <td>143</td>\n",
              "    </tr>\n",
              "    <tr>\n",
              "      <th>998</th>\n",
              "      <td>2011-11-18</td>\n",
              "      <td>2015-02-26</td>\n",
              "      <td>39</td>\n",
              "    </tr>\n",
              "    <tr>\n",
              "      <th>999</th>\n",
              "      <td>1996-11-11</td>\n",
              "      <td>2015-02-26</td>\n",
              "      <td>219</td>\n",
              "    </tr>\n",
              "  </tbody>\n",
              "</table>\n",
              "<p>1000 rows × 3 columns</p>\n",
              "</div>\n",
              "      <button class=\"colab-df-convert\" onclick=\"convertToInteractive('df-3a590b26-fa28-4162-834c-9d81049b5fe0')\"\n",
              "              title=\"Convert this dataframe to an interactive table.\"\n",
              "              style=\"display:none;\">\n",
              "        \n",
              "  <svg xmlns=\"http://www.w3.org/2000/svg\" height=\"24px\"viewBox=\"0 0 24 24\"\n",
              "       width=\"24px\">\n",
              "    <path d=\"M0 0h24v24H0V0z\" fill=\"none\"/>\n",
              "    <path d=\"M18.56 5.44l.94 2.06.94-2.06 2.06-.94-2.06-.94-.94-2.06-.94 2.06-2.06.94zm-11 1L8.5 8.5l.94-2.06 2.06-.94-2.06-.94L8.5 2.5l-.94 2.06-2.06.94zm10 10l.94 2.06.94-2.06 2.06-.94-2.06-.94-.94-2.06-.94 2.06-2.06.94z\"/><path d=\"M17.41 7.96l-1.37-1.37c-.4-.4-.92-.59-1.43-.59-.52 0-1.04.2-1.43.59L10.3 9.45l-7.72 7.72c-.78.78-.78 2.05 0 2.83L4 21.41c.39.39.9.59 1.41.59.51 0 1.02-.2 1.41-.59l7.78-7.78 2.81-2.81c.8-.78.8-2.07 0-2.86zM5.41 20L4 18.59l7.72-7.72 1.47 1.35L5.41 20z\"/>\n",
              "  </svg>\n",
              "      </button>\n",
              "      \n",
              "  <style>\n",
              "    .colab-df-container {\n",
              "      display:flex;\n",
              "      flex-wrap:wrap;\n",
              "      gap: 12px;\n",
              "    }\n",
              "\n",
              "    .colab-df-convert {\n",
              "      background-color: #E8F0FE;\n",
              "      border: none;\n",
              "      border-radius: 50%;\n",
              "      cursor: pointer;\n",
              "      display: none;\n",
              "      fill: #1967D2;\n",
              "      height: 32px;\n",
              "      padding: 0 0 0 0;\n",
              "      width: 32px;\n",
              "    }\n",
              "\n",
              "    .colab-df-convert:hover {\n",
              "      background-color: #E2EBFA;\n",
              "      box-shadow: 0px 1px 2px rgba(60, 64, 67, 0.3), 0px 1px 3px 1px rgba(60, 64, 67, 0.15);\n",
              "      fill: #174EA6;\n",
              "    }\n",
              "\n",
              "    [theme=dark] .colab-df-convert {\n",
              "      background-color: #3B4455;\n",
              "      fill: #D2E3FC;\n",
              "    }\n",
              "\n",
              "    [theme=dark] .colab-df-convert:hover {\n",
              "      background-color: #434B5C;\n",
              "      box-shadow: 0px 1px 3px 1px rgba(0, 0, 0, 0.15);\n",
              "      filter: drop-shadow(0px 1px 2px rgba(0, 0, 0, 0.3));\n",
              "      fill: #FFFFFF;\n",
              "    }\n",
              "  </style>\n",
              "\n",
              "      <script>\n",
              "        const buttonEl =\n",
              "          document.querySelector('#df-3a590b26-fa28-4162-834c-9d81049b5fe0 button.colab-df-convert');\n",
              "        buttonEl.style.display =\n",
              "          google.colab.kernel.accessAllowed ? 'block' : 'none';\n",
              "\n",
              "        async function convertToInteractive(key) {\n",
              "          const element = document.querySelector('#df-3a590b26-fa28-4162-834c-9d81049b5fe0');\n",
              "          const dataTable =\n",
              "            await google.colab.kernel.invokeFunction('convertToInteractive',\n",
              "                                                     [key], {});\n",
              "          if (!dataTable) return;\n",
              "\n",
              "          const docLinkHtml = 'Like what you see? Visit the ' +\n",
              "            '<a target=\"_blank\" href=https://colab.research.google.com/notebooks/data_table.ipynb>data table notebook</a>'\n",
              "            + ' to learn more about interactive tables.';\n",
              "          element.innerHTML = '';\n",
              "          dataTable['output_type'] = 'display_data';\n",
              "          await google.colab.output.renderOutput(dataTable, element);\n",
              "          const docLink = document.createElement('div');\n",
              "          docLink.innerHTML = docLinkHtml;\n",
              "          element.appendChild(docLink);\n",
              "        }\n",
              "      </script>\n",
              "    </div>\n",
              "  </div>\n",
              "  "
            ]
          },
          "metadata": {},
          "execution_count": 16
        }
      ],
      "source": [
        "df_claim[['policy_bind_date', 'incident_date', 'incident_time']]"
      ]
    },
    {
      "cell_type": "code",
      "execution_count": 17,
      "metadata": {
        "colab": {
          "base_uri": "https://localhost:8080/"
        },
        "id": "IURDoANzpOll",
        "outputId": "1f4b13a2-a124-4cf3-95d3-37e8d5d15879"
      },
      "outputs": [
        {
          "output_type": "execute_result",
          "data": {
            "text/plain": [
              "(1000, 48)"
            ]
          },
          "metadata": {},
          "execution_count": 17
        }
      ],
      "source": [
        "df_claim.shape"
      ]
    },
    {
      "cell_type": "code",
      "execution_count": 18,
      "metadata": {
        "colab": {
          "base_uri": "https://localhost:8080/"
        },
        "id": "6rdIkgUfpOrj",
        "outputId": "79585af0-5bc7-4a5c-9386-81691391e8a7"
      },
      "outputs": [
        {
          "output_type": "stream",
          "name": "stdout",
          "text": [
            "<class 'pandas.core.frame.DataFrame'>\n",
            "RangeIndex: 1000 entries, 0 to 999\n",
            "Data columns (total 48 columns):\n",
            " #   Column                       Non-Null Count  Dtype         \n",
            "---  ------                       --------------  -----         \n",
            " 0   months_as_customer           1000 non-null   int64         \n",
            " 1   age                          1000 non-null   int64         \n",
            " 2   policy_number                1000 non-null   int64         \n",
            " 3   policy_bind_date             1000 non-null   datetime64[ns]\n",
            " 4   policy_state                 1000 non-null   object        \n",
            " 5   policy_csl                   1000 non-null   object        \n",
            " 6   policy_deductable            1000 non-null   int64         \n",
            " 7   policy_annual_premium        1000 non-null   float64       \n",
            " 8   umbrella_limit               1000 non-null   int64         \n",
            " 9   insured_zip                  1000 non-null   int64         \n",
            " 10  insured_sex                  1000 non-null   object        \n",
            " 11  insured_education_level      1000 non-null   object        \n",
            " 12  insured_occupation           1000 non-null   object        \n",
            " 13  insured_hobbies              1000 non-null   object        \n",
            " 14  insured_relationship         1000 non-null   object        \n",
            " 15  capital-gains                1000 non-null   int64         \n",
            " 16  capital-loss                 1000 non-null   int64         \n",
            " 17  incident_date                1000 non-null   datetime64[ns]\n",
            " 18  incident_type                1000 non-null   object        \n",
            " 19  collision_type               1000 non-null   object        \n",
            " 20  incident_severity            1000 non-null   object        \n",
            " 21  authorities_contacted        1000 non-null   object        \n",
            " 22  incident_state               1000 non-null   object        \n",
            " 23  incident_city                1000 non-null   object        \n",
            " 24  incident_location            1000 non-null   object        \n",
            " 25  incident_hour_of_the_day     1000 non-null   int64         \n",
            " 26  number_of_vehicles_involved  1000 non-null   int64         \n",
            " 27  property_damage              1000 non-null   object        \n",
            " 28  bodily_injuries              1000 non-null   int64         \n",
            " 29  witnesses                    1000 non-null   int64         \n",
            " 30  police_report_available      1000 non-null   object        \n",
            " 31  total_claim_amount           1000 non-null   int64         \n",
            " 32  injury_claim                 1000 non-null   int64         \n",
            " 33  property_claim               1000 non-null   int64         \n",
            " 34  vehicle_claim                1000 non-null   int64         \n",
            " 35  auto_make                    1000 non-null   object        \n",
            " 36  auto_model                   1000 non-null   object        \n",
            " 37  auto_year                    1000 non-null   int64         \n",
            " 38  fraud_reported               1000 non-null   object        \n",
            " 39  policy_bind_year             1000 non-null   int64         \n",
            " 40  policy_bind_month            1000 non-null   int64         \n",
            " 41  policy_bind_day              1000 non-null   int64         \n",
            " 42  policy_bind_week_of_year     1000 non-null   UInt32        \n",
            " 43  incident_year                1000 non-null   int64         \n",
            " 44  incident_month               1000 non-null   int64         \n",
            " 45  incident_day                 1000 non-null   int64         \n",
            " 46  incident_week_of_year        1000 non-null   UInt32        \n",
            " 47  incident_time                1000 non-null   int64         \n",
            "dtypes: UInt32(2), datetime64[ns](2), float64(1), int64(24), object(19)\n",
            "memory usage: 369.3+ KB\n"
          ]
        }
      ],
      "source": [
        "df_claim.info()"
      ]
    },
    {
      "cell_type": "code",
      "execution_count": 19,
      "metadata": {
        "colab": {
          "base_uri": "https://localhost:8080/",
          "height": 411
        },
        "id": "C68UN_77pOxi",
        "outputId": "0fa01a7c-10a8-4c23-ffa4-740f37fd005f"
      },
      "outputs": [
        {
          "output_type": "execute_result",
          "data": {
            "text/plain": [
              "       months_as_customer          age  policy_number  policy_deductable  \\\n",
              "count         1000.000000  1000.000000    1000.000000        1000.000000   \n",
              "mean           203.954000    38.948000  546238.648000        1136.000000   \n",
              "std            115.113174     9.140287  257063.005276         611.864673   \n",
              "min              0.000000    19.000000  100804.000000         500.000000   \n",
              "25%            115.750000    32.000000  335980.250000         500.000000   \n",
              "50%            199.500000    38.000000  533135.000000        1000.000000   \n",
              "75%            276.250000    44.000000  759099.750000        2000.000000   \n",
              "max            479.000000    64.000000  999435.000000        2000.000000   \n",
              "\n",
              "       policy_annual_premium  umbrella_limit    insured_zip  capital-gains  \\\n",
              "count            1000.000000    1.000000e+03    1000.000000    1000.000000   \n",
              "mean             1256.406150    1.101000e+06  501214.488000   25126.100000   \n",
              "std               244.167395    2.297407e+06   71701.610941   27872.187708   \n",
              "min               433.330000   -1.000000e+06  430104.000000       0.000000   \n",
              "25%              1089.607500    0.000000e+00  448404.500000       0.000000   \n",
              "50%              1257.200000    0.000000e+00  466445.500000       0.000000   \n",
              "75%              1415.695000    0.000000e+00  603251.000000   51025.000000   \n",
              "max              2047.590000    1.000000e+07  620962.000000  100500.000000   \n",
              "\n",
              "        capital-loss  incident_hour_of_the_day  ...    auto_year  \\\n",
              "count    1000.000000               1000.000000  ...  1000.000000   \n",
              "mean   -26793.700000                 11.644000  ...  2005.103000   \n",
              "std     28104.096686                  6.951373  ...     6.015861   \n",
              "min   -111100.000000                  0.000000  ...  1995.000000   \n",
              "25%    -51500.000000                  6.000000  ...  2000.000000   \n",
              "50%    -23250.000000                 12.000000  ...  2005.000000   \n",
              "75%         0.000000                 17.000000  ...  2010.000000   \n",
              "max         0.000000                 23.000000  ...  2015.000000   \n",
              "\n",
              "       policy_bind_year  policy_bind_month  policy_bind_day  \\\n",
              "count       1000.000000        1000.000000      1000.000000   \n",
              "mean        2001.604000           6.559000        15.448000   \n",
              "std            7.360391           3.499824         8.808001   \n",
              "min         1990.000000           1.000000         1.000000   \n",
              "25%         1995.000000           3.000000         8.000000   \n",
              "50%         2002.000000           7.000000        16.000000   \n",
              "75%         2008.000000          10.000000        23.000000   \n",
              "max         2015.000000          12.000000        31.000000   \n",
              "\n",
              "       policy_bind_week_of_year  incident_year  incident_month  incident_day  \\\n",
              "count               1000.000000         1000.0     1000.000000   1000.000000   \n",
              "mean                  26.715000         2015.0        1.496000     14.995000   \n",
              "std                   15.293714            0.0        0.523697      8.670995   \n",
              "min                    1.000000         2015.0        1.000000      1.000000   \n",
              "25%                   13.000000         2015.0        1.000000      7.750000   \n",
              "50%                   27.000000         2015.0        1.000000     15.000000   \n",
              "75%                   40.000000         2015.0        2.000000     22.000000   \n",
              "max                   53.000000         2015.0        3.000000     31.000000   \n",
              "\n",
              "       incident_week_of_year  incident_time  \n",
              "count            1000.000000    1000.000000  \n",
              "mean                5.184000     155.689000  \n",
              "std                 2.468651      88.267522  \n",
              "min                 1.000000       0.000000  \n",
              "25%                 3.000000      82.000000  \n",
              "50%                 5.000000     153.000000  \n",
              "75%                 7.000000     232.000000  \n",
              "max                 9.000000     301.000000  \n",
              "\n",
              "[8 rows x 27 columns]"
            ],
            "text/html": [
              "\n",
              "  <div id=\"df-fa6cd091-be47-449d-86a9-16e647da57c7\">\n",
              "    <div class=\"colab-df-container\">\n",
              "      <div>\n",
              "<style scoped>\n",
              "    .dataframe tbody tr th:only-of-type {\n",
              "        vertical-align: middle;\n",
              "    }\n",
              "\n",
              "    .dataframe tbody tr th {\n",
              "        vertical-align: top;\n",
              "    }\n",
              "\n",
              "    .dataframe thead th {\n",
              "        text-align: right;\n",
              "    }\n",
              "</style>\n",
              "<table border=\"1\" class=\"dataframe\">\n",
              "  <thead>\n",
              "    <tr style=\"text-align: right;\">\n",
              "      <th></th>\n",
              "      <th>months_as_customer</th>\n",
              "      <th>age</th>\n",
              "      <th>policy_number</th>\n",
              "      <th>policy_deductable</th>\n",
              "      <th>policy_annual_premium</th>\n",
              "      <th>umbrella_limit</th>\n",
              "      <th>insured_zip</th>\n",
              "      <th>capital-gains</th>\n",
              "      <th>capital-loss</th>\n",
              "      <th>incident_hour_of_the_day</th>\n",
              "      <th>...</th>\n",
              "      <th>auto_year</th>\n",
              "      <th>policy_bind_year</th>\n",
              "      <th>policy_bind_month</th>\n",
              "      <th>policy_bind_day</th>\n",
              "      <th>policy_bind_week_of_year</th>\n",
              "      <th>incident_year</th>\n",
              "      <th>incident_month</th>\n",
              "      <th>incident_day</th>\n",
              "      <th>incident_week_of_year</th>\n",
              "      <th>incident_time</th>\n",
              "    </tr>\n",
              "  </thead>\n",
              "  <tbody>\n",
              "    <tr>\n",
              "      <th>count</th>\n",
              "      <td>1000.000000</td>\n",
              "      <td>1000.000000</td>\n",
              "      <td>1000.000000</td>\n",
              "      <td>1000.000000</td>\n",
              "      <td>1000.000000</td>\n",
              "      <td>1.000000e+03</td>\n",
              "      <td>1000.000000</td>\n",
              "      <td>1000.000000</td>\n",
              "      <td>1000.000000</td>\n",
              "      <td>1000.000000</td>\n",
              "      <td>...</td>\n",
              "      <td>1000.000000</td>\n",
              "      <td>1000.000000</td>\n",
              "      <td>1000.000000</td>\n",
              "      <td>1000.000000</td>\n",
              "      <td>1000.000000</td>\n",
              "      <td>1000.0</td>\n",
              "      <td>1000.000000</td>\n",
              "      <td>1000.000000</td>\n",
              "      <td>1000.000000</td>\n",
              "      <td>1000.000000</td>\n",
              "    </tr>\n",
              "    <tr>\n",
              "      <th>mean</th>\n",
              "      <td>203.954000</td>\n",
              "      <td>38.948000</td>\n",
              "      <td>546238.648000</td>\n",
              "      <td>1136.000000</td>\n",
              "      <td>1256.406150</td>\n",
              "      <td>1.101000e+06</td>\n",
              "      <td>501214.488000</td>\n",
              "      <td>25126.100000</td>\n",
              "      <td>-26793.700000</td>\n",
              "      <td>11.644000</td>\n",
              "      <td>...</td>\n",
              "      <td>2005.103000</td>\n",
              "      <td>2001.604000</td>\n",
              "      <td>6.559000</td>\n",
              "      <td>15.448000</td>\n",
              "      <td>26.715000</td>\n",
              "      <td>2015.0</td>\n",
              "      <td>1.496000</td>\n",
              "      <td>14.995000</td>\n",
              "      <td>5.184000</td>\n",
              "      <td>155.689000</td>\n",
              "    </tr>\n",
              "    <tr>\n",
              "      <th>std</th>\n",
              "      <td>115.113174</td>\n",
              "      <td>9.140287</td>\n",
              "      <td>257063.005276</td>\n",
              "      <td>611.864673</td>\n",
              "      <td>244.167395</td>\n",
              "      <td>2.297407e+06</td>\n",
              "      <td>71701.610941</td>\n",
              "      <td>27872.187708</td>\n",
              "      <td>28104.096686</td>\n",
              "      <td>6.951373</td>\n",
              "      <td>...</td>\n",
              "      <td>6.015861</td>\n",
              "      <td>7.360391</td>\n",
              "      <td>3.499824</td>\n",
              "      <td>8.808001</td>\n",
              "      <td>15.293714</td>\n",
              "      <td>0.0</td>\n",
              "      <td>0.523697</td>\n",
              "      <td>8.670995</td>\n",
              "      <td>2.468651</td>\n",
              "      <td>88.267522</td>\n",
              "    </tr>\n",
              "    <tr>\n",
              "      <th>min</th>\n",
              "      <td>0.000000</td>\n",
              "      <td>19.000000</td>\n",
              "      <td>100804.000000</td>\n",
              "      <td>500.000000</td>\n",
              "      <td>433.330000</td>\n",
              "      <td>-1.000000e+06</td>\n",
              "      <td>430104.000000</td>\n",
              "      <td>0.000000</td>\n",
              "      <td>-111100.000000</td>\n",
              "      <td>0.000000</td>\n",
              "      <td>...</td>\n",
              "      <td>1995.000000</td>\n",
              "      <td>1990.000000</td>\n",
              "      <td>1.000000</td>\n",
              "      <td>1.000000</td>\n",
              "      <td>1.000000</td>\n",
              "      <td>2015.0</td>\n",
              "      <td>1.000000</td>\n",
              "      <td>1.000000</td>\n",
              "      <td>1.000000</td>\n",
              "      <td>0.000000</td>\n",
              "    </tr>\n",
              "    <tr>\n",
              "      <th>25%</th>\n",
              "      <td>115.750000</td>\n",
              "      <td>32.000000</td>\n",
              "      <td>335980.250000</td>\n",
              "      <td>500.000000</td>\n",
              "      <td>1089.607500</td>\n",
              "      <td>0.000000e+00</td>\n",
              "      <td>448404.500000</td>\n",
              "      <td>0.000000</td>\n",
              "      <td>-51500.000000</td>\n",
              "      <td>6.000000</td>\n",
              "      <td>...</td>\n",
              "      <td>2000.000000</td>\n",
              "      <td>1995.000000</td>\n",
              "      <td>3.000000</td>\n",
              "      <td>8.000000</td>\n",
              "      <td>13.000000</td>\n",
              "      <td>2015.0</td>\n",
              "      <td>1.000000</td>\n",
              "      <td>7.750000</td>\n",
              "      <td>3.000000</td>\n",
              "      <td>82.000000</td>\n",
              "    </tr>\n",
              "    <tr>\n",
              "      <th>50%</th>\n",
              "      <td>199.500000</td>\n",
              "      <td>38.000000</td>\n",
              "      <td>533135.000000</td>\n",
              "      <td>1000.000000</td>\n",
              "      <td>1257.200000</td>\n",
              "      <td>0.000000e+00</td>\n",
              "      <td>466445.500000</td>\n",
              "      <td>0.000000</td>\n",
              "      <td>-23250.000000</td>\n",
              "      <td>12.000000</td>\n",
              "      <td>...</td>\n",
              "      <td>2005.000000</td>\n",
              "      <td>2002.000000</td>\n",
              "      <td>7.000000</td>\n",
              "      <td>16.000000</td>\n",
              "      <td>27.000000</td>\n",
              "      <td>2015.0</td>\n",
              "      <td>1.000000</td>\n",
              "      <td>15.000000</td>\n",
              "      <td>5.000000</td>\n",
              "      <td>153.000000</td>\n",
              "    </tr>\n",
              "    <tr>\n",
              "      <th>75%</th>\n",
              "      <td>276.250000</td>\n",
              "      <td>44.000000</td>\n",
              "      <td>759099.750000</td>\n",
              "      <td>2000.000000</td>\n",
              "      <td>1415.695000</td>\n",
              "      <td>0.000000e+00</td>\n",
              "      <td>603251.000000</td>\n",
              "      <td>51025.000000</td>\n",
              "      <td>0.000000</td>\n",
              "      <td>17.000000</td>\n",
              "      <td>...</td>\n",
              "      <td>2010.000000</td>\n",
              "      <td>2008.000000</td>\n",
              "      <td>10.000000</td>\n",
              "      <td>23.000000</td>\n",
              "      <td>40.000000</td>\n",
              "      <td>2015.0</td>\n",
              "      <td>2.000000</td>\n",
              "      <td>22.000000</td>\n",
              "      <td>7.000000</td>\n",
              "      <td>232.000000</td>\n",
              "    </tr>\n",
              "    <tr>\n",
              "      <th>max</th>\n",
              "      <td>479.000000</td>\n",
              "      <td>64.000000</td>\n",
              "      <td>999435.000000</td>\n",
              "      <td>2000.000000</td>\n",
              "      <td>2047.590000</td>\n",
              "      <td>1.000000e+07</td>\n",
              "      <td>620962.000000</td>\n",
              "      <td>100500.000000</td>\n",
              "      <td>0.000000</td>\n",
              "      <td>23.000000</td>\n",
              "      <td>...</td>\n",
              "      <td>2015.000000</td>\n",
              "      <td>2015.000000</td>\n",
              "      <td>12.000000</td>\n",
              "      <td>31.000000</td>\n",
              "      <td>53.000000</td>\n",
              "      <td>2015.0</td>\n",
              "      <td>3.000000</td>\n",
              "      <td>31.000000</td>\n",
              "      <td>9.000000</td>\n",
              "      <td>301.000000</td>\n",
              "    </tr>\n",
              "  </tbody>\n",
              "</table>\n",
              "<p>8 rows × 27 columns</p>\n",
              "</div>\n",
              "      <button class=\"colab-df-convert\" onclick=\"convertToInteractive('df-fa6cd091-be47-449d-86a9-16e647da57c7')\"\n",
              "              title=\"Convert this dataframe to an interactive table.\"\n",
              "              style=\"display:none;\">\n",
              "        \n",
              "  <svg xmlns=\"http://www.w3.org/2000/svg\" height=\"24px\"viewBox=\"0 0 24 24\"\n",
              "       width=\"24px\">\n",
              "    <path d=\"M0 0h24v24H0V0z\" fill=\"none\"/>\n",
              "    <path d=\"M18.56 5.44l.94 2.06.94-2.06 2.06-.94-2.06-.94-.94-2.06-.94 2.06-2.06.94zm-11 1L8.5 8.5l.94-2.06 2.06-.94-2.06-.94L8.5 2.5l-.94 2.06-2.06.94zm10 10l.94 2.06.94-2.06 2.06-.94-2.06-.94-.94-2.06-.94 2.06-2.06.94z\"/><path d=\"M17.41 7.96l-1.37-1.37c-.4-.4-.92-.59-1.43-.59-.52 0-1.04.2-1.43.59L10.3 9.45l-7.72 7.72c-.78.78-.78 2.05 0 2.83L4 21.41c.39.39.9.59 1.41.59.51 0 1.02-.2 1.41-.59l7.78-7.78 2.81-2.81c.8-.78.8-2.07 0-2.86zM5.41 20L4 18.59l7.72-7.72 1.47 1.35L5.41 20z\"/>\n",
              "  </svg>\n",
              "      </button>\n",
              "      \n",
              "  <style>\n",
              "    .colab-df-container {\n",
              "      display:flex;\n",
              "      flex-wrap:wrap;\n",
              "      gap: 12px;\n",
              "    }\n",
              "\n",
              "    .colab-df-convert {\n",
              "      background-color: #E8F0FE;\n",
              "      border: none;\n",
              "      border-radius: 50%;\n",
              "      cursor: pointer;\n",
              "      display: none;\n",
              "      fill: #1967D2;\n",
              "      height: 32px;\n",
              "      padding: 0 0 0 0;\n",
              "      width: 32px;\n",
              "    }\n",
              "\n",
              "    .colab-df-convert:hover {\n",
              "      background-color: #E2EBFA;\n",
              "      box-shadow: 0px 1px 2px rgba(60, 64, 67, 0.3), 0px 1px 3px 1px rgba(60, 64, 67, 0.15);\n",
              "      fill: #174EA6;\n",
              "    }\n",
              "\n",
              "    [theme=dark] .colab-df-convert {\n",
              "      background-color: #3B4455;\n",
              "      fill: #D2E3FC;\n",
              "    }\n",
              "\n",
              "    [theme=dark] .colab-df-convert:hover {\n",
              "      background-color: #434B5C;\n",
              "      box-shadow: 0px 1px 3px 1px rgba(0, 0, 0, 0.15);\n",
              "      filter: drop-shadow(0px 1px 2px rgba(0, 0, 0, 0.3));\n",
              "      fill: #FFFFFF;\n",
              "    }\n",
              "  </style>\n",
              "\n",
              "      <script>\n",
              "        const buttonEl =\n",
              "          document.querySelector('#df-fa6cd091-be47-449d-86a9-16e647da57c7 button.colab-df-convert');\n",
              "        buttonEl.style.display =\n",
              "          google.colab.kernel.accessAllowed ? 'block' : 'none';\n",
              "\n",
              "        async function convertToInteractive(key) {\n",
              "          const element = document.querySelector('#df-fa6cd091-be47-449d-86a9-16e647da57c7');\n",
              "          const dataTable =\n",
              "            await google.colab.kernel.invokeFunction('convertToInteractive',\n",
              "                                                     [key], {});\n",
              "          if (!dataTable) return;\n",
              "\n",
              "          const docLinkHtml = 'Like what you see? Visit the ' +\n",
              "            '<a target=\"_blank\" href=https://colab.research.google.com/notebooks/data_table.ipynb>data table notebook</a>'\n",
              "            + ' to learn more about interactive tables.';\n",
              "          element.innerHTML = '';\n",
              "          dataTable['output_type'] = 'display_data';\n",
              "          await google.colab.output.renderOutput(dataTable, element);\n",
              "          const docLink = document.createElement('div');\n",
              "          docLink.innerHTML = docLinkHtml;\n",
              "          element.appendChild(docLink);\n",
              "        }\n",
              "      </script>\n",
              "    </div>\n",
              "  </div>\n",
              "  "
            ]
          },
          "metadata": {},
          "execution_count": 19
        }
      ],
      "source": [
        "df_claim.describe()"
      ]
    },
    {
      "cell_type": "code",
      "execution_count": 20,
      "metadata": {
        "colab": {
          "base_uri": "https://localhost:8080/"
        },
        "id": "cCOeSLgmpO29",
        "outputId": "65d32212-0234-4d7e-d665-32c9c99eb188"
      },
      "outputs": [
        {
          "output_type": "execute_result",
          "data": {
            "text/plain": [
              "Index(['months_as_customer', 'age', 'policy_number', 'policy_bind_date',\n",
              "       'policy_state', 'policy_csl', 'policy_deductable',\n",
              "       'policy_annual_premium', 'umbrella_limit', 'insured_zip', 'insured_sex',\n",
              "       'insured_education_level', 'insured_occupation', 'insured_hobbies',\n",
              "       'insured_relationship', 'capital-gains', 'capital-loss',\n",
              "       'incident_date', 'incident_type', 'collision_type', 'incident_severity',\n",
              "       'authorities_contacted', 'incident_state', 'incident_city',\n",
              "       'incident_location', 'incident_hour_of_the_day',\n",
              "       'number_of_vehicles_involved', 'property_damage', 'bodily_injuries',\n",
              "       'witnesses', 'police_report_available', 'total_claim_amount',\n",
              "       'injury_claim', 'property_claim', 'vehicle_claim', 'auto_make',\n",
              "       'auto_model', 'auto_year', 'fraud_reported', 'policy_bind_year',\n",
              "       'policy_bind_month', 'policy_bind_day', 'policy_bind_week_of_year',\n",
              "       'incident_year', 'incident_month', 'incident_day',\n",
              "       'incident_week_of_year', 'incident_time'],\n",
              "      dtype='object')"
            ]
          },
          "metadata": {},
          "execution_count": 20
        }
      ],
      "source": [
        "df_claim.columns"
      ]
    },
    {
      "cell_type": "code",
      "execution_count": 21,
      "metadata": {
        "colab": {
          "base_uri": "https://localhost:8080/"
        },
        "id": "0HarNy2Vv7Mn",
        "outputId": "c0ce8a74-0d31-4387-e5fa-2291c5b8d5fc"
      },
      "outputs": [
        {
          "output_type": "execute_result",
          "data": {
            "text/plain": [
              "(1000, 48)"
            ]
          },
          "metadata": {},
          "execution_count": 21
        }
      ],
      "source": [
        "df_claim.shape"
      ]
    },
    {
      "cell_type": "code",
      "execution_count": 22,
      "metadata": {
        "colab": {
          "base_uri": "https://localhost:8080/"
        },
        "id": "P-RllUcmv7UA",
        "outputId": "5f107684-47e8-45f8-f3b1-22ec76d4f086"
      },
      "outputs": [
        {
          "output_type": "execute_result",
          "data": {
            "text/plain": [
              "0"
            ]
          },
          "metadata": {},
          "execution_count": 22
        }
      ],
      "source": [
        "df_claim.isnull().sum().sum()"
      ]
    },
    {
      "cell_type": "code",
      "execution_count": 23,
      "metadata": {
        "colab": {
          "base_uri": "https://localhost:8080/"
        },
        "id": "RdYalmVcv7bd",
        "outputId": "5e9b663e-251a-4316-89d2-e8b70c73d893"
      },
      "outputs": [
        {
          "output_type": "execute_result",
          "data": {
            "text/plain": [
              "Multi-vehicle Collision     419\n",
              "Single Vehicle Collision    403\n",
              "Vehicle Theft                94\n",
              "Parked Car                   84\n",
              "Name: incident_type, dtype: int64"
            ]
          },
          "metadata": {},
          "execution_count": 23
        }
      ],
      "source": [
        "df_claim['incident_type'].value_counts()"
      ]
    },
    {
      "cell_type": "markdown",
      "metadata": {
        "id": "4ONnCNefyDp5"
      },
      "source": [
        "most of the collisions happend by Multi-vehicle Collision and Single vechile collision followed by vechile theft and parked car"
      ]
    },
    {
      "cell_type": "code",
      "execution_count": 24,
      "metadata": {
        "colab": {
          "base_uri": "https://localhost:8080/"
        },
        "id": "zdu4G2dYv7i5",
        "outputId": "5a9966cb-aab8-44ec-b36d-1811eb2406fa"
      },
      "outputs": [
        {
          "output_type": "execute_result",
          "data": {
            "text/plain": [
              "NY    262\n",
              "SC    248\n",
              "WV    217\n",
              "VA    110\n",
              "NC    110\n",
              "PA     30\n",
              "OH     23\n",
              "Name: incident_state, dtype: int64"
            ]
          },
          "metadata": {},
          "execution_count": 24
        }
      ],
      "source": [
        "df_claim['incident_state'].value_counts()"
      ]
    },
    {
      "cell_type": "markdown",
      "metadata": {
        "id": "XCuWMMhuzE1L"
      },
      "source": [
        "Most of the claims happens in the NY & SC states where least are from OH & PA states"
      ]
    },
    {
      "cell_type": "code",
      "execution_count": 25,
      "metadata": {
        "colab": {
          "base_uri": "https://localhost:8080/"
        },
        "id": "IpgrbEA1v7qK",
        "outputId": "bf82bba7-9e1d-4601-d4d5-6ab63238a0d7"
      },
      "outputs": [
        {
          "output_type": "execute_result",
          "data": {
            "text/plain": [
              "incident_state  incident_type           \n",
              "NY              Multi-vehicle Collision     119\n",
              "                Single Vehicle Collision    112\n",
              "SC              Single Vehicle Collision    105\n",
              "                Multi-vehicle Collision     103\n",
              "WV              Multi-vehicle Collision      86\n",
              "                Single Vehicle Collision     83\n",
              "VA              Single Vehicle Collision     44\n",
              "NC              Multi-vehicle Collision      43\n",
              "                Single Vehicle Collision     43\n",
              "VA              Multi-vehicle Collision      41\n",
              "WV              Vehicle Theft                28\n",
              "SC              Parked Car                   22\n",
              "WV              Parked Car                   20\n",
              "SC              Vehicle Theft                18\n",
              "NY              Parked Car                   16\n",
              "                Vehicle Theft                15\n",
              "PA              Multi-vehicle Collision      15\n",
              "NC              Vehicle Theft                14\n",
              "VA              Vehicle Theft                14\n",
              "OH              Multi-vehicle Collision      12\n",
              "VA              Parked Car                   11\n",
              "NC              Parked Car                   10\n",
              "PA              Single Vehicle Collision      9\n",
              "OH              Single Vehicle Collision      7\n",
              "PA              Parked Car                    4\n",
              "OH              Vehicle Theft                 3\n",
              "PA              Vehicle Theft                 2\n",
              "OH              Parked Car                    1\n",
              "dtype: int64"
            ]
          },
          "metadata": {},
          "execution_count": 25
        }
      ],
      "source": [
        "df_claim[['incident_state','incident_type']].value_counts()"
      ]
    },
    {
      "cell_type": "markdown",
      "metadata": {
        "id": "5ImJIqx42LcZ"
      },
      "source": [
        "we analize the number of differnt claims in differnt states"
      ]
    },
    {
      "cell_type": "markdown",
      "metadata": {
        "id": "BwKiY7203X5b"
      },
      "source": [
        "Exploratory Analysis and Visualization"
      ]
    },
    {
      "cell_type": "code",
      "execution_count": 26,
      "metadata": {
        "colab": {
          "base_uri": "https://localhost:8080/"
        },
        "id": "Bne33kUtv7xW",
        "outputId": "43e147af-594d-4d69-82df-3f7432aa5cc2"
      },
      "outputs": [
        {
          "output_type": "stream",
          "name": "stdout",
          "text": [
            "<class 'pandas.core.frame.DataFrame'>\n",
            "RangeIndex: 1000 entries, 0 to 999\n",
            "Data columns (total 48 columns):\n",
            " #   Column                       Non-Null Count  Dtype         \n",
            "---  ------                       --------------  -----         \n",
            " 0   months_as_customer           1000 non-null   int64         \n",
            " 1   age                          1000 non-null   int64         \n",
            " 2   policy_number                1000 non-null   int64         \n",
            " 3   policy_bind_date             1000 non-null   datetime64[ns]\n",
            " 4   policy_state                 1000 non-null   object        \n",
            " 5   policy_csl                   1000 non-null   object        \n",
            " 6   policy_deductable            1000 non-null   int64         \n",
            " 7   policy_annual_premium        1000 non-null   float64       \n",
            " 8   umbrella_limit               1000 non-null   int64         \n",
            " 9   insured_zip                  1000 non-null   int64         \n",
            " 10  insured_sex                  1000 non-null   object        \n",
            " 11  insured_education_level      1000 non-null   object        \n",
            " 12  insured_occupation           1000 non-null   object        \n",
            " 13  insured_hobbies              1000 non-null   object        \n",
            " 14  insured_relationship         1000 non-null   object        \n",
            " 15  capital-gains                1000 non-null   int64         \n",
            " 16  capital-loss                 1000 non-null   int64         \n",
            " 17  incident_date                1000 non-null   datetime64[ns]\n",
            " 18  incident_type                1000 non-null   object        \n",
            " 19  collision_type               1000 non-null   object        \n",
            " 20  incident_severity            1000 non-null   object        \n",
            " 21  authorities_contacted        1000 non-null   object        \n",
            " 22  incident_state               1000 non-null   object        \n",
            " 23  incident_city                1000 non-null   object        \n",
            " 24  incident_location            1000 non-null   object        \n",
            " 25  incident_hour_of_the_day     1000 non-null   int64         \n",
            " 26  number_of_vehicles_involved  1000 non-null   int64         \n",
            " 27  property_damage              1000 non-null   object        \n",
            " 28  bodily_injuries              1000 non-null   int64         \n",
            " 29  witnesses                    1000 non-null   int64         \n",
            " 30  police_report_available      1000 non-null   object        \n",
            " 31  total_claim_amount           1000 non-null   int64         \n",
            " 32  injury_claim                 1000 non-null   int64         \n",
            " 33  property_claim               1000 non-null   int64         \n",
            " 34  vehicle_claim                1000 non-null   int64         \n",
            " 35  auto_make                    1000 non-null   object        \n",
            " 36  auto_model                   1000 non-null   object        \n",
            " 37  auto_year                    1000 non-null   int64         \n",
            " 38  fraud_reported               1000 non-null   object        \n",
            " 39  policy_bind_year             1000 non-null   int64         \n",
            " 40  policy_bind_month            1000 non-null   int64         \n",
            " 41  policy_bind_day              1000 non-null   int64         \n",
            " 42  policy_bind_week_of_year     1000 non-null   UInt32        \n",
            " 43  incident_year                1000 non-null   int64         \n",
            " 44  incident_month               1000 non-null   int64         \n",
            " 45  incident_day                 1000 non-null   int64         \n",
            " 46  incident_week_of_year        1000 non-null   UInt32        \n",
            " 47  incident_time                1000 non-null   int64         \n",
            "dtypes: UInt32(2), datetime64[ns](2), float64(1), int64(24), object(19)\n",
            "memory usage: 369.3+ KB\n"
          ]
        }
      ],
      "source": [
        "df_claim.info()"
      ]
    },
    {
      "cell_type": "markdown",
      "metadata": {
        "id": "vmsIT1oR4Bbk"
      },
      "source": [
        "## lets see the differnt types of claims"
      ]
    },
    {
      "cell_type": "code",
      "execution_count": 27,
      "metadata": {
        "colab": {
          "base_uri": "https://localhost:8080/",
          "height": 424
        },
        "id": "QEdzVlN_3emA",
        "outputId": "736ffd47-6926-428e-9d3c-e7c1a6fe0c63"
      },
      "outputs": [
        {
          "output_type": "execute_result",
          "data": {
            "text/plain": [
              "     total_claim_amount  injury_claim  property_claim  vehicle_claim\n",
              "0                 71610          6510           13020          52080\n",
              "1                  5070           780             780           3510\n",
              "2                 34650          7700            3850          23100\n",
              "3                 63400          6340            6340          50720\n",
              "4                  6500          1300             650           4550\n",
              "..                  ...           ...             ...            ...\n",
              "995               87200         17440            8720          61040\n",
              "996              108480         18080           18080          72320\n",
              "997               67500          7500            7500          52500\n",
              "998               46980          5220            5220          36540\n",
              "999                5060           460             920           3680\n",
              "\n",
              "[1000 rows x 4 columns]"
            ],
            "text/html": [
              "\n",
              "  <div id=\"df-e2512d7c-22c1-4373-b3db-d369ea78fd31\">\n",
              "    <div class=\"colab-df-container\">\n",
              "      <div>\n",
              "<style scoped>\n",
              "    .dataframe tbody tr th:only-of-type {\n",
              "        vertical-align: middle;\n",
              "    }\n",
              "\n",
              "    .dataframe tbody tr th {\n",
              "        vertical-align: top;\n",
              "    }\n",
              "\n",
              "    .dataframe thead th {\n",
              "        text-align: right;\n",
              "    }\n",
              "</style>\n",
              "<table border=\"1\" class=\"dataframe\">\n",
              "  <thead>\n",
              "    <tr style=\"text-align: right;\">\n",
              "      <th></th>\n",
              "      <th>total_claim_amount</th>\n",
              "      <th>injury_claim</th>\n",
              "      <th>property_claim</th>\n",
              "      <th>vehicle_claim</th>\n",
              "    </tr>\n",
              "  </thead>\n",
              "  <tbody>\n",
              "    <tr>\n",
              "      <th>0</th>\n",
              "      <td>71610</td>\n",
              "      <td>6510</td>\n",
              "      <td>13020</td>\n",
              "      <td>52080</td>\n",
              "    </tr>\n",
              "    <tr>\n",
              "      <th>1</th>\n",
              "      <td>5070</td>\n",
              "      <td>780</td>\n",
              "      <td>780</td>\n",
              "      <td>3510</td>\n",
              "    </tr>\n",
              "    <tr>\n",
              "      <th>2</th>\n",
              "      <td>34650</td>\n",
              "      <td>7700</td>\n",
              "      <td>3850</td>\n",
              "      <td>23100</td>\n",
              "    </tr>\n",
              "    <tr>\n",
              "      <th>3</th>\n",
              "      <td>63400</td>\n",
              "      <td>6340</td>\n",
              "      <td>6340</td>\n",
              "      <td>50720</td>\n",
              "    </tr>\n",
              "    <tr>\n",
              "      <th>4</th>\n",
              "      <td>6500</td>\n",
              "      <td>1300</td>\n",
              "      <td>650</td>\n",
              "      <td>4550</td>\n",
              "    </tr>\n",
              "    <tr>\n",
              "      <th>...</th>\n",
              "      <td>...</td>\n",
              "      <td>...</td>\n",
              "      <td>...</td>\n",
              "      <td>...</td>\n",
              "    </tr>\n",
              "    <tr>\n",
              "      <th>995</th>\n",
              "      <td>87200</td>\n",
              "      <td>17440</td>\n",
              "      <td>8720</td>\n",
              "      <td>61040</td>\n",
              "    </tr>\n",
              "    <tr>\n",
              "      <th>996</th>\n",
              "      <td>108480</td>\n",
              "      <td>18080</td>\n",
              "      <td>18080</td>\n",
              "      <td>72320</td>\n",
              "    </tr>\n",
              "    <tr>\n",
              "      <th>997</th>\n",
              "      <td>67500</td>\n",
              "      <td>7500</td>\n",
              "      <td>7500</td>\n",
              "      <td>52500</td>\n",
              "    </tr>\n",
              "    <tr>\n",
              "      <th>998</th>\n",
              "      <td>46980</td>\n",
              "      <td>5220</td>\n",
              "      <td>5220</td>\n",
              "      <td>36540</td>\n",
              "    </tr>\n",
              "    <tr>\n",
              "      <th>999</th>\n",
              "      <td>5060</td>\n",
              "      <td>460</td>\n",
              "      <td>920</td>\n",
              "      <td>3680</td>\n",
              "    </tr>\n",
              "  </tbody>\n",
              "</table>\n",
              "<p>1000 rows × 4 columns</p>\n",
              "</div>\n",
              "      <button class=\"colab-df-convert\" onclick=\"convertToInteractive('df-e2512d7c-22c1-4373-b3db-d369ea78fd31')\"\n",
              "              title=\"Convert this dataframe to an interactive table.\"\n",
              "              style=\"display:none;\">\n",
              "        \n",
              "  <svg xmlns=\"http://www.w3.org/2000/svg\" height=\"24px\"viewBox=\"0 0 24 24\"\n",
              "       width=\"24px\">\n",
              "    <path d=\"M0 0h24v24H0V0z\" fill=\"none\"/>\n",
              "    <path d=\"M18.56 5.44l.94 2.06.94-2.06 2.06-.94-2.06-.94-.94-2.06-.94 2.06-2.06.94zm-11 1L8.5 8.5l.94-2.06 2.06-.94-2.06-.94L8.5 2.5l-.94 2.06-2.06.94zm10 10l.94 2.06.94-2.06 2.06-.94-2.06-.94-.94-2.06-.94 2.06-2.06.94z\"/><path d=\"M17.41 7.96l-1.37-1.37c-.4-.4-.92-.59-1.43-.59-.52 0-1.04.2-1.43.59L10.3 9.45l-7.72 7.72c-.78.78-.78 2.05 0 2.83L4 21.41c.39.39.9.59 1.41.59.51 0 1.02-.2 1.41-.59l7.78-7.78 2.81-2.81c.8-.78.8-2.07 0-2.86zM5.41 20L4 18.59l7.72-7.72 1.47 1.35L5.41 20z\"/>\n",
              "  </svg>\n",
              "      </button>\n",
              "      \n",
              "  <style>\n",
              "    .colab-df-container {\n",
              "      display:flex;\n",
              "      flex-wrap:wrap;\n",
              "      gap: 12px;\n",
              "    }\n",
              "\n",
              "    .colab-df-convert {\n",
              "      background-color: #E8F0FE;\n",
              "      border: none;\n",
              "      border-radius: 50%;\n",
              "      cursor: pointer;\n",
              "      display: none;\n",
              "      fill: #1967D2;\n",
              "      height: 32px;\n",
              "      padding: 0 0 0 0;\n",
              "      width: 32px;\n",
              "    }\n",
              "\n",
              "    .colab-df-convert:hover {\n",
              "      background-color: #E2EBFA;\n",
              "      box-shadow: 0px 1px 2px rgba(60, 64, 67, 0.3), 0px 1px 3px 1px rgba(60, 64, 67, 0.15);\n",
              "      fill: #174EA6;\n",
              "    }\n",
              "\n",
              "    [theme=dark] .colab-df-convert {\n",
              "      background-color: #3B4455;\n",
              "      fill: #D2E3FC;\n",
              "    }\n",
              "\n",
              "    [theme=dark] .colab-df-convert:hover {\n",
              "      background-color: #434B5C;\n",
              "      box-shadow: 0px 1px 3px 1px rgba(0, 0, 0, 0.15);\n",
              "      filter: drop-shadow(0px 1px 2px rgba(0, 0, 0, 0.3));\n",
              "      fill: #FFFFFF;\n",
              "    }\n",
              "  </style>\n",
              "\n",
              "      <script>\n",
              "        const buttonEl =\n",
              "          document.querySelector('#df-e2512d7c-22c1-4373-b3db-d369ea78fd31 button.colab-df-convert');\n",
              "        buttonEl.style.display =\n",
              "          google.colab.kernel.accessAllowed ? 'block' : 'none';\n",
              "\n",
              "        async function convertToInteractive(key) {\n",
              "          const element = document.querySelector('#df-e2512d7c-22c1-4373-b3db-d369ea78fd31');\n",
              "          const dataTable =\n",
              "            await google.colab.kernel.invokeFunction('convertToInteractive',\n",
              "                                                     [key], {});\n",
              "          if (!dataTable) return;\n",
              "\n",
              "          const docLinkHtml = 'Like what you see? Visit the ' +\n",
              "            '<a target=\"_blank\" href=https://colab.research.google.com/notebooks/data_table.ipynb>data table notebook</a>'\n",
              "            + ' to learn more about interactive tables.';\n",
              "          element.innerHTML = '';\n",
              "          dataTable['output_type'] = 'display_data';\n",
              "          await google.colab.output.renderOutput(dataTable, element);\n",
              "          const docLink = document.createElement('div');\n",
              "          docLink.innerHTML = docLinkHtml;\n",
              "          element.appendChild(docLink);\n",
              "        }\n",
              "      </script>\n",
              "    </div>\n",
              "  </div>\n",
              "  "
            ]
          },
          "metadata": {},
          "execution_count": 27
        }
      ],
      "source": [
        "claims=df_claim[['total_claim_amount','injury_claim','property_claim','vehicle_claim']]\n",
        "claims"
      ]
    },
    {
      "cell_type": "code",
      "execution_count": 28,
      "metadata": {
        "colab": {
          "base_uri": "https://localhost:8080/"
        },
        "id": "qArto7NA3euF",
        "outputId": "af687141-ebc4-4bb0-bb40-ac1cc8ea15a5"
      },
      "outputs": [
        {
          "output_type": "execute_result",
          "data": {
            "text/plain": [
              "total_claim_amount    52761940\n",
              "injury_claim           7433420\n",
              "property_claim         7399570\n",
              "vehicle_claim         37928950\n",
              "dtype: int64"
            ]
          },
          "metadata": {},
          "execution_count": 28
        }
      ],
      "source": [
        "claim_sum=claims.sum()\n",
        "claim_sum"
      ]
    },
    {
      "cell_type": "markdown",
      "metadata": {
        "id": "3ursgwWl5yis"
      },
      "source": [
        "lets check weather total_claim_amount is equal to the sum of the claims"
      ]
    },
    {
      "cell_type": "code",
      "execution_count": 29,
      "metadata": {
        "colab": {
          "base_uri": "https://localhost:8080/"
        },
        "id": "6cs7nC9f3e1x",
        "outputId": "bed7c485-aa32-4b60-d9c3-59399c443e11"
      },
      "outputs": [
        {
          "output_type": "execute_result",
          "data": {
            "text/plain": [
              "True"
            ]
          },
          "metadata": {},
          "execution_count": 29
        }
      ],
      "source": [
        "claim_sum[0]==sum(claim_sum[1:])"
      ]
    },
    {
      "cell_type": "code",
      "execution_count": 30,
      "metadata": {
        "colab": {
          "base_uri": "https://localhost:8080/",
          "height": 264
        },
        "id": "gWjiwKF-3e9R",
        "outputId": "fb8481d6-4481-4c7f-fe3f-73e3ca27efb3"
      },
      "outputs": [
        {
          "output_type": "display_data",
          "data": {
            "text/plain": [
              "<Figure size 432x288 with 1 Axes>"
            ],
            "image/png": "[encoded data removed]"
          },
          "metadata": {}
        }
      ],
      "source": [
        "plt.title('TYPES OF CLAIMS')\n",
        "plt.pie(claim_sum[1:],labels=claims.columns[1:],autopct='%1.2f%%',startangle=0)\n",
        "plt.legend(title='CLAIMS',loc='upper left',fontsize='x-small')\n",
        "plt.show()"
      ]
    },
    {
      "cell_type": "code",
      "execution_count": 31,
      "metadata": {
        "colab": {
          "base_uri": "https://localhost:8080/"
        },
        "id": "Hb5IEUlO3fEN",
        "outputId": "c1eb29e3-9f13-4ae4-db7b-42f5d8864681"
      },
      "outputs": [
        {
          "output_type": "execute_result",
          "data": {
            "text/plain": [
              "17    54\n",
              "3     53\n",
              "0     52\n",
              "23    51\n",
              "16    49\n",
              "13    46\n",
              "10    46\n",
              "4     46\n",
              "6     44\n",
              "9     43\n",
              "14    43\n",
              "21    42\n",
              "18    41\n",
              "12    40\n",
              "19    40\n",
              "7     40\n",
              "15    39\n",
              "22    38\n",
              "8     36\n",
              "20    34\n",
              "5     33\n",
              "2     31\n",
              "11    30\n",
              "1     29\n",
              "Name: incident_hour_of_the_day, dtype: int64"
            ]
          },
          "metadata": {},
          "execution_count": 31
        }
      ],
      "source": [
        "hour=df_claim['incident_hour_of_the_day'].value_counts()\n",
        "hour"
      ]
    },
    {
      "cell_type": "code",
      "execution_count": 32,
      "metadata": {
        "colab": {
          "base_uri": "https://localhost:8080/",
          "height": 391
        },
        "id": "4YFV5RZg3fK-",
        "outputId": "ebf9c346-3fb4-4242-d051-5b2f45764b5a"
      },
      "outputs": [
        {
          "output_type": "execute_result",
          "data": {
            "text/plain": [
              "Text(0.5, 1.0, 'ACCIDENTS OCCURED IN HOURS OF THE DAY')"
            ]
          },
          "metadata": {},
          "execution_count": 32
        },
        {
          "output_type": "display_data",
          "data": {
            "text/plain": [
              "<Figure size 1440x432 with 1 Axes>"
            ],
            "image/png": "[encoded data removed]"
          },
          "metadata": {
            "needs_background": "light"
          }
        }
      ],
      "source": [
        "plt.figure(figsize=(20,6))\n",
        "sns.barplot(x=hour.index,y=hour)\n",
        "plt.title('ACCIDENTS OCCURED IN HOURS OF THE DAY')\n"
      ]
    },
    {
      "cell_type": "markdown",
      "metadata": {
        "id": "L246hPS_FHHb"
      },
      "source": [
        "we observe that the accidents occur mostly at early hours in the morning and at the nights"
      ]
    },
    {
      "cell_type": "code",
      "execution_count": 33,
      "metadata": {
        "colab": {
          "base_uri": "https://localhost:8080/"
        },
        "id": "7MkHQm5nv74W",
        "outputId": "c7d39fe8-3aad-4dfa-c5c9-457b89e91ae9"
      },
      "outputs": [
        {
          "output_type": "execute_result",
          "data": {
            "text/plain": [
              "1    581\n",
              "3    358\n",
              "4     31\n",
              "2     30\n",
              "Name: number_of_vehicles_involved, dtype: int64"
            ]
          },
          "metadata": {},
          "execution_count": 33
        }
      ],
      "source": [
        "no_of_vechiles=df_claim['number_of_vehicles_involved'].value_counts()\n",
        "no_of_vechiles"
      ]
    },
    {
      "cell_type": "code",
      "execution_count": 34,
      "metadata": {
        "colab": {
          "base_uri": "https://localhost:8080/",
          "height": 407
        },
        "id": "trz7tJwSv7_O",
        "outputId": "4df0f15e-395d-4cc8-bd41-5de8900c4537"
      },
      "outputs": [
        {
          "output_type": "execute_result",
          "data": {
            "text/plain": [
              "Text(0.5, 1.0, 'NUMBER OF VECHILES INVOLVED ')"
            ]
          },
          "metadata": {},
          "execution_count": 34
        },
        {
          "output_type": "display_data",
          "data": {
            "text/plain": [
              "<Figure size 720x432 with 1 Axes>"
            ],
            "image/png": "[encoded data removed]"
          },
          "metadata": {
            "needs_background": "light"
          }
        }
      ],
      "source": [
        "plt.figure(figsize=(10,6))\n",
        "sns.barplot(x=no_of_vechiles.index,y=no_of_vechiles)\n",
        "plt.title('NUMBER OF VECHILES INVOLVED ')"
      ]
    },
    {
      "cell_type": "code",
      "execution_count": 35,
      "metadata": {
        "colab": {
          "base_uri": "https://localhost:8080/"
        },
        "id": "pNc9GHOEv8Gy",
        "outputId": "75bb9f77-51ad-4336-e6d9-4e0171ce436c"
      },
      "outputs": [
        {
          "output_type": "execute_result",
          "data": {
            "text/plain": [
              "RAM               43\n",
              "Wrangler          42\n",
              "A3                37\n",
              "Neon              37\n",
              "MDX               36\n",
              "Jetta             35\n",
              "Passat            33\n",
              "A5                32\n",
              "Legacy            32\n",
              "Pathfinder        31\n",
              "Malibu            30\n",
              "92x               28\n",
              "Camry             28\n",
              "Forrestor         28\n",
              "F150              27\n",
              "95                27\n",
              "E400              27\n",
              "93                25\n",
              "Grand Cherokee    25\n",
              "Escape            24\n",
              "Tahoe             24\n",
              "Maxima            24\n",
              "Ultima            23\n",
              "X5                23\n",
              "Highlander        22\n",
              "Civic             22\n",
              "Silverado         22\n",
              "Fusion            21\n",
              "ML350             20\n",
              "Impreza           20\n",
              "Corolla           20\n",
              "TL                20\n",
              "CRV               20\n",
              "C300              18\n",
              "3 Series          18\n",
              "X6                16\n",
              "M5                15\n",
              "Accord            13\n",
              "RSX               12\n",
              "Name: auto_model, dtype: int64"
            ]
          },
          "metadata": {},
          "execution_count": 35
        }
      ],
      "source": [
        "df_claim['auto_model'].value_counts()"
      ]
    },
    {
      "cell_type": "code",
      "execution_count": 36,
      "metadata": {
        "colab": {
          "base_uri": "https://localhost:8080/",
          "height": 1000
        },
        "id": "wh-CxnlSIsxR",
        "outputId": "6cc52781-08f7-4698-e48e-3abf9a160e22"
      },
      "outputs": [
        {
          "output_type": "execute_result",
          "data": {
            "text/plain": [
              "                total_claim_amount\n",
              "auto_model                        \n",
              "X6                    66480.625000\n",
              "Escape                63865.000000\n",
              "C300                  61640.000000\n",
              "RSX                   60902.500000\n",
              "ML350                 59545.500000\n",
              "Forrestor             59542.500000\n",
              "Fusion                57632.857143\n",
              "CRV                   56960.500000\n",
              "RAM                   56920.930233\n",
              "A3                    56584.324324\n",
              "TL                    55595.500000\n",
              "Tahoe                 55503.750000\n",
              "X5                    55161.739130\n",
              "Neon                  54809.459459\n",
              "92x                   54456.071429\n",
              "Silverado             53975.000000\n",
              "Wrangler              53784.761905\n",
              "Highlander            53361.363636\n",
              "Maxima                53087.500000\n",
              "3 Series              52523.333333\n",
              "A5                    51839.375000\n",
              "Pathfinder            51741.290323\n",
              "Legacy                51715.312500\n",
              "Jetta                 51445.714286\n",
              "93                    50717.200000\n",
              "Passat                50228.181818\n",
              "M5                    49823.333333\n",
              "Ultima                49671.739130\n",
              "Malibu                49640.000000\n",
              "F150                  49259.259259\n",
              "Accord                49103.846154\n",
              "95                    48997.407407\n",
              "Impreza               48816.500000\n",
              "Civic                 48489.090909\n",
              "MDX                   48015.000000\n",
              "Grand Cherokee        47953.200000\n",
              "Corolla               46564.000000\n",
              "Camry                 41122.500000\n",
              "E400                  40880.000000"
            ],
            "text/html": [
              "\n",
              "  <div id=\"df-554b09d6-7c6e-487b-8143-1980100bc063\">\n",
              "    <div class=\"colab-df-container\">\n",
              "      <div>\n",
              "<style scoped>\n",
              "    .dataframe tbody tr th:only-of-type {\n",
              "        vertical-align: middle;\n",
              "    }\n",
              "\n",
              "    .dataframe tbody tr th {\n",
              "        vertical-align: top;\n",
              "    }\n",
              "\n",
              "    .dataframe thead th {\n",
              "        text-align: right;\n",
              "    }\n",
              "</style>\n",
              "<table border=\"1\" class=\"dataframe\">\n",
              "  <thead>\n",
              "    <tr style=\"text-align: right;\">\n",
              "      <th></th>\n",
              "      <th>total_claim_amount</th>\n",
              "    </tr>\n",
              "    <tr>\n",
              "      <th>auto_model</th>\n",
              "      <th></th>\n",
              "    </tr>\n",
              "  </thead>\n",
              "  <tbody>\n",
              "    <tr>\n",
              "      <th>X6</th>\n",
              "      <td>66480.625000</td>\n",
              "    </tr>\n",
              "    <tr>\n",
              "      <th>Escape</th>\n",
              "      <td>63865.000000</td>\n",
              "    </tr>\n",
              "    <tr>\n",
              "      <th>C300</th>\n",
              "      <td>61640.000000</td>\n",
              "    </tr>\n",
              "    <tr>\n",
              "      <th>RSX</th>\n",
              "      <td>60902.500000</td>\n",
              "    </tr>\n",
              "    <tr>\n",
              "      <th>ML350</th>\n",
              "      <td>59545.500000</td>\n",
              "    </tr>\n",
              "    <tr>\n",
              "      <th>Forrestor</th>\n",
              "      <td>59542.500000</td>\n",
              "    </tr>\n",
              "    <tr>\n",
              "      <th>Fusion</th>\n",
              "      <td>57632.857143</td>\n",
              "    </tr>\n",
              "    <tr>\n",
              "      <th>CRV</th>\n",
              "      <td>56960.500000</td>\n",
              "    </tr>\n",
              "    <tr>\n",
              "      <th>RAM</th>\n",
              "      <td>56920.930233</td>\n",
              "    </tr>\n",
              "    <tr>\n",
              "      <th>A3</th>\n",
              "      <td>56584.324324</td>\n",
              "    </tr>\n",
              "    <tr>\n",
              "      <th>TL</th>\n",
              "      <td>55595.500000</td>\n",
              "    </tr>\n",
              "    <tr>\n",
              "      <th>Tahoe</th>\n",
              "      <td>55503.750000</td>\n",
              "    </tr>\n",
              "    <tr>\n",
              "      <th>X5</th>\n",
              "      <td>55161.739130</td>\n",
              "    </tr>\n",
              "    <tr>\n",
              "      <th>Neon</th>\n",
              "      <td>54809.459459</td>\n",
              "    </tr>\n",
              "    <tr>\n",
              "      <th>92x</th>\n",
              "      <td>54456.071429</td>\n",
              "    </tr>\n",
              "    <tr>\n",
              "      <th>Silverado</th>\n",
              "      <td>53975.000000</td>\n",
              "    </tr>\n",
              "    <tr>\n",
              "      <th>Wrangler</th>\n",
              "      <td>53784.761905</td>\n",
              "    </tr>\n",
              "    <tr>\n",
              "      <th>Highlander</th>\n",
              "      <td>53361.363636</td>\n",
              "    </tr>\n",
              "    <tr>\n",
              "      <th>Maxima</th>\n",
              "      <td>53087.500000</td>\n",
              "    </tr>\n",
              "    <tr>\n",
              "      <th>3 Series</th>\n",
              "      <td>52523.333333</td>\n",
              "    </tr>\n",
              "    <tr>\n",
              "      <th>A5</th>\n",
              "      <td>51839.375000</td>\n",
              "    </tr>\n",
              "    <tr>\n",
              "      <th>Pathfinder</th>\n",
              "      <td>51741.290323</td>\n",
              "    </tr>\n",
              "    <tr>\n",
              "      <th>Legacy</th>\n",
              "      <td>51715.312500</td>\n",
              "    </tr>\n",
              "    <tr>\n",
              "      <th>Jetta</th>\n",
              "      <td>51445.714286</td>\n",
              "    </tr>\n",
              "    <tr>\n",
              "      <th>93</th>\n",
              "      <td>50717.200000</td>\n",
              "    </tr>\n",
              "    <tr>\n",
              "      <th>Passat</th>\n",
              "      <td>50228.181818</td>\n",
              "    </tr>\n",
              "    <tr>\n",
              "      <th>M5</th>\n",
              "      <td>49823.333333</td>\n",
              "    </tr>\n",
              "    <tr>\n",
              "      <th>Ultima</th>\n",
              "      <td>49671.739130</td>\n",
              "    </tr>\n",
              "    <tr>\n",
              "      <th>Malibu</th>\n",
              "      <td>49640.000000</td>\n",
              "    </tr>\n",
              "    <tr>\n",
              "      <th>F150</th>\n",
              "      <td>49259.259259</td>\n",
              "    </tr>\n",
              "    <tr>\n",
              "      <th>Accord</th>\n",
              "      <td>49103.846154</td>\n",
              "    </tr>\n",
              "    <tr>\n",
              "      <th>95</th>\n",
              "      <td>48997.407407</td>\n",
              "    </tr>\n",
              "    <tr>\n",
              "      <th>Impreza</th>\n",
              "      <td>48816.500000</td>\n",
              "    </tr>\n",
              "    <tr>\n",
              "      <th>Civic</th>\n",
              "      <td>48489.090909</td>\n",
              "    </tr>\n",
              "    <tr>\n",
              "      <th>MDX</th>\n",
              "      <td>48015.000000</td>\n",
              "    </tr>\n",
              "    <tr>\n",
              "      <th>Grand Cherokee</th>\n",
              "      <td>47953.200000</td>\n",
              "    </tr>\n",
              "    <tr>\n",
              "      <th>Corolla</th>\n",
              "      <td>46564.000000</td>\n",
              "    </tr>\n",
              "    <tr>\n",
              "      <th>Camry</th>\n",
              "      <td>41122.500000</td>\n",
              "    </tr>\n",
              "    <tr>\n",
              "      <th>E400</th>\n",
              "      <td>40880.000000</td>\n",
              "    </tr>\n",
              "  </tbody>\n",
              "</table>\n",
              "</div>\n",
              "      <button class=\"colab-df-convert\" onclick=\"convertToInteractive('df-554b09d6-7c6e-487b-8143-1980100bc063')\"\n",
              "              title=\"Convert this dataframe to an interactive table.\"\n",
              "              style=\"display:none;\">\n",
              "        \n",
              "  <svg xmlns=\"http://www.w3.org/2000/svg\" height=\"24px\"viewBox=\"0 0 24 24\"\n",
              "       width=\"24px\">\n",
              "    <path d=\"M0 0h24v24H0V0z\" fill=\"none\"/>\n",
              "    <path d=\"M18.56 5.44l.94 2.06.94-2.06 2.06-.94-2.06-.94-.94-2.06-.94 2.06-2.06.94zm-11 1L8.5 8.5l.94-2.06 2.06-.94-2.06-.94L8.5 2.5l-.94 2.06-2.06.94zm10 10l.94 2.06.94-2.06 2.06-.94-2.06-.94-.94-2.06-.94 2.06-2.06.94z\"/><path d=\"M17.41 7.96l-1.37-1.37c-.4-.4-.92-.59-1.43-.59-.52 0-1.04.2-1.43.59L10.3 9.45l-7.72 7.72c-.78.78-.78 2.05 0 2.83L4 21.41c.39.39.9.59 1.41.59.51 0 1.02-.2 1.41-.59l7.78-7.78 2.81-2.81c.8-.78.8-2.07 0-2.86zM5.41 20L4 18.59l7.72-7.72 1.47 1.35L5.41 20z\"/>\n",
              "  </svg>\n",
              "      </button>\n",
              "      \n",
              "  <style>\n",
              "    .colab-df-container {\n",
              "      display:flex;\n",
              "      flex-wrap:wrap;\n",
              "      gap: 12px;\n",
              "    }\n",
              "\n",
              "    .colab-df-convert {\n",
              "      background-color: #E8F0FE;\n",
              "      border: none;\n",
              "      border-radius: 50%;\n",
              "      cursor: pointer;\n",
              "      display: none;\n",
              "      fill: #1967D2;\n",
              "      height: 32px;\n",
              "      padding: 0 0 0 0;\n",
              "      width: 32px;\n",
              "    }\n",
              "\n",
              "    .colab-df-convert:hover {\n",
              "      background-color: #E2EBFA;\n",
              "      box-shadow: 0px 1px 2px rgba(60, 64, 67, 0.3), 0px 1px 3px 1px rgba(60, 64, 67, 0.15);\n",
              "      fill: #174EA6;\n",
              "    }\n",
              "\n",
              "    [theme=dark] .colab-df-convert {\n",
              "      background-color: #3B4455;\n",
              "      fill: #D2E3FC;\n",
              "    }\n",
              "\n",
              "    [theme=dark] .colab-df-convert:hover {\n",
              "      background-color: #434B5C;\n",
              "      box-shadow: 0px 1px 3px 1px rgba(0, 0, 0, 0.15);\n",
              "      filter: drop-shadow(0px 1px 2px rgba(0, 0, 0, 0.3));\n",
              "      fill: #FFFFFF;\n",
              "    }\n",
              "  </style>\n",
              "\n",
              "      <script>\n",
              "        const buttonEl =\n",
              "          document.querySelector('#df-554b09d6-7c6e-487b-8143-1980100bc063 button.colab-df-convert');\n",
              "        buttonEl.style.display =\n",
              "          google.colab.kernel.accessAllowed ? 'block' : 'none';\n",
              "\n",
              "        async function convertToInteractive(key) {\n",
              "          const element = document.querySelector('#df-554b09d6-7c6e-487b-8143-1980100bc063');\n",
              "          const dataTable =\n",
              "            await google.colab.kernel.invokeFunction('convertToInteractive',\n",
              "                                                     [key], {});\n",
              "          if (!dataTable) return;\n",
              "\n",
              "          const docLinkHtml = 'Like what you see? Visit the ' +\n",
              "            '<a target=\"_blank\" href=https://colab.research.google.com/notebooks/data_table.ipynb>data table notebook</a>'\n",
              "            + ' to learn more about interactive tables.';\n",
              "          element.innerHTML = '';\n",
              "          dataTable['output_type'] = 'display_data';\n",
              "          await google.colab.output.renderOutput(dataTable, element);\n",
              "          const docLink = document.createElement('div');\n",
              "          docLink.innerHTML = docLinkHtml;\n",
              "          element.appendChild(docLink);\n",
              "        }\n",
              "      </script>\n",
              "    </div>\n",
              "  </div>\n",
              "  "
            ]
          },
          "metadata": {},
          "execution_count": 36
        }
      ],
      "source": [
        "car=df_claim.groupby('auto_model')[['total_claim_amount']].mean().sort_values(by='total_claim_amount', ascending=False)\n",
        "car"
      ]
    },
    {
      "cell_type": "code",
      "execution_count": 37,
      "metadata": {
        "id": "W4OwhZYak4jM"
      },
      "outputs": [],
      "source": [
        "##sns.pairplot(df_claim,hue='total_claim_amount')"
      ]
    },
    {
      "cell_type": "code",
      "execution_count": 38,
      "metadata": {
        "colab": {
          "base_uri": "https://localhost:8080/",
          "height": 678
        },
        "id": "n-rtIov2ItH_",
        "outputId": "9e71ae16-8c56-4eba-be14-a2ca9a2dda47"
      },
      "outputs": [
        {
          "output_type": "display_data",
          "data": {
            "text/plain": [
              "<Figure size 1152x720 with 1 Axes>"
            ],
            "image/png": "[encoded data removed]"
          },
          "metadata": {
            "needs_background": "light"
          }
        }
      ],
      "source": [
        "plt.figure(figsize=(16,10))\n",
        "sns.boxplot(x='auto_model',y='total_claim_amount',data=df_claim,order=car.index)\n",
        "plt.xticks(rotation = 90)\n",
        "plt.show()\n"
      ]
    },
    {
      "cell_type": "code",
      "execution_count": 39,
      "metadata": {
        "colab": {
          "base_uri": "https://localhost:8080/"
        },
        "id": "ruiGaIIRItPF",
        "outputId": "61c7db18-220e-4ce9-8a11-5c2619153892"
      },
      "outputs": [
        {
          "output_type": "stream",
          "name": "stdout",
          "text": [
            "<class 'pandas.core.frame.DataFrame'>\n",
            "RangeIndex: 1000 entries, 0 to 999\n",
            "Data columns (total 48 columns):\n",
            " #   Column                       Non-Null Count  Dtype         \n",
            "---  ------                       --------------  -----         \n",
            " 0   months_as_customer           1000 non-null   int64         \n",
            " 1   age                          1000 non-null   int64         \n",
            " 2   policy_number                1000 non-null   int64         \n",
            " 3   policy_bind_date             1000 non-null   datetime64[ns]\n",
            " 4   policy_state                 1000 non-null   object        \n",
            " 5   policy_csl                   1000 non-null   object        \n",
            " 6   policy_deductable            1000 non-null   int64         \n",
            " 7   policy_annual_premium        1000 non-null   float64       \n",
            " 8   umbrella_limit               1000 non-null   int64         \n",
            " 9   insured_zip                  1000 non-null   int64         \n",
            " 10  insured_sex                  1000 non-null   object        \n",
            " 11  insured_education_level      1000 non-null   object        \n",
            " 12  insured_occupation           1000 non-null   object        \n",
            " 13  insured_hobbies              1000 non-null   object        \n",
            " 14  insured_relationship         1000 non-null   object        \n",
            " 15  capital-gains                1000 non-null   int64         \n",
            " 16  capital-loss                 1000 non-null   int64         \n",
            " 17  incident_date                1000 non-null   datetime64[ns]\n",
            " 18  incident_type                1000 non-null   object        \n",
            " 19  collision_type               1000 non-null   object        \n",
            " 20  incident_severity            1000 non-null   object        \n",
            " 21  authorities_contacted        1000 non-null   object        \n",
            " 22  incident_state               1000 non-null   object        \n",
            " 23  incident_city                1000 non-null   object        \n",
            " 24  incident_location            1000 non-null   object        \n",
            " 25  incident_hour_of_the_day     1000 non-null   int64         \n",
            " 26  number_of_vehicles_involved  1000 non-null   int64         \n",
            " 27  property_damage              1000 non-null   object        \n",
            " 28  bodily_injuries              1000 non-null   int64         \n",
            " 29  witnesses                    1000 non-null   int64         \n",
            " 30  police_report_available      1000 non-null   object        \n",
            " 31  total_claim_amount           1000 non-null   int64         \n",
            " 32  injury_claim                 1000 non-null   int64         \n",
            " 33  property_claim               1000 non-null   int64         \n",
            " 34  vehicle_claim                1000 non-null   int64         \n",
            " 35  auto_make                    1000 non-null   object        \n",
            " 36  auto_model                   1000 non-null   object        \n",
            " 37  auto_year                    1000 non-null   int64         \n",
            " 38  fraud_reported               1000 non-null   object        \n",
            " 39  policy_bind_year             1000 non-null   int64         \n",
            " 40  policy_bind_month            1000 non-null   int64         \n",
            " 41  policy_bind_day              1000 non-null   int64         \n",
            " 42  policy_bind_week_of_year     1000 non-null   UInt32        \n",
            " 43  incident_year                1000 non-null   int64         \n",
            " 44  incident_month               1000 non-null   int64         \n",
            " 45  incident_day                 1000 non-null   int64         \n",
            " 46  incident_week_of_year        1000 non-null   UInt32        \n",
            " 47  incident_time                1000 non-null   int64         \n",
            "dtypes: UInt32(2), datetime64[ns](2), float64(1), int64(24), object(19)\n",
            "memory usage: 369.3+ KB\n"
          ]
        }
      ],
      "source": [
        "df_claim.info()"
      ]
    },
    {
      "cell_type": "code",
      "execution_count": 40,
      "metadata": {
        "colab": {
          "base_uri": "https://localhost:8080/",
          "height": 300
        },
        "id": "xvw0H3zJItVd",
        "outputId": "9ca1c8e7-aa79-4bac-f763-64eca9c5d238"
      },
      "outputs": [
        {
          "output_type": "execute_result",
          "data": {
            "text/plain": [
              "                total_claim_amount\n",
              "incident_state                    \n",
              "NY                        14773770\n",
              "SC                        13538150\n",
              "WV                        10897150\n",
              "VA                         5499770\n",
              "NC                         5421230\n",
              "PA                         1487150\n",
              "OH                         1144720"
            ],
            "text/html": [
              "\n",
              "  <div id=\"df-714abfa3-b6ee-4f32-8e09-6efd43d9cb16\">\n",
              "    <div class=\"colab-df-container\">\n",
              "      <div>\n",
              "<style scoped>\n",
              "    .dataframe tbody tr th:only-of-type {\n",
              "        vertical-align: middle;\n",
              "    }\n",
              "\n",
              "    .dataframe tbody tr th {\n",
              "        vertical-align: top;\n",
              "    }\n",
              "\n",
              "    .dataframe thead th {\n",
              "        text-align: right;\n",
              "    }\n",
              "</style>\n",
              "<table border=\"1\" class=\"dataframe\">\n",
              "  <thead>\n",
              "    <tr style=\"text-align: right;\">\n",
              "      <th></th>\n",
              "      <th>total_claim_amount</th>\n",
              "    </tr>\n",
              "    <tr>\n",
              "      <th>incident_state</th>\n",
              "      <th></th>\n",
              "    </tr>\n",
              "  </thead>\n",
              "  <tbody>\n",
              "    <tr>\n",
              "      <th>NY</th>\n",
              "      <td>14773770</td>\n",
              "    </tr>\n",
              "    <tr>\n",
              "      <th>SC</th>\n",
              "      <td>13538150</td>\n",
              "    </tr>\n",
              "    <tr>\n",
              "      <th>WV</th>\n",
              "      <td>10897150</td>\n",
              "    </tr>\n",
              "    <tr>\n",
              "      <th>VA</th>\n",
              "      <td>5499770</td>\n",
              "    </tr>\n",
              "    <tr>\n",
              "      <th>NC</th>\n",
              "      <td>5421230</td>\n",
              "    </tr>\n",
              "    <tr>\n",
              "      <th>PA</th>\n",
              "      <td>1487150</td>\n",
              "    </tr>\n",
              "    <tr>\n",
              "      <th>OH</th>\n",
              "      <td>1144720</td>\n",
              "    </tr>\n",
              "  </tbody>\n",
              "</table>\n",
              "</div>\n",
              "      <button class=\"colab-df-convert\" onclick=\"convertToInteractive('df-714abfa3-b6ee-4f32-8e09-6efd43d9cb16')\"\n",
              "              title=\"Convert this dataframe to an interactive table.\"\n",
              "              style=\"display:none;\">\n",
              "        \n",
              "  <svg xmlns=\"http://www.w3.org/2000/svg\" height=\"24px\"viewBox=\"0 0 24 24\"\n",
              "       width=\"24px\">\n",
              "    <path d=\"M0 0h24v24H0V0z\" fill=\"none\"/>\n",
              "    <path d=\"M18.56 5.44l.94 2.06.94-2.06 2.06-.94-2.06-.94-.94-2.06-.94 2.06-2.06.94zm-11 1L8.5 8.5l.94-2.06 2.06-.94-2.06-.94L8.5 2.5l-.94 2.06-2.06.94zm10 10l.94 2.06.94-2.06 2.06-.94-2.06-.94-.94-2.06-.94 2.06-2.06.94z\"/><path d=\"M17.41 7.96l-1.37-1.37c-.4-.4-.92-.59-1.43-.59-.52 0-1.04.2-1.43.59L10.3 9.45l-7.72 7.72c-.78.78-.78 2.05 0 2.83L4 21.41c.39.39.9.59 1.41.59.51 0 1.02-.2 1.41-.59l7.78-7.78 2.81-2.81c.8-.78.8-2.07 0-2.86zM5.41 20L4 18.59l7.72-7.72 1.47 1.35L5.41 20z\"/>\n",
              "  </svg>\n",
              "      </button>\n",
              "      \n",
              "  <style>\n",
              "    .colab-df-container {\n",
              "      display:flex;\n",
              "      flex-wrap:wrap;\n",
              "      gap: 12px;\n",
              "    }\n",
              "\n",
              "    .colab-df-convert {\n",
              "      background-color: #E8F0FE;\n",
              "      border: none;\n",
              "      border-radius: 50%;\n",
              "      cursor: pointer;\n",
              "      display: none;\n",
              "      fill: #1967D2;\n",
              "      height: 32px;\n",
              "      padding: 0 0 0 0;\n",
              "      width: 32px;\n",
              "    }\n",
              "\n",
              "    .colab-df-convert:hover {\n",
              "      background-color: #E2EBFA;\n",
              "      box-shadow: 0px 1px 2px rgba(60, 64, 67, 0.3), 0px 1px 3px 1px rgba(60, 64, 67, 0.15);\n",
              "      fill: #174EA6;\n",
              "    }\n",
              "\n",
              "    [theme=dark] .colab-df-convert {\n",
              "      background-color: #3B4455;\n",
              "      fill: #D2E3FC;\n",
              "    }\n",
              "\n",
              "    [theme=dark] .colab-df-convert:hover {\n",
              "      background-color: #434B5C;\n",
              "      box-shadow: 0px 1px 3px 1px rgba(0, 0, 0, 0.15);\n",
              "      filter: drop-shadow(0px 1px 2px rgba(0, 0, 0, 0.3));\n",
              "      fill: #FFFFFF;\n",
              "    }\n",
              "  </style>\n",
              "\n",
              "      <script>\n",
              "        const buttonEl =\n",
              "          document.querySelector('#df-714abfa3-b6ee-4f32-8e09-6efd43d9cb16 button.colab-df-convert');\n",
              "        buttonEl.style.display =\n",
              "          google.colab.kernel.accessAllowed ? 'block' : 'none';\n",
              "\n",
              "        async function convertToInteractive(key) {\n",
              "          const element = document.querySelector('#df-714abfa3-b6ee-4f32-8e09-6efd43d9cb16');\n",
              "          const dataTable =\n",
              "            await google.colab.kernel.invokeFunction('convertToInteractive',\n",
              "                                                     [key], {});\n",
              "          if (!dataTable) return;\n",
              "\n",
              "          const docLinkHtml = 'Like what you see? Visit the ' +\n",
              "            '<a target=\"_blank\" href=https://colab.research.google.com/notebooks/data_table.ipynb>data table notebook</a>'\n",
              "            + ' to learn more about interactive tables.';\n",
              "          element.innerHTML = '';\n",
              "          dataTable['output_type'] = 'display_data';\n",
              "          await google.colab.output.renderOutput(dataTable, element);\n",
              "          const docLink = document.createElement('div');\n",
              "          docLink.innerHTML = docLinkHtml;\n",
              "          element.appendChild(docLink);\n",
              "        }\n",
              "      </script>\n",
              "    </div>\n",
              "  </div>\n",
              "  "
            ]
          },
          "metadata": {},
          "execution_count": 40
        }
      ],
      "source": [
        "states=df_claim.groupby('incident_state')[['total_claim_amount']].sum().sort_values(by='total_claim_amount',ascending= False)\n",
        "states"
      ]
    },
    {
      "cell_type": "code",
      "execution_count": 41,
      "metadata": {
        "colab": {
          "base_uri": "https://localhost:8080/",
          "height": 319
        },
        "id": "Y6YQ1cXeItcB",
        "outputId": "c4d9ed1b-e07e-4b08-bed4-3e79d36d4948"
      },
      "outputs": [
        {
          "output_type": "stream",
          "name": "stderr",
          "text": [
            "/usr/local/lib/python3.7/dist-packages/ipykernel_launcher.py:2: MatplotlibDeprecationWarning: Non-1D inputs to pie() are currently squeeze()d, but this behavior is deprecated since 3.1 and will be removed in 3.3; pass a 1D array instead.\n",
            "  \n"
          ]
        },
        {
          "output_type": "display_data",
          "data": {
            "text/plain": [
              "<Figure size 432x288 with 1 Axes>"
            ],
            "image/png": "[encoded data removed]"
          },
          "metadata": {}
        }
      ],
      "source": [
        "plt.title('PERCENT CLAIMS IN THE STATES')\n",
        "plt.pie(states,labels=states.index,autopct='%1.2f%%',startangle=0)\n",
        "plt.legend(title='CLAIMS',loc='upper left',fontsize='x-small')\n",
        "plt.show()"
      ]
    },
    {
      "cell_type": "markdown",
      "metadata": {
        "id": "HJBpk-Jn2B9e"
      },
      "source": [
        "New York is leading with the most claims at 28% i.e. 14773770"
      ]
    },
    {
      "cell_type": "code",
      "execution_count": 42,
      "metadata": {
        "colab": {
          "base_uri": "https://localhost:8080/"
        },
        "id": "g5X_NKZZItiU",
        "outputId": "fbce50e8-93e5-42fa-9a26-85876182967e"
      },
      "outputs": [
        {
          "output_type": "execute_result",
          "data": {
            "text/plain": [
              "2015    1000\n",
              "Name: incident_year, dtype: int64"
            ]
          },
          "metadata": {},
          "execution_count": 42
        }
      ],
      "source": [
        "df_claim['incident_year'].value_counts()"
      ]
    },
    {
      "cell_type": "code",
      "execution_count": 43,
      "metadata": {
        "colab": {
          "base_uri": "https://localhost:8080/",
          "height": 175
        },
        "id": "RlD1mJs-Ito0",
        "outputId": "42c1018a-eb20-4cbb-e9a3-703d3928e608"
      },
      "outputs": [
        {
          "output_type": "execute_result",
          "data": {
            "text/plain": [
              "                total_claim_amount\n",
              "incident_month                    \n",
              "1                         27760970\n",
              "2                         24326250\n",
              "3                           674720"
            ],
            "text/html": [
              "\n",
              "  <div id=\"df-981a6110-0c24-4776-a3d6-f86fa29fd1d2\">\n",
              "    <div class=\"colab-df-container\">\n",
              "      <div>\n",
              "<style scoped>\n",
              "    .dataframe tbody tr th:only-of-type {\n",
              "        vertical-align: middle;\n",
              "    }\n",
              "\n",
              "    .dataframe tbody tr th {\n",
              "        vertical-align: top;\n",
              "    }\n",
              "\n",
              "    .dataframe thead th {\n",
              "        text-align: right;\n",
              "    }\n",
              "</style>\n",
              "<table border=\"1\" class=\"dataframe\">\n",
              "  <thead>\n",
              "    <tr style=\"text-align: right;\">\n",
              "      <th></th>\n",
              "      <th>total_claim_amount</th>\n",
              "    </tr>\n",
              "    <tr>\n",
              "      <th>incident_month</th>\n",
              "      <th></th>\n",
              "    </tr>\n",
              "  </thead>\n",
              "  <tbody>\n",
              "    <tr>\n",
              "      <th>1</th>\n",
              "      <td>27760970</td>\n",
              "    </tr>\n",
              "    <tr>\n",
              "      <th>2</th>\n",
              "      <td>24326250</td>\n",
              "    </tr>\n",
              "    <tr>\n",
              "      <th>3</th>\n",
              "      <td>674720</td>\n",
              "    </tr>\n",
              "  </tbody>\n",
              "</table>\n",
              "</div>\n",
              "      <button class=\"colab-df-convert\" onclick=\"convertToInteractive('df-981a6110-0c24-4776-a3d6-f86fa29fd1d2')\"\n",
              "              title=\"Convert this dataframe to an interactive table.\"\n",
              "              style=\"display:none;\">\n",
              "        \n",
              "  <svg xmlns=\"http://www.w3.org/2000/svg\" height=\"24px\"viewBox=\"0 0 24 24\"\n",
              "       width=\"24px\">\n",
              "    <path d=\"M0 0h24v24H0V0z\" fill=\"none\"/>\n",
              "    <path d=\"M18.56 5.44l.94 2.06.94-2.06 2.06-.94-2.06-.94-.94-2.06-.94 2.06-2.06.94zm-11 1L8.5 8.5l.94-2.06 2.06-.94-2.06-.94L8.5 2.5l-.94 2.06-2.06.94zm10 10l.94 2.06.94-2.06 2.06-.94-2.06-.94-.94-2.06-.94 2.06-2.06.94z\"/><path d=\"M17.41 7.96l-1.37-1.37c-.4-.4-.92-.59-1.43-.59-.52 0-1.04.2-1.43.59L10.3 9.45l-7.72 7.72c-.78.78-.78 2.05 0 2.83L4 21.41c.39.39.9.59 1.41.59.51 0 1.02-.2 1.41-.59l7.78-7.78 2.81-2.81c.8-.78.8-2.07 0-2.86zM5.41 20L4 18.59l7.72-7.72 1.47 1.35L5.41 20z\"/>\n",
              "  </svg>\n",
              "      </button>\n",
              "      \n",
              "  <style>\n",
              "    .colab-df-container {\n",
              "      display:flex;\n",
              "      flex-wrap:wrap;\n",
              "      gap: 12px;\n",
              "    }\n",
              "\n",
              "    .colab-df-convert {\n",
              "      background-color: #E8F0FE;\n",
              "      border: none;\n",
              "      border-radius: 50%;\n",
              "      cursor: pointer;\n",
              "      display: none;\n",
              "      fill: #1967D2;\n",
              "      height: 32px;\n",
              "      padding: 0 0 0 0;\n",
              "      width: 32px;\n",
              "    }\n",
              "\n",
              "    .colab-df-convert:hover {\n",
              "      background-color: #E2EBFA;\n",
              "      box-shadow: 0px 1px 2px rgba(60, 64, 67, 0.3), 0px 1px 3px 1px rgba(60, 64, 67, 0.15);\n",
              "      fill: #174EA6;\n",
              "    }\n",
              "\n",
              "    [theme=dark] .colab-df-convert {\n",
              "      background-color: #3B4455;\n",
              "      fill: #D2E3FC;\n",
              "    }\n",
              "\n",
              "    [theme=dark] .colab-df-convert:hover {\n",
              "      background-color: #434B5C;\n",
              "      box-shadow: 0px 1px 3px 1px rgba(0, 0, 0, 0.15);\n",
              "      filter: drop-shadow(0px 1px 2px rgba(0, 0, 0, 0.3));\n",
              "      fill: #FFFFFF;\n",
              "    }\n",
              "  </style>\n",
              "\n",
              "      <script>\n",
              "        const buttonEl =\n",
              "          document.querySelector('#df-981a6110-0c24-4776-a3d6-f86fa29fd1d2 button.colab-df-convert');\n",
              "        buttonEl.style.display =\n",
              "          google.colab.kernel.accessAllowed ? 'block' : 'none';\n",
              "\n",
              "        async function convertToInteractive(key) {\n",
              "          const element = document.querySelector('#df-981a6110-0c24-4776-a3d6-f86fa29fd1d2');\n",
              "          const dataTable =\n",
              "            await google.colab.kernel.invokeFunction('convertToInteractive',\n",
              "                                                     [key], {});\n",
              "          if (!dataTable) return;\n",
              "\n",
              "          const docLinkHtml = 'Like what you see? Visit the ' +\n",
              "            '<a target=\"_blank\" href=https://colab.research.google.com/notebooks/data_table.ipynb>data table notebook</a>'\n",
              "            + ' to learn more about interactive tables.';\n",
              "          element.innerHTML = '';\n",
              "          dataTable['output_type'] = 'display_data';\n",
              "          await google.colab.output.renderOutput(dataTable, element);\n",
              "          const docLink = document.createElement('div');\n",
              "          docLink.innerHTML = docLinkHtml;\n",
              "          element.appendChild(docLink);\n",
              "        }\n",
              "      </script>\n",
              "    </div>\n",
              "  </div>\n",
              "  "
            ]
          },
          "metadata": {},
          "execution_count": 43
        }
      ],
      "source": [
        "df_claim.groupby('incident_month')[['total_claim_amount']].sum()"
      ]
    },
    {
      "cell_type": "code",
      "execution_count": 44,
      "metadata": {
        "colab": {
          "base_uri": "https://localhost:8080/",
          "height": 455
        },
        "id": "aFAhH4lIItu5",
        "outputId": "3d56e8c0-a219-44c0-ee2b-b3936aab1dac"
      },
      "outputs": [
        {
          "output_type": "execute_result",
          "data": {
            "text/plain": [
              "                           total_claim_amount\n",
              "incident_month auto_model                    \n",
              "1              RAM                    1502210\n",
              "               Wrangler               1240380\n",
              "               Forrestor              1188550\n",
              "2              A3                     1124440\n",
              "1              MDX                    1104330\n",
              "...                                       ...\n",
              "3              Maxima                   52290\n",
              "               Neon                     51600\n",
              "               X6                       42930\n",
              "               Tahoe                    38640\n",
              "               A5                       34160\n",
              "\n",
              "[90 rows x 1 columns]"
            ],
            "text/html": [
              "\n",
              "  <div id=\"df-1c5c0cbd-f64d-44cf-a12d-c80c62545f8e\">\n",
              "    <div class=\"colab-df-container\">\n",
              "      <div>\n",
              "<style scoped>\n",
              "    .dataframe tbody tr th:only-of-type {\n",
              "        vertical-align: middle;\n",
              "    }\n",
              "\n",
              "    .dataframe tbody tr th {\n",
              "        vertical-align: top;\n",
              "    }\n",
              "\n",
              "    .dataframe thead th {\n",
              "        text-align: right;\n",
              "    }\n",
              "</style>\n",
              "<table border=\"1\" class=\"dataframe\">\n",
              "  <thead>\n",
              "    <tr style=\"text-align: right;\">\n",
              "      <th></th>\n",
              "      <th></th>\n",
              "      <th>total_claim_amount</th>\n",
              "    </tr>\n",
              "    <tr>\n",
              "      <th>incident_month</th>\n",
              "      <th>auto_model</th>\n",
              "      <th></th>\n",
              "    </tr>\n",
              "  </thead>\n",
              "  <tbody>\n",
              "    <tr>\n",
              "      <th rowspan=\"3\" valign=\"top\">1</th>\n",
              "      <th>RAM</th>\n",
              "      <td>1502210</td>\n",
              "    </tr>\n",
              "    <tr>\n",
              "      <th>Wrangler</th>\n",
              "      <td>1240380</td>\n",
              "    </tr>\n",
              "    <tr>\n",
              "      <th>Forrestor</th>\n",
              "      <td>1188550</td>\n",
              "    </tr>\n",
              "    <tr>\n",
              "      <th>2</th>\n",
              "      <th>A3</th>\n",
              "      <td>1124440</td>\n",
              "    </tr>\n",
              "    <tr>\n",
              "      <th>1</th>\n",
              "      <th>MDX</th>\n",
              "      <td>1104330</td>\n",
              "    </tr>\n",
              "    <tr>\n",
              "      <th>...</th>\n",
              "      <th>...</th>\n",
              "      <td>...</td>\n",
              "    </tr>\n",
              "    <tr>\n",
              "      <th rowspan=\"5\" valign=\"top\">3</th>\n",
              "      <th>Maxima</th>\n",
              "      <td>52290</td>\n",
              "    </tr>\n",
              "    <tr>\n",
              "      <th>Neon</th>\n",
              "      <td>51600</td>\n",
              "    </tr>\n",
              "    <tr>\n",
              "      <th>X6</th>\n",
              "      <td>42930</td>\n",
              "    </tr>\n",
              "    <tr>\n",
              "      <th>Tahoe</th>\n",
              "      <td>38640</td>\n",
              "    </tr>\n",
              "    <tr>\n",
              "      <th>A5</th>\n",
              "      <td>34160</td>\n",
              "    </tr>\n",
              "  </tbody>\n",
              "</table>\n",
              "<p>90 rows × 1 columns</p>\n",
              "</div>\n",
              "      <button class=\"colab-df-convert\" onclick=\"convertToInteractive('df-1c5c0cbd-f64d-44cf-a12d-c80c62545f8e')\"\n",
              "              title=\"Convert this dataframe to an interactive table.\"\n",
              "              style=\"display:none;\">\n",
              "        \n",
              "  <svg xmlns=\"http://www.w3.org/2000/svg\" height=\"24px\"viewBox=\"0 0 24 24\"\n",
              "       width=\"24px\">\n",
              "    <path d=\"M0 0h24v24H0V0z\" fill=\"none\"/>\n",
              "    <path d=\"M18.56 5.44l.94 2.06.94-2.06 2.06-.94-2.06-.94-.94-2.06-.94 2.06-2.06.94zm-11 1L8.5 8.5l.94-2.06 2.06-.94-2.06-.94L8.5 2.5l-.94 2.06-2.06.94zm10 10l.94 2.06.94-2.06 2.06-.94-2.06-.94-.94-2.06-.94 2.06-2.06.94z\"/><path d=\"M17.41 7.96l-1.37-1.37c-.4-.4-.92-.59-1.43-.59-.52 0-1.04.2-1.43.59L10.3 9.45l-7.72 7.72c-.78.78-.78 2.05 0 2.83L4 21.41c.39.39.9.59 1.41.59.51 0 1.02-.2 1.41-.59l7.78-7.78 2.81-2.81c.8-.78.8-2.07 0-2.86zM5.41 20L4 18.59l7.72-7.72 1.47 1.35L5.41 20z\"/>\n",
              "  </svg>\n",
              "      </button>\n",
              "      \n",
              "  <style>\n",
              "    .colab-df-container {\n",
              "      display:flex;\n",
              "      flex-wrap:wrap;\n",
              "      gap: 12px;\n",
              "    }\n",
              "\n",
              "    .colab-df-convert {\n",
              "      background-color: #E8F0FE;\n",
              "      border: none;\n",
              "      border-radius: 50%;\n",
              "      cursor: pointer;\n",
              "      display: none;\n",
              "      fill: #1967D2;\n",
              "      height: 32px;\n",
              "      padding: 0 0 0 0;\n",
              "      width: 32px;\n",
              "    }\n",
              "\n",
              "    .colab-df-convert:hover {\n",
              "      background-color: #E2EBFA;\n",
              "      box-shadow: 0px 1px 2px rgba(60, 64, 67, 0.3), 0px 1px 3px 1px rgba(60, 64, 67, 0.15);\n",
              "      fill: #174EA6;\n",
              "    }\n",
              "\n",
              "    [theme=dark] .colab-df-convert {\n",
              "      background-color: #3B4455;\n",
              "      fill: #D2E3FC;\n",
              "    }\n",
              "\n",
              "    [theme=dark] .colab-df-convert:hover {\n",
              "      background-color: #434B5C;\n",
              "      box-shadow: 0px 1px 3px 1px rgba(0, 0, 0, 0.15);\n",
              "      filter: drop-shadow(0px 1px 2px rgba(0, 0, 0, 0.3));\n",
              "      fill: #FFFFFF;\n",
              "    }\n",
              "  </style>\n",
              "\n",
              "      <script>\n",
              "        const buttonEl =\n",
              "          document.querySelector('#df-1c5c0cbd-f64d-44cf-a12d-c80c62545f8e button.colab-df-convert');\n",
              "        buttonEl.style.display =\n",
              "          google.colab.kernel.accessAllowed ? 'block' : 'none';\n",
              "\n",
              "        async function convertToInteractive(key) {\n",
              "          const element = document.querySelector('#df-1c5c0cbd-f64d-44cf-a12d-c80c62545f8e');\n",
              "          const dataTable =\n",
              "            await google.colab.kernel.invokeFunction('convertToInteractive',\n",
              "                                                     [key], {});\n",
              "          if (!dataTable) return;\n",
              "\n",
              "          const docLinkHtml = 'Like what you see? Visit the ' +\n",
              "            '<a target=\"_blank\" href=https://colab.research.google.com/notebooks/data_table.ipynb>data table notebook</a>'\n",
              "            + ' to learn more about interactive tables.';\n",
              "          element.innerHTML = '';\n",
              "          dataTable['output_type'] = 'display_data';\n",
              "          await google.colab.output.renderOutput(dataTable, element);\n",
              "          const docLink = document.createElement('div');\n",
              "          docLink.innerHTML = docLinkHtml;\n",
              "          element.appendChild(docLink);\n",
              "        }\n",
              "      </script>\n",
              "    </div>\n",
              "  </div>\n",
              "  "
            ]
          },
          "metadata": {},
          "execution_count": 44
        }
      ],
      "source": [
        "df_claim.groupby(['incident_month','auto_model'])[['total_claim_amount']].sum().sort_values(by='total_claim_amount',ascending=False)"
      ]
    },
    {
      "cell_type": "code",
      "execution_count": 45,
      "metadata": {
        "id": "du6rqAdPIt0x"
      },
      "outputs": [],
      "source": [
        "df_claim['incident_month']=df_claim['incident_month'].replace({1:'JAN',2:'FEB',3:'MAR'})"
      ]
    },
    {
      "cell_type": "code",
      "execution_count": 46,
      "metadata": {
        "colab": {
          "base_uri": "https://localhost:8080/"
        },
        "id": "W6-rZRfmLihL",
        "outputId": "8604598d-6c8c-40b6-fe5d-7f0a44787317"
      },
      "outputs": [
        {
          "output_type": "execute_result",
          "data": {
            "text/plain": [
              "JAN    516\n",
              "FEB    472\n",
              "MAR     12\n",
              "Name: incident_month, dtype: int64"
            ]
          },
          "metadata": {},
          "execution_count": 46
        }
      ],
      "source": [
        "df_claim['incident_month'].value_counts()"
      ]
    },
    {
      "cell_type": "code",
      "execution_count": 47,
      "metadata": {
        "id": "jQhbzAQALipe"
      },
      "outputs": [],
      "source": [
        "total_month_claims=df_claim.groupby(['incident_month','auto_model'])[['total_claim_amount']].sum().sort_values(by='total_claim_amount',ascending=False)"
      ]
    },
    {
      "cell_type": "code",
      "execution_count": 48,
      "metadata": {
        "colab": {
          "base_uri": "https://localhost:8080/",
          "height": 294
        },
        "id": "7lZ0m2-PLiu3",
        "outputId": "c1af81ef-5895-459e-b145-3514cfa5cd95"
      },
      "outputs": [
        {
          "output_type": "execute_result",
          "data": {
            "text/plain": [
              "<matplotlib.axes._subplots.AxesSubplot at 0x7fb279472490>"
            ]
          },
          "metadata": {},
          "execution_count": 48
        },
        {
          "output_type": "display_data",
          "data": {
            "text/plain": [
              "<Figure size 432x288 with 2 Axes>"
            ],
            "image/png": "[encoded data removed]"
          },
          "metadata": {
            "needs_background": "light"
          }
        }
      ],
      "source": [
        "sns.heatmap(total_month_claims,fmt='d')"
      ]
    },
    {
      "cell_type": "code",
      "execution_count": 49,
      "metadata": {
        "colab": {
          "base_uri": "https://localhost:8080/",
          "height": 300
        },
        "id": "0tYv07a4Lize",
        "outputId": "d72441b0-034f-4b8c-e9c7-4b8d514de1e4"
      },
      "outputs": [
        {
          "output_type": "execute_result",
          "data": {
            "text/plain": [
              "<matplotlib.axes._subplots.AxesSubplot at 0x7fb276babc50>"
            ]
          },
          "metadata": {},
          "execution_count": 49
        },
        {
          "output_type": "display_data",
          "data": {
            "text/plain": [
              "<Figure size 432x288 with 1 Axes>"
            ],
            "image/png": "[encoded data removed]"
          },
          "metadata": {
            "needs_background": "light"
          }
        }
      ],
      "source": [
        "sns.scatterplot(x = 'policy_annual_premium', y = 'total_claim_amount', data = df_claim)"
      ]
    },
    {
      "cell_type": "markdown",
      "metadata": {
        "id": "LflrniAuiS8g"
      },
      "source": [
        "# preparing the data for training"
      ]
    },
    {
      "cell_type": "code",
      "execution_count": 50,
      "metadata": {
        "colab": {
          "base_uri": "https://localhost:8080/"
        },
        "id": "_0VysLCxLi3Q",
        "outputId": "b4009d6d-4bd6-4707-ac4c-654da4679284"
      },
      "outputs": [
        {
          "output_type": "execute_result",
          "data": {
            "text/plain": [
              "Index(['months_as_customer', 'age', 'policy_number', 'policy_bind_date',\n",
              "       'policy_state', 'policy_csl', 'policy_deductable',\n",
              "       'policy_annual_premium', 'umbrella_limit', 'insured_zip', 'insured_sex',\n",
              "       'insured_education_level', 'insured_occupation', 'insured_hobbies',\n",
              "       'insured_relationship', 'capital-gains', 'capital-loss',\n",
              "       'incident_date', 'incident_type', 'collision_type', 'incident_severity',\n",
              "       'authorities_contacted', 'incident_state', 'incident_city',\n",
              "       'incident_location', 'incident_hour_of_the_day',\n",
              "       'number_of_vehicles_involved', 'property_damage', 'bodily_injuries',\n",
              "       'witnesses', 'police_report_available', 'total_claim_amount',\n",
              "       'injury_claim', 'property_claim', 'vehicle_claim', 'auto_make',\n",
              "       'auto_model', 'auto_year', 'fraud_reported', 'policy_bind_year',\n",
              "       'policy_bind_month', 'policy_bind_day', 'policy_bind_week_of_year',\n",
              "       'incident_year', 'incident_month', 'incident_day',\n",
              "       'incident_week_of_year', 'incident_time'],\n",
              "      dtype='object')"
            ]
          },
          "metadata": {},
          "execution_count": 50
        }
      ],
      "source": [
        "df_claim.columns"
      ]
    },
    {
      "cell_type": "code",
      "execution_count": 51,
      "metadata": {
        "colab": {
          "base_uri": "https://localhost:8080/"
        },
        "id": "5r7J85jDLi7H",
        "outputId": "da074612-461c-4a22-9821-8b317e75286c"
      },
      "outputs": [
        {
          "output_type": "execute_result",
          "data": {
            "text/plain": [
              "(1000, 48)"
            ]
          },
          "metadata": {},
          "execution_count": 51
        }
      ],
      "source": [
        "df_claim.shape"
      ]
    },
    {
      "cell_type": "code",
      "execution_count": 52,
      "metadata": {
        "id": "85SBcr16ijly"
      },
      "outputs": [],
      "source": [
        "input_col=['months_as_customer', 'age', 'policy_number', 'policy_bind_date',\n",
        "       'policy_state', 'policy_csl', 'policy_deductable',\n",
        "       'policy_annual_premium', 'umbrella_limit', 'insured_zip', 'insured_sex',\n",
        "       'insured_education_level', 'insured_occupation', 'insured_hobbies',\n",
        "       'insured_relationship', 'capital-gains', 'capital-loss',\n",
        "       'incident_date', 'incident_type', 'collision_type', 'incident_severity',\n",
        "       'authorities_contacted', 'incident_state', 'incident_city',\n",
        "       'incident_location', 'incident_hour_of_the_day',\n",
        "       'number_of_vehicles_involved', 'property_damage', 'bodily_injuries',\n",
        "       'witnesses', 'police_report_available', 'auto_make',\n",
        "       'auto_model', 'auto_year', 'fraud_reported', 'policy_bind_year',\n",
        "       'policy_bind_month', 'policy_bind_day', 'policy_bind_week_of_year',\n",
        "       'incident_year', 'incident_month', 'incident_day',\n",
        "       'incident_week_of_year', 'incident_time']\n",
        "\n",
        "\n",
        "target_col = ['total_claim_amount']"
      ]
    },
    {
      "cell_type": "code",
      "execution_count": 53,
      "metadata": {
        "id": "Bq-eeQvOijxO"
      },
      "outputs": [],
      "source": [
        "inputs = df_claim[input_col]\n",
        "targets = df_claim[target_col]"
      ]
    },
    {
      "cell_type": "code",
      "execution_count": 54,
      "metadata": {
        "colab": {
          "base_uri": "https://localhost:8080/",
          "height": 424
        },
        "id": "aKvYxrHfjkZ_",
        "outputId": "44859dcf-bf68-4ad2-d181-cb2f44188933"
      },
      "outputs": [
        {
          "output_type": "execute_result",
          "data": {
            "text/plain": [
              "     total_claim_amount\n",
              "0                 71610\n",
              "1                  5070\n",
              "2                 34650\n",
              "3                 63400\n",
              "4                  6500\n",
              "..                  ...\n",
              "995               87200\n",
              "996              108480\n",
              "997               67500\n",
              "998               46980\n",
              "999                5060\n",
              "\n",
              "[1000 rows x 1 columns]"
            ],
            "text/html": [
              "\n",
              "  <div id=\"df-ca3b3415-571b-47df-8246-cd80f2bbbd5a\">\n",
              "    <div class=\"colab-df-container\">\n",
              "      <div>\n",
              "<style scoped>\n",
              "    .dataframe tbody tr th:only-of-type {\n",
              "        vertical-align: middle;\n",
              "    }\n",
              "\n",
              "    .dataframe tbody tr th {\n",
              "        vertical-align: top;\n",
              "    }\n",
              "\n",
              "    .dataframe thead th {\n",
              "        text-align: right;\n",
              "    }\n",
              "</style>\n",
              "<table border=\"1\" class=\"dataframe\">\n",
              "  <thead>\n",
              "    <tr style=\"text-align: right;\">\n",
              "      <th></th>\n",
              "      <th>total_claim_amount</th>\n",
              "    </tr>\n",
              "  </thead>\n",
              "  <tbody>\n",
              "    <tr>\n",
              "      <th>0</th>\n",
              "      <td>71610</td>\n",
              "    </tr>\n",
              "    <tr>\n",
              "      <th>1</th>\n",
              "      <td>5070</td>\n",
              "    </tr>\n",
              "    <tr>\n",
              "      <th>2</th>\n",
              "      <td>34650</td>\n",
              "    </tr>\n",
              "    <tr>\n",
              "      <th>3</th>\n",
              "      <td>63400</td>\n",
              "    </tr>\n",
              "    <tr>\n",
              "      <th>4</th>\n",
              "      <td>6500</td>\n",
              "    </tr>\n",
              "    <tr>\n",
              "      <th>...</th>\n",
              "      <td>...</td>\n",
              "    </tr>\n",
              "    <tr>\n",
              "      <th>995</th>\n",
              "      <td>87200</td>\n",
              "    </tr>\n",
              "    <tr>\n",
              "      <th>996</th>\n",
              "      <td>108480</td>\n",
              "    </tr>\n",
              "    <tr>\n",
              "      <th>997</th>\n",
              "      <td>67500</td>\n",
              "    </tr>\n",
              "    <tr>\n",
              "      <th>998</th>\n",
              "      <td>46980</td>\n",
              "    </tr>\n",
              "    <tr>\n",
              "      <th>999</th>\n",
              "      <td>5060</td>\n",
              "    </tr>\n",
              "  </tbody>\n",
              "</table>\n",
              "<p>1000 rows × 1 columns</p>\n",
              "</div>\n",
              "      <button class=\"colab-df-convert\" onclick=\"convertToInteractive('df-ca3b3415-571b-47df-8246-cd80f2bbbd5a')\"\n",
              "              title=\"Convert this dataframe to an interactive table.\"\n",
              "              style=\"display:none;\">\n",
              "        \n",
              "  <svg xmlns=\"http://www.w3.org/2000/svg\" height=\"24px\"viewBox=\"0 0 24 24\"\n",
              "       width=\"24px\">\n",
              "    <path d=\"M0 0h24v24H0V0z\" fill=\"none\"/>\n",
              "    <path d=\"M18.56 5.44l.94 2.06.94-2.06 2.06-.94-2.06-.94-.94-2.06-.94 2.06-2.06.94zm-11 1L8.5 8.5l.94-2.06 2.06-.94-2.06-.94L8.5 2.5l-.94 2.06-2.06.94zm10 10l.94 2.06.94-2.06 2.06-.94-2.06-.94-.94-2.06-.94 2.06-2.06.94z\"/><path d=\"M17.41 7.96l-1.37-1.37c-.4-.4-.92-.59-1.43-.59-.52 0-1.04.2-1.43.59L10.3 9.45l-7.72 7.72c-.78.78-.78 2.05 0 2.83L4 21.41c.39.39.9.59 1.41.59.51 0 1.02-.2 1.41-.59l7.78-7.78 2.81-2.81c.8-.78.8-2.07 0-2.86zM5.41 20L4 18.59l7.72-7.72 1.47 1.35L5.41 20z\"/>\n",
              "  </svg>\n",
              "      </button>\n",
              "      \n",
              "  <style>\n",
              "    .colab-df-container {\n",
              "      display:flex;\n",
              "      flex-wrap:wrap;\n",
              "      gap: 12px;\n",
              "    }\n",
              "\n",
              "    .colab-df-convert {\n",
              "      background-color: #E8F0FE;\n",
              "      border: none;\n",
              "      border-radius: 50%;\n",
              "      cursor: pointer;\n",
              "      display: none;\n",
              "      fill: #1967D2;\n",
              "      height: 32px;\n",
              "      padding: 0 0 0 0;\n",
              "      width: 32px;\n",
              "    }\n",
              "\n",
              "    .colab-df-convert:hover {\n",
              "      background-color: #E2EBFA;\n",
              "      box-shadow: 0px 1px 2px rgba(60, 64, 67, 0.3), 0px 1px 3px 1px rgba(60, 64, 67, 0.15);\n",
              "      fill: #174EA6;\n",
              "    }\n",
              "\n",
              "    [theme=dark] .colab-df-convert {\n",
              "      background-color: #3B4455;\n",
              "      fill: #D2E3FC;\n",
              "    }\n",
              "\n",
              "    [theme=dark] .colab-df-convert:hover {\n",
              "      background-color: #434B5C;\n",
              "      box-shadow: 0px 1px 3px 1px rgba(0, 0, 0, 0.15);\n",
              "      filter: drop-shadow(0px 1px 2px rgba(0, 0, 0, 0.3));\n",
              "      fill: #FFFFFF;\n",
              "    }\n",
              "  </style>\n",
              "\n",
              "      <script>\n",
              "        const buttonEl =\n",
              "          document.querySelector('#df-ca3b3415-571b-47df-8246-cd80f2bbbd5a button.colab-df-convert');\n",
              "        buttonEl.style.display =\n",
              "          google.colab.kernel.accessAllowed ? 'block' : 'none';\n",
              "\n",
              "        async function convertToInteractive(key) {\n",
              "          const element = document.querySelector('#df-ca3b3415-571b-47df-8246-cd80f2bbbd5a');\n",
              "          const dataTable =\n",
              "            await google.colab.kernel.invokeFunction('convertToInteractive',\n",
              "                                                     [key], {});\n",
              "          if (!dataTable) return;\n",
              "\n",
              "          const docLinkHtml = 'Like what you see? Visit the ' +\n",
              "            '<a target=\"_blank\" href=https://colab.research.google.com/notebooks/data_table.ipynb>data table notebook</a>'\n",
              "            + ' to learn more about interactive tables.';\n",
              "          element.innerHTML = '';\n",
              "          dataTable['output_type'] = 'display_data';\n",
              "          await google.colab.output.renderOutput(dataTable, element);\n",
              "          const docLink = document.createElement('div');\n",
              "          docLink.innerHTML = docLinkHtml;\n",
              "          element.appendChild(docLink);\n",
              "        }\n",
              "      </script>\n",
              "    </div>\n",
              "  </div>\n",
              "  "
            ]
          },
          "metadata": {},
          "execution_count": 54
        }
      ],
      "source": [
        "targets"
      ]
    },
    {
      "cell_type": "code",
      "execution_count": 55,
      "metadata": {
        "colab": {
          "base_uri": "https://localhost:8080/"
        },
        "id": "636fnOxTij8M",
        "outputId": "c683d56c-6d8e-4e75-c8da-a230298ec67e"
      },
      "outputs": [
        {
          "output_type": "stream",
          "name": "stdout",
          "text": [
            "<class 'pandas.core.frame.DataFrame'>\n",
            "RangeIndex: 1000 entries, 0 to 999\n",
            "Data columns (total 44 columns):\n",
            " #   Column                       Non-Null Count  Dtype         \n",
            "---  ------                       --------------  -----         \n",
            " 0   months_as_customer           1000 non-null   int64         \n",
            " 1   age                          1000 non-null   int64         \n",
            " 2   policy_number                1000 non-null   int64         \n",
            " 3   policy_bind_date             1000 non-null   datetime64[ns]\n",
            " 4   policy_state                 1000 non-null   object        \n",
            " 5   policy_csl                   1000 non-null   object        \n",
            " 6   policy_deductable            1000 non-null   int64         \n",
            " 7   policy_annual_premium        1000 non-null   float64       \n",
            " 8   umbrella_limit               1000 non-null   int64         \n",
            " 9   insured_zip                  1000 non-null   int64         \n",
            " 10  insured_sex                  1000 non-null   object        \n",
            " 11  insured_education_level      1000 non-null   object        \n",
            " 12  insured_occupation           1000 non-null   object        \n",
            " 13  insured_hobbies              1000 non-null   object        \n",
            " 14  insured_relationship         1000 non-null   object        \n",
            " 15  capital-gains                1000 non-null   int64         \n",
            " 16  capital-loss                 1000 non-null   int64         \n",
            " 17  incident_date                1000 non-null   datetime64[ns]\n",
            " 18  incident_type                1000 non-null   object        \n",
            " 19  collision_type               1000 non-null   object        \n",
            " 20  incident_severity            1000 non-null   object        \n",
            " 21  authorities_contacted        1000 non-null   object        \n",
            " 22  incident_state               1000 non-null   object        \n",
            " 23  incident_city                1000 non-null   object        \n",
            " 24  incident_location            1000 non-null   object        \n",
            " 25  incident_hour_of_the_day     1000 non-null   int64         \n",
            " 26  number_of_vehicles_involved  1000 non-null   int64         \n",
            " 27  property_damage              1000 non-null   object        \n",
            " 28  bodily_injuries              1000 non-null   int64         \n",
            " 29  witnesses                    1000 non-null   int64         \n",
            " 30  police_report_available      1000 non-null   object        \n",
            " 31  auto_make                    1000 non-null   object        \n",
            " 32  auto_model                   1000 non-null   object        \n",
            " 33  auto_year                    1000 non-null   int64         \n",
            " 34  fraud_reported               1000 non-null   object        \n",
            " 35  policy_bind_year             1000 non-null   int64         \n",
            " 36  policy_bind_month            1000 non-null   int64         \n",
            " 37  policy_bind_day              1000 non-null   int64         \n",
            " 38  policy_bind_week_of_year     1000 non-null   UInt32        \n",
            " 39  incident_year                1000 non-null   int64         \n",
            " 40  incident_month               1000 non-null   object        \n",
            " 41  incident_day                 1000 non-null   int64         \n",
            " 42  incident_week_of_year        1000 non-null   UInt32        \n",
            " 43  incident_time                1000 non-null   int64         \n",
            "dtypes: UInt32(2), datetime64[ns](2), float64(1), int64(19), object(20)\n",
            "memory usage: 338.0+ KB\n"
          ]
        }
      ],
      "source": [
        "inputs.info()"
      ]
    },
    {
      "cell_type": "code",
      "execution_count": 56,
      "metadata": {
        "colab": {
          "base_uri": "https://localhost:8080/"
        },
        "id": "nvcvClUfikG4",
        "outputId": "dddea1fd-1da4-476f-dca8-0fbe4fe0deab"
      },
      "outputs": [
        {
          "output_type": "stream",
          "name": "stdout",
          "text": [
            "<class 'pandas.core.frame.DataFrame'>\n",
            "RangeIndex: 1000 entries, 0 to 999\n",
            "Data columns (total 1 columns):\n",
            " #   Column              Non-Null Count  Dtype\n",
            "---  ------              --------------  -----\n",
            " 0   total_claim_amount  1000 non-null   int64\n",
            "dtypes: int64(1)\n",
            "memory usage: 7.9 KB\n"
          ]
        }
      ],
      "source": [
        "targets.info()"
      ]
    },
    {
      "cell_type": "code",
      "execution_count": 57,
      "metadata": {
        "colab": {
          "base_uri": "https://localhost:8080/"
        },
        "id": "c7A4Aal7ikQ6",
        "outputId": "d572d4ad-b456-44d6-939b-f64dddb498ba"
      },
      "outputs": [
        {
          "output_type": "execute_result",
          "data": {
            "text/plain": [
              "((1000, 44), (1000, 1))"
            ]
          },
          "metadata": {},
          "execution_count": 57
        }
      ],
      "source": [
        "inputs.shape, targets.shape"
      ]
    },
    {
      "cell_type": "code",
      "execution_count": 58,
      "metadata": {
        "colab": {
          "base_uri": "https://localhost:8080/"
        },
        "id": "DTzbFxwqikb6",
        "outputId": "6dfed3de-5f41-4fdd-9655-24f6908e7a76"
      },
      "outputs": [
        {
          "output_type": "execute_result",
          "data": {
            "text/plain": [
              "22"
            ]
          },
          "metadata": {},
          "execution_count": 58
        }
      ],
      "source": [
        "numeric_cols = inputs.select_dtypes(include=np.number).columns.tolist()\n",
        "len(numeric_cols)"
      ]
    },
    {
      "cell_type": "code",
      "execution_count": 59,
      "metadata": {
        "colab": {
          "base_uri": "https://localhost:8080/"
        },
        "id": "Ha7wjtV2Li-Z",
        "outputId": "67093f39-5f77-43b7-ca53-74cd90982807"
      },
      "outputs": [
        {
          "output_type": "execute_result",
          "data": {
            "text/plain": [
              "22"
            ]
          },
          "metadata": {},
          "execution_count": 59
        }
      ],
      "source": [
        "categorical_cols = (inputs.select_dtypes(include=['object', 'datetime64[ns]']).columns.tolist())\n",
        "len(categorical_cols)"
      ]
    },
    {
      "cell_type": "code",
      "execution_count": 60,
      "metadata": {
        "colab": {
          "base_uri": "https://localhost:8080/"
        },
        "id": "N51uN74ALjB_",
        "outputId": "e6c6aecf-5cf4-430d-ea6d-2a9e0aff6b20"
      },
      "outputs": [
        {
          "output_type": "execute_result",
          "data": {
            "text/plain": [
              "['months_as_customer',\n",
              " 'age',\n",
              " 'policy_number',\n",
              " 'policy_deductable',\n",
              " 'policy_annual_premium',\n",
              " 'umbrella_limit',\n",
              " 'insured_zip',\n",
              " 'capital-gains',\n",
              " 'capital-loss',\n",
              " 'incident_hour_of_the_day',\n",
              " 'number_of_vehicles_involved',\n",
              " 'bodily_injuries',\n",
              " 'witnesses',\n",
              " 'auto_year',\n",
              " 'policy_bind_year',\n",
              " 'policy_bind_month',\n",
              " 'policy_bind_day',\n",
              " 'policy_bind_week_of_year',\n",
              " 'incident_year',\n",
              " 'incident_day',\n",
              " 'incident_week_of_year',\n",
              " 'incident_time']"
            ]
          },
          "metadata": {},
          "execution_count": 60
        }
      ],
      "source": [
        "numeric_cols"
      ]
    },
    {
      "cell_type": "code",
      "execution_count": 61,
      "metadata": {
        "colab": {
          "base_uri": "https://localhost:8080/"
        },
        "id": "SKDZKvUSkU4v",
        "outputId": "f58f3e95-6401-471f-8cf5-0d9d215a888f"
      },
      "outputs": [
        {
          "output_type": "execute_result",
          "data": {
            "text/plain": [
              "['policy_bind_date',\n",
              " 'policy_state',\n",
              " 'policy_csl',\n",
              " 'insured_sex',\n",
              " 'insured_education_level',\n",
              " 'insured_occupation',\n",
              " 'insured_hobbies',\n",
              " 'insured_relationship',\n",
              " 'incident_date',\n",
              " 'incident_type',\n",
              " 'collision_type',\n",
              " 'incident_severity',\n",
              " 'authorities_contacted',\n",
              " 'incident_state',\n",
              " 'incident_city',\n",
              " 'incident_location',\n",
              " 'property_damage',\n",
              " 'police_report_available',\n",
              " 'auto_make',\n",
              " 'auto_model',\n",
              " 'fraud_reported',\n",
              " 'incident_month']"
            ]
          },
          "metadata": {},
          "execution_count": 61
        }
      ],
      "source": [
        "categorical_cols"
      ]
    },
    {
      "cell_type": "code",
      "execution_count": 62,
      "metadata": {
        "colab": {
          "base_uri": "https://localhost:8080/"
        },
        "id": "N7bXtA_skeeC",
        "outputId": "deede558-2da3-4d2a-e2e8-3c726ea40682"
      },
      "outputs": [
        {
          "output_type": "execute_result",
          "data": {
            "text/plain": [
              "True"
            ]
          },
          "metadata": {},
          "execution_count": 62
        }
      ],
      "source": [
        "len(input_col) == len(numeric_cols) + len(categorical_cols)"
      ]
    },
    {
      "cell_type": "code",
      "execution_count": 63,
      "metadata": {
        "colab": {
          "base_uri": "https://localhost:8080/"
        },
        "id": "ySzCGnBgke8T",
        "outputId": "c3c7ec44-2eaa-4b67-f230-92662a09b547"
      },
      "outputs": [
        {
          "output_type": "stream",
          "name": "stderr",
          "text": [
            "/usr/local/lib/python3.7/dist-packages/pandas/core/frame.py:3678: SettingWithCopyWarning: \n",
            "A value is trying to be set on a copy of a slice from a DataFrame.\n",
            "Try using .loc[row_indexer,col_indexer] = value instead\n",
            "\n",
            "See the caveats in the documentation: https://pandas.pydata.org/pandas-docs/stable/user_guide/indexing.html#returning-a-view-versus-a-copy\n",
            "  self[col] = igetitem(value, i)\n"
          ]
        }
      ],
      "source": [
        "from sklearn.preprocessing import MinMaxScaler\n",
        "scaler = MinMaxScaler().fit(inputs[numeric_cols])\n",
        "inputs[numeric_cols] = scaler.transform(inputs[numeric_cols])"
      ]
    },
    {
      "cell_type": "code",
      "execution_count": 64,
      "metadata": {
        "colab": {
          "base_uri": "https://localhost:8080/"
        },
        "id": "FE0gnZLckfFu",
        "outputId": "ae61d8b8-7167-4793-ee18-40ce4a58e75c"
      },
      "outputs": [
        {
          "output_type": "stream",
          "name": "stderr",
          "text": [
            "/usr/local/lib/python3.7/dist-packages/sklearn/utils/deprecation.py:87: FutureWarning: Function get_feature_names is deprecated; get_feature_names is deprecated in 1.0 and will be removed in 1.2. Please use get_feature_names_out instead.\n",
            "  warnings.warn(msg, category=FutureWarning)\n",
            "/usr/local/lib/python3.7/dist-packages/pandas/core/frame.py:3678: SettingWithCopyWarning: \n",
            "A value is trying to be set on a copy of a slice from a DataFrame.\n",
            "Try using .loc[row_indexer,col_indexer] = value instead\n",
            "\n",
            "See the caveats in the documentation: https://pandas.pydata.org/pandas-docs/stable/user_guide/indexing.html#returning-a-view-versus-a-copy\n",
            "  self[col] = igetitem(value, i)\n",
            "/usr/local/lib/python3.7/dist-packages/pandas/core/frame.py:3678: PerformanceWarning: DataFrame is highly fragmented.  This is usually the result of calling `frame.insert` many times, which has poor performance.  Consider joining all columns at once using pd.concat(axis=1) instead.  To get a de-fragmented frame, use `newframe = frame.copy()`\n",
            "  self[col] = igetitem(value, i)\n"
          ]
        }
      ],
      "source": [
        "from sklearn.preprocessing import OneHotEncoder\n",
        "encoder = OneHotEncoder(sparse=False, handle_unknown='ignore').fit(inputs[categorical_cols])\n",
        "encoded_cols = list(encoder.get_feature_names(categorical_cols))\n",
        "inputs[encoded_cols] = encoder.transform(inputs[categorical_cols])"
      ]
    },
    {
      "cell_type": "code",
      "execution_count": 65,
      "metadata": {
        "colab": {
          "base_uri": "https://localhost:8080/"
        },
        "id": "n7GXNgj6kfOX",
        "outputId": "526e0f6d-f3f4-45a7-fe26-116bb20b8a60"
      },
      "outputs": [
        {
          "output_type": "execute_result",
          "data": {
            "text/plain": [
              "(1000, 2205)"
            ]
          },
          "metadata": {},
          "execution_count": 65
        }
      ],
      "source": [
        "inputs.shape"
      ]
    },
    {
      "cell_type": "code",
      "execution_count": 66,
      "metadata": {
        "colab": {
          "base_uri": "https://localhost:8080/"
        },
        "id": "u-uCVDEnkfUz",
        "outputId": "43677fc0-b649-484d-a351-c7bbf7daaafb"
      },
      "outputs": [
        {
          "output_type": "stream",
          "name": "stdout",
          "text": [
            "<class 'pandas.core.frame.DataFrame'>\n",
            "RangeIndex: 1000 entries, 0 to 999\n",
            "Columns: 2205 entries, months_as_customer to incident_month_MAR\n",
            "dtypes: datetime64[ns](2), float64(2183), object(20)\n",
            "memory usage: 16.8+ MB\n"
          ]
        }
      ],
      "source": [
        "inputs.info()"
      ]
    },
    {
      "cell_type": "code",
      "execution_count": 67,
      "metadata": {
        "colab": {
          "base_uri": "https://localhost:8080/",
          "height": 411
        },
        "id": "ZcP_38u5kfbJ",
        "outputId": "9e04bfd3-28de-4f8b-b91d-5dddaab76099"
      },
      "outputs": [
        {
          "output_type": "execute_result",
          "data": {
            "text/plain": [
              "       months_as_customer          age  policy_number  policy_deductable  \\\n",
              "count         1000.000000  1000.000000    1000.000000        1000.000000   \n",
              "mean             0.425791     0.443289       0.495681           0.424000   \n",
              "std              0.240320     0.203117       0.286061           0.407910   \n",
              "min              0.000000     0.000000       0.000000           0.000000   \n",
              "25%              0.241649     0.288889       0.261705           0.000000   \n",
              "50%              0.416493     0.422222       0.481100           0.333333   \n",
              "75%              0.576722     0.555556       0.732554           1.000000   \n",
              "max              1.000000     1.000000       1.000000           1.000000   \n",
              "\n",
              "       policy_annual_premium  umbrella_limit  insured_zip  capital-gains  \\\n",
              "count            1000.000000     1000.000000  1000.000000    1000.000000   \n",
              "mean                0.509878        0.191000     0.372583       0.250011   \n",
              "std                 0.151257        0.208855     0.375680       0.277335   \n",
              "min                 0.000000        0.000000     0.000000       0.000000   \n",
              "25%                 0.406550        0.090909     0.095885       0.000000   \n",
              "50%                 0.510370        0.090909     0.190411       0.000000   \n",
              "75%                 0.608554        0.090909     0.907203       0.507711   \n",
              "max                 1.000000        1.000000     1.000000       1.000000   \n",
              "\n",
              "       capital-loss  incident_hour_of_the_day  ...  auto_model_Tahoe  \\\n",
              "count   1000.000000               1000.000000  ...       1000.000000   \n",
              "mean       0.758833                  0.506261  ...          0.024000   \n",
              "std        0.252962                  0.302234  ...          0.153126   \n",
              "min        0.000000                  0.000000  ...          0.000000   \n",
              "25%        0.536454                  0.260870  ...          0.000000   \n",
              "50%        0.790729                  0.521739  ...          0.000000   \n",
              "75%        1.000000                  0.739130  ...          0.000000   \n",
              "max        1.000000                  1.000000  ...          1.000000   \n",
              "\n",
              "       auto_model_Ultima  auto_model_Wrangler  auto_model_X5  auto_model_X6  \\\n",
              "count        1000.000000           1000.00000    1000.000000    1000.000000   \n",
              "mean            0.023000              0.04200       0.023000       0.016000   \n",
              "std             0.149978              0.20069       0.149978       0.125538   \n",
              "min             0.000000              0.00000       0.000000       0.000000   \n",
              "25%             0.000000              0.00000       0.000000       0.000000   \n",
              "50%             0.000000              0.00000       0.000000       0.000000   \n",
              "75%             0.000000              0.00000       0.000000       0.000000   \n",
              "max             1.000000              1.00000       1.000000       1.000000   \n",
              "\n",
              "       fraud_reported_N  fraud_reported_Y  incident_month_FEB  \\\n",
              "count       1000.000000       1000.000000         1000.000000   \n",
              "mean           0.753000          0.247000            0.472000   \n",
              "std            0.431483          0.431483            0.499465   \n",
              "min            0.000000          0.000000            0.000000   \n",
              "25%            1.000000          0.000000            0.000000   \n",
              "50%            1.000000          0.000000            0.000000   \n",
              "75%            1.000000          0.000000            1.000000   \n",
              "max            1.000000          1.000000            1.000000   \n",
              "\n",
              "       incident_month_JAN  incident_month_MAR  \n",
              "count         1000.000000          1000.00000  \n",
              "mean             0.516000             0.01200  \n",
              "std              0.499994             0.10894  \n",
              "min              0.000000             0.00000  \n",
              "25%              0.000000             0.00000  \n",
              "50%              1.000000             0.00000  \n",
              "75%              1.000000             0.00000  \n",
              "max              1.000000             1.00000  \n",
              "\n",
              "[8 rows x 2183 columns]"
            ],
            "text/html": [
              "\n",
              "  <div id=\"df-f4a59941-3da3-40ca-a985-2149f33486a3\">\n",
              "    <div class=\"colab-df-container\">\n",
              "      <div>\n",
              "<style scoped>\n",
              "    .dataframe tbody tr th:only-of-type {\n",
              "        vertical-align: middle;\n",
              "    }\n",
              "\n",
              "    .dataframe tbody tr th {\n",
              "        vertical-align: top;\n",
              "    }\n",
              "\n",
              "    .dataframe thead th {\n",
              "        text-align: right;\n",
              "    }\n",
              "</style>\n",
              "<table border=\"1\" class=\"dataframe\">\n",
              "  <thead>\n",
              "    <tr style=\"text-align: right;\">\n",
              "      <th></th>\n",
              "      <th>months_as_customer</th>\n",
              "      <th>age</th>\n",
              "      <th>policy_number</th>\n",
              "      <th>policy_deductable</th>\n",
              "      <th>policy_annual_premium</th>\n",
              "      <th>umbrella_limit</th>\n",
              "      <th>insured_zip</th>\n",
              "      <th>capital-gains</th>\n",
              "      <th>capital-loss</th>\n",
              "      <th>incident_hour_of_the_day</th>\n",
              "      <th>...</th>\n",
              "      <th>auto_model_Tahoe</th>\n",
              "      <th>auto_model_Ultima</th>\n",
              "      <th>auto_model_Wrangler</th>\n",
              "      <th>auto_model_X5</th>\n",
              "      <th>auto_model_X6</th>\n",
              "      <th>fraud_reported_N</th>\n",
              "      <th>fraud_reported_Y</th>\n",
              "      <th>incident_month_FEB</th>\n",
              "      <th>incident_month_JAN</th>\n",
              "      <th>incident_month_MAR</th>\n",
              "    </tr>\n",
              "  </thead>\n",
              "  <tbody>\n",
              "    <tr>\n",
              "      <th>count</th>\n",
              "      <td>1000.000000</td>\n",
              "      <td>1000.000000</td>\n",
              "      <td>1000.000000</td>\n",
              "      <td>1000.000000</td>\n",
              "      <td>1000.000000</td>\n",
              "      <td>1000.000000</td>\n",
              "      <td>1000.000000</td>\n",
              "      <td>1000.000000</td>\n",
              "      <td>1000.000000</td>\n",
              "      <td>1000.000000</td>\n",
              "      <td>...</td>\n",
              "      <td>1000.000000</td>\n",
              "      <td>1000.000000</td>\n",
              "      <td>1000.00000</td>\n",
              "      <td>1000.000000</td>\n",
              "      <td>1000.000000</td>\n",
              "      <td>1000.000000</td>\n",
              "      <td>1000.000000</td>\n",
              "      <td>1000.000000</td>\n",
              "      <td>1000.000000</td>\n",
              "      <td>1000.00000</td>\n",
              "    </tr>\n",
              "    <tr>\n",
              "      <th>mean</th>\n",
              "      <td>0.425791</td>\n",
              "      <td>0.443289</td>\n",
              "      <td>0.495681</td>\n",
              "      <td>0.424000</td>\n",
              "      <td>0.509878</td>\n",
              "      <td>0.191000</td>\n",
              "      <td>0.372583</td>\n",
              "      <td>0.250011</td>\n",
              "      <td>0.758833</td>\n",
              "      <td>0.506261</td>\n",
              "      <td>...</td>\n",
              "      <td>0.024000</td>\n",
              "      <td>0.023000</td>\n",
              "      <td>0.04200</td>\n",
              "      <td>0.023000</td>\n",
              "      <td>0.016000</td>\n",
              "      <td>0.753000</td>\n",
              "      <td>0.247000</td>\n",
              "      <td>0.472000</td>\n",
              "      <td>0.516000</td>\n",
              "      <td>0.01200</td>\n",
              "    </tr>\n",
              "    <tr>\n",
              "      <th>std</th>\n",
              "      <td>0.240320</td>\n",
              "      <td>0.203117</td>\n",
              "      <td>0.286061</td>\n",
              "      <td>0.407910</td>\n",
              "      <td>0.151257</td>\n",
              "      <td>0.208855</td>\n",
              "      <td>0.375680</td>\n",
              "      <td>0.277335</td>\n",
              "      <td>0.252962</td>\n",
              "      <td>0.302234</td>\n",
              "      <td>...</td>\n",
              "      <td>0.153126</td>\n",
              "      <td>0.149978</td>\n",
              "      <td>0.20069</td>\n",
              "      <td>0.149978</td>\n",
              "      <td>0.125538</td>\n",
              "      <td>0.431483</td>\n",
              "      <td>0.431483</td>\n",
              "      <td>0.499465</td>\n",
              "      <td>0.499994</td>\n",
              "      <td>0.10894</td>\n",
              "    </tr>\n",
              "    <tr>\n",
              "      <th>min</th>\n",
              "      <td>0.000000</td>\n",
              "      <td>0.000000</td>\n",
              "      <td>0.000000</td>\n",
              "      <td>0.000000</td>\n",
              "      <td>0.000000</td>\n",
              "      <td>0.000000</td>\n",
              "      <td>0.000000</td>\n",
              "      <td>0.000000</td>\n",
              "      <td>0.000000</td>\n",
              "      <td>0.000000</td>\n",
              "      <td>...</td>\n",
              "      <td>0.000000</td>\n",
              "      <td>0.000000</td>\n",
              "      <td>0.00000</td>\n",
              "      <td>0.000000</td>\n",
              "      <td>0.000000</td>\n",
              "      <td>0.000000</td>\n",
              "      <td>0.000000</td>\n",
              "      <td>0.000000</td>\n",
              "      <td>0.000000</td>\n",
              "      <td>0.00000</td>\n",
              "    </tr>\n",
              "    <tr>\n",
              "      <th>25%</th>\n",
              "      <td>0.241649</td>\n",
              "      <td>0.288889</td>\n",
              "      <td>0.261705</td>\n",
              "      <td>0.000000</td>\n",
              "      <td>0.406550</td>\n",
              "      <td>0.090909</td>\n",
              "      <td>0.095885</td>\n",
              "      <td>0.000000</td>\n",
              "      <td>0.536454</td>\n",
              "      <td>0.260870</td>\n",
              "      <td>...</td>\n",
              "      <td>0.000000</td>\n",
              "      <td>0.000000</td>\n",
              "      <td>0.00000</td>\n",
              "      <td>0.000000</td>\n",
              "      <td>0.000000</td>\n",
              "      <td>1.000000</td>\n",
              "      <td>0.000000</td>\n",
              "      <td>0.000000</td>\n",
              "      <td>0.000000</td>\n",
              "      <td>0.00000</td>\n",
              "    </tr>\n",
              "    <tr>\n",
              "      <th>50%</th>\n",
              "      <td>0.416493</td>\n",
              "      <td>0.422222</td>\n",
              "      <td>0.481100</td>\n",
              "      <td>0.333333</td>\n",
              "      <td>0.510370</td>\n",
              "      <td>0.090909</td>\n",
              "      <td>0.190411</td>\n",
              "      <td>0.000000</td>\n",
              "      <td>0.790729</td>\n",
              "      <td>0.521739</td>\n",
              "      <td>...</td>\n",
              "      <td>0.000000</td>\n",
              "      <td>0.000000</td>\n",
              "      <td>0.00000</td>\n",
              "      <td>0.000000</td>\n",
              "      <td>0.000000</td>\n",
              "      <td>1.000000</td>\n",
              "      <td>0.000000</td>\n",
              "      <td>0.000000</td>\n",
              "      <td>1.000000</td>\n",
              "      <td>0.00000</td>\n",
              "    </tr>\n",
              "    <tr>\n",
              "      <th>75%</th>\n",
              "      <td>0.576722</td>\n",
              "      <td>0.555556</td>\n",
              "      <td>0.732554</td>\n",
              "      <td>1.000000</td>\n",
              "      <td>0.608554</td>\n",
              "      <td>0.090909</td>\n",
              "      <td>0.907203</td>\n",
              "      <td>0.507711</td>\n",
              "      <td>1.000000</td>\n",
              "      <td>0.739130</td>\n",
              "      <td>...</td>\n",
              "      <td>0.000000</td>\n",
              "      <td>0.000000</td>\n",
              "      <td>0.00000</td>\n",
              "      <td>0.000000</td>\n",
              "      <td>0.000000</td>\n",
              "      <td>1.000000</td>\n",
              "      <td>0.000000</td>\n",
              "      <td>1.000000</td>\n",
              "      <td>1.000000</td>\n",
              "      <td>0.00000</td>\n",
              "    </tr>\n",
              "    <tr>\n",
              "      <th>max</th>\n",
              "      <td>1.000000</td>\n",
              "      <td>1.000000</td>\n",
              "      <td>1.000000</td>\n",
              "      <td>1.000000</td>\n",
              "      <td>1.000000</td>\n",
              "      <td>1.000000</td>\n",
              "      <td>1.000000</td>\n",
              "      <td>1.000000</td>\n",
              "      <td>1.000000</td>\n",
              "      <td>1.000000</td>\n",
              "      <td>...</td>\n",
              "      <td>1.000000</td>\n",
              "      <td>1.000000</td>\n",
              "      <td>1.00000</td>\n",
              "      <td>1.000000</td>\n",
              "      <td>1.000000</td>\n",
              "      <td>1.000000</td>\n",
              "      <td>1.000000</td>\n",
              "      <td>1.000000</td>\n",
              "      <td>1.000000</td>\n",
              "      <td>1.00000</td>\n",
              "    </tr>\n",
              "  </tbody>\n",
              "</table>\n",
              "<p>8 rows × 2183 columns</p>\n",
              "</div>\n",
              "      <button class=\"colab-df-convert\" onclick=\"convertToInteractive('df-f4a59941-3da3-40ca-a985-2149f33486a3')\"\n",
              "              title=\"Convert this dataframe to an interactive table.\"\n",
              "              style=\"display:none;\">\n",
              "        \n",
              "  <svg xmlns=\"http://www.w3.org/2000/svg\" height=\"24px\"viewBox=\"0 0 24 24\"\n",
              "       width=\"24px\">\n",
              "    <path d=\"M0 0h24v24H0V0z\" fill=\"none\"/>\n",
              "    <path d=\"M18.56 5.44l.94 2.06.94-2.06 2.06-.94-2.06-.94-.94-2.06-.94 2.06-2.06.94zm-11 1L8.5 8.5l.94-2.06 2.06-.94-2.06-.94L8.5 2.5l-.94 2.06-2.06.94zm10 10l.94 2.06.94-2.06 2.06-.94-2.06-.94-.94-2.06-.94 2.06-2.06.94z\"/><path d=\"M17.41 7.96l-1.37-1.37c-.4-.4-.92-.59-1.43-.59-.52 0-1.04.2-1.43.59L10.3 9.45l-7.72 7.72c-.78.78-.78 2.05 0 2.83L4 21.41c.39.39.9.59 1.41.59.51 0 1.02-.2 1.41-.59l7.78-7.78 2.81-2.81c.8-.78.8-2.07 0-2.86zM5.41 20L4 18.59l7.72-7.72 1.47 1.35L5.41 20z\"/>\n",
              "  </svg>\n",
              "      </button>\n",
              "      \n",
              "  <style>\n",
              "    .colab-df-container {\n",
              "      display:flex;\n",
              "      flex-wrap:wrap;\n",
              "      gap: 12px;\n",
              "    }\n",
              "\n",
              "    .colab-df-convert {\n",
              "      background-color: #E8F0FE;\n",
              "      border: none;\n",
              "      border-radius: 50%;\n",
              "      cursor: pointer;\n",
              "      display: none;\n",
              "      fill: #1967D2;\n",
              "      height: 32px;\n",
              "      padding: 0 0 0 0;\n",
              "      width: 32px;\n",
              "    }\n",
              "\n",
              "    .colab-df-convert:hover {\n",
              "      background-color: #E2EBFA;\n",
              "      box-shadow: 0px 1px 2px rgba(60, 64, 67, 0.3), 0px 1px 3px 1px rgba(60, 64, 67, 0.15);\n",
              "      fill: #174EA6;\n",
              "    }\n",
              "\n",
              "    [theme=dark] .colab-df-convert {\n",
              "      background-color: #3B4455;\n",
              "      fill: #D2E3FC;\n",
              "    }\n",
              "\n",
              "    [theme=dark] .colab-df-convert:hover {\n",
              "      background-color: #434B5C;\n",
              "      box-shadow: 0px 1px 3px 1px rgba(0, 0, 0, 0.15);\n",
              "      filter: drop-shadow(0px 1px 2px rgba(0, 0, 0, 0.3));\n",
              "      fill: #FFFFFF;\n",
              "    }\n",
              "  </style>\n",
              "\n",
              "      <script>\n",
              "        const buttonEl =\n",
              "          document.querySelector('#df-f4a59941-3da3-40ca-a985-2149f33486a3 button.colab-df-convert');\n",
              "        buttonEl.style.display =\n",
              "          google.colab.kernel.accessAllowed ? 'block' : 'none';\n",
              "\n",
              "        async function convertToInteractive(key) {\n",
              "          const element = document.querySelector('#df-f4a59941-3da3-40ca-a985-2149f33486a3');\n",
              "          const dataTable =\n",
              "            await google.colab.kernel.invokeFunction('convertToInteractive',\n",
              "                                                     [key], {});\n",
              "          if (!dataTable) return;\n",
              "\n",
              "          const docLinkHtml = 'Like what you see? Visit the ' +\n",
              "            '<a target=\"_blank\" href=https://colab.research.google.com/notebooks/data_table.ipynb>data table notebook</a>'\n",
              "            + ' to learn more about interactive tables.';\n",
              "          element.innerHTML = '';\n",
              "          dataTable['output_type'] = 'display_data';\n",
              "          await google.colab.output.renderOutput(dataTable, element);\n",
              "          const docLink = document.createElement('div');\n",
              "          docLink.innerHTML = docLinkHtml;\n",
              "          element.appendChild(docLink);\n",
              "        }\n",
              "      </script>\n",
              "    </div>\n",
              "  </div>\n",
              "  "
            ]
          },
          "metadata": {},
          "execution_count": 67
        }
      ],
      "source": [
        "inputs.describe()"
      ]
    },
    {
      "cell_type": "code",
      "execution_count": 68,
      "metadata": {
        "id": "JpUuRTqnkfg0"
      },
      "outputs": [],
      "source": [
        "from sklearn.model_selection import train_test_split\n",
        "train_inputs, test_inputs, train_targets_g, test_targets = train_test_split(\n",
        "    inputs[numeric_cols + encoded_cols], targets, test_size=0.1, random_state=42)"
      ]
    },
    {
      "cell_type": "code",
      "execution_count": 69,
      "metadata": {
        "colab": {
          "base_uri": "https://localhost:8080/"
        },
        "id": "qtVMtGjCkfmE",
        "outputId": "0141f958-d097-4792-f4e7-ab8bad5d8728"
      },
      "outputs": [
        {
          "output_type": "execute_result",
          "data": {
            "text/plain": [
              "(900, 100, 1000)"
            ]
          },
          "metadata": {},
          "execution_count": 69
        }
      ],
      "source": [
        "len(train_inputs), len(test_inputs), len( inputs[numeric_cols + encoded_cols])"
      ]
    },
    {
      "cell_type": "code",
      "execution_count": 70,
      "metadata": {
        "colab": {
          "base_uri": "https://localhost:8080/"
        },
        "id": "YDQypzGxkfrk",
        "outputId": "27428555-925c-4178-f098-e8449de8da2a"
      },
      "outputs": [
        {
          "output_type": "execute_result",
          "data": {
            "text/plain": [
              "(900, 1000, 100)"
            ]
          },
          "metadata": {},
          "execution_count": 70
        }
      ],
      "source": [
        "len(train_targets_g), len(targets),len(test_targets)"
      ]
    },
    {
      "cell_type": "code",
      "source": [
        "from xgboost import XGBRegressor\n",
        "from sklearn.metrics import mean_squared_error\n",
        "from sklearn.model_selection import KFold\n",
        "from xgboost import plot_tree\n",
        "from matplotlib.pylab import rcParams\n",
        "%matplotlib inline"
      ],
      "metadata": {
        "id": "OgBFzKbn32r4"
      },
      "execution_count": 71,
      "outputs": []
    },
    {
      "cell_type": "code",
      "execution_count": 72,
      "metadata": {
        "id": "EY_7DZTkkfxG"
      },
      "outputs": [],
      "source": [
        "model = XGBRegressor(random_state=42, n_jobs=-1, n_estimators=20, max_depth=4)"
      ]
    },
    {
      "cell_type": "code",
      "execution_count": 73,
      "metadata": {
        "colab": {
          "base_uri": "https://localhost:8080/"
        },
        "id": "aqiXGvOckf2U",
        "outputId": "2dc4400f-3e1b-436d-ceba-56d7bd805b0e"
      },
      "outputs": [
        {
          "output_type": "stream",
          "name": "stdout",
          "text": [
            "[06:08:44] WARNING: /workspace/src/objective/regression_obj.cu:152: reg:linear is now deprecated in favor of reg:squarederror.\n",
            "CPU times: user 1.79 s, sys: 32.2 ms, total: 1.82 s\n",
            "Wall time: 1.07 s\n"
          ]
        },
        {
          "output_type": "execute_result",
          "data": {
            "text/plain": [
              "XGBRegressor(max_depth=4, n_estimators=20, n_jobs=-1, random_state=42)"
            ]
          },
          "metadata": {},
          "execution_count": 73
        }
      ],
      "source": [
        "%%time\n",
        "model.fit(train_inputs, train_targets_g)"
      ]
    },
    {
      "cell_type": "markdown",
      "source": [
        "# predicting"
      ],
      "metadata": {
        "id": "zaLJntYi5A87"
      }
    },
    {
      "cell_type": "code",
      "execution_count": 74,
      "metadata": {
        "colab": {
          "base_uri": "https://localhost:8080/"
        },
        "id": "ovq78EV9Kbq8",
        "outputId": "235ed8a3-3ed7-46bc-eb7b-d975b57b3c52"
      },
      "outputs": [
        {
          "output_type": "execute_result",
          "data": {
            "text/plain": [
              "array([57848.633 , 53325.82  , 55381.035 , 52733.465 ,  3756.0994,\n",
              "       55084.035 , 56074.348 ,  4487.502 ,  5132.8154, 56584.91  ,\n",
              "       58117.934 , 58709.348 , 55341.965 , 54385.16  , 56674.477 ,\n",
              "       56929.04  , 55381.035 , 59324.21  , 55811.125 , 55811.125 ,\n",
              "        3905.2952, 55114.906 , 57848.633 ,  4300.346 , 57461.914 ,\n",
              "       54404.17  , 56150.312 , 59260.39  , 53760.355 , 55783.363 ,\n",
              "       56150.312 ,  5197.849 ,  4967.154 , 55662.777 , 55662.777 ,\n",
              "       56479.586 , 57366.72  , 55811.125 , 56427.324 , 52708.2   ,\n",
              "       56023.77  , 57500.445 ,  5013.834 ,  4411.4126,  4893.06  ,\n",
              "       54263.723 , 54791.24  ,  4166.226 , 58946.152 , 55072.98  ,\n",
              "       54767.87  , 56163.19  , 54404.17  , 57042.984 , 54404.17  ,\n",
              "       57689.043 , 57461.914 , 56441.676 , 56500.715 , 54779.242 ,\n",
              "       55072.63  , 54569.9   , 56671.84  , 55811.125 , 55651.6   ,\n",
              "       55122.645 ,  4529.2466, 56529.6   , 57743.656 , 57461.914 ,\n",
              "       56673.508 , 58507.402 , 54094.664 , 54608.938 , 54910.57  ,\n",
              "       54791.24  , 56218.973 , 54404.17  , 57437.25  ,  4534.9966,\n",
              "       57461.914 , 54404.17  , 52089.65  , 55100.254 , 54404.17  ,\n",
              "       55811.125 , 55140.902 ,  4462.346 ,  4710.4175, 56197.844 ,\n",
              "       55381.035 , 57835.418 ,  4743.2627,  3544.5132, 53712.887 ,\n",
              "       54674.875 ,  4889.17  , 57461.914 , 62135.93  ,  5650.1763,\n",
              "       56758.73  , 55342.445 ,  4295.1074,  4426.2393, 56266.465 ,\n",
              "        4875.5474, 53541.566 , 55316.01  , 57499.348 , 56479.586 ,\n",
              "       56673.734 ,  4893.5596,  4096.0586, 54404.17  , 56866.652 ,\n",
              "       56811.277 , 53415.32  , 52396.36  , 58766.78  , 56671.84  ,\n",
              "       51189.707 , 55122.645 , 55933.344 , 55177.953 ,  5167.4644,\n",
              "       52314.824 , 52861.44  , 55057.977 , 53946.08  , 56981.76  ,\n",
              "       56731.293 ,  5128.8105, 54790.887 , 58342.23  , 54994.32  ,\n",
              "       54735.926 , 55122.645 ,  4389.5054, 55381.035 ,  4506.165 ,\n",
              "       55014.062 , 40377.1   , 56550.55  ,  4056.0017, 55602.566 ,\n",
              "       54404.17  , 56136.777 , 55114.906 , 59324.21  , 55952.117 ,\n",
              "        5246.998 , 54147.42  , 54790.887 ,  4924.244 ,  4289.5093,\n",
              "       55811.125 ,  3830.569 ,  4878.3833,  4169.609 , 54301.33  ,\n",
              "       56441.676 , 56441.676 , 56234.67  , 56054.96  , 55396.65  ,\n",
              "       54685.16  , 55959.76  , 53325.82  , 53802.387 , 55980.434 ,\n",
              "        3524.08  , 56197.844 , 55491.086 , 56479.586 , 54924.453 ,\n",
              "       56441.676 ,  4905.584 ,  4731.3413,  5398.659 ,  4764.609 ,\n",
              "       59487.523 , 51674.664 , 55662.777 , 55104.02  ,  5115.452 ,\n",
              "       55811.125 , 53597.523 , 57324.695 , 58056.36  ,  4280.1396,\n",
              "       55955.4   , 60933.598 , 56328.145 , 54574.98  ,  4471.243 ,\n",
              "       55064.535 , 56054.96  , 55811.125 , 55116.76  , 52597.816 ,\n",
              "        6268.716 , 56197.844 , 56614.61  , 58060.49  , 54125.797 ,\n",
              "       56166.074 , 55501.62  , 57529.754 , 51435.633 , 51453.69  ,\n",
              "       57491.28  , 57848.633 , 57223.277 , 56548.207 , 57634.957 ,\n",
              "       53393.17  , 57564.32  , 56197.844 , 56847.1   , 56336.703 ,\n",
              "       59577.562 , 55968.46  , 61368.203 , 58507.402 , 55840.492 ,\n",
              "       56142.887 , 56935.027 , 53546.473 ,  4426.9155, 55362.8   ,\n",
              "       54404.17  , 48426.586 , 58130.375 , 55139.49  , 56441.12  ,\n",
              "       56227.56  , 58130.375 , 53705.395 , 53553.36  , 56198.19  ,\n",
              "       57079.145 , 59290.414 , 51875.23  , 53297.125 , 53705.395 ,\n",
              "       56740.016 ,  4614.275 , 58130.375 , 55662.777 , 54791.24  ,\n",
              "       59676.535 , 55811.125 , 54288.156 ,  4392.657 , 55114.906 ,\n",
              "       55326.074 ,  5353.2363, 55158.332 , 55305.43  , 50800.992 ,\n",
              "       54790.887 , 55575.156 , 54094.664 , 55453.46  , 57288.184 ,\n",
              "       56275.086 , 51067.65  ,  4811.916 , 55453.81  , 54735.926 ,\n",
              "        5095.9062, 55072.63  , 51454.484 , 55378.02  , 56840.645 ,\n",
              "       54735.926 ,  5320.0576, 54502.895 , 48622.965 ,  4531.29  ,\n",
              "       56584.91  , 59833.082 , 54685.914 , 55381.387 , 54327.496 ,\n",
              "       58294.35  , 59324.21  , 53651.562 , 53987.234 , 53055.14  ,\n",
              "       56811.344 , 54790.887 , 54052.492 , 53750.69  , 59058.285 ,\n",
              "       57689.043 , 55933.445 , 57112.28  , 54334.234 , 54976.61  ,\n",
              "       54612.03  , 52001.35  , 56977.2   , 59100.258 , 55664.98  ,\n",
              "       54820.605 , 54005.47  , 58515.617 ,  4850.345 , 56006.273 ,\n",
              "       55096.035 , 52162.977 , 55381.035 , 53415.32  , 56584.91  ,\n",
              "       56197.844 ,  4731.6655,  4785.975 , 55356.863 , 59227.895 ,\n",
              "       55421.23  , 56673.508 , 58130.375 , 56479.934 , 56278.727 ,\n",
              "       54005.47  ,  5399.594 , 53965.926 , 55840.492 , 57081.2   ,\n",
              "       56049.844 , 59204.84  , 54249.938 ,  5342.3945, 57295.33  ,\n",
              "       55072.63  , 58130.375 , 52779.703 , 57079.145 , 54791.24  ,\n",
              "       53960.23  , 57461.914 , 60776.59  , 55811.125 , 56856.613 ,\n",
              "       59200.367 , 53697.062 , 55720.223 , 58861.176 , 38846.332 ,\n",
              "        4501.478 , 53760.355 , 57669.645 , 63673.023 ,  4800.073 ,\n",
              "       56479.586 , 54685.914 , 56666.707 , 45946.66  , 54255.926 ,\n",
              "       53373.64  , 55177.953 , 55593.496 ,  4983.2114, 53697.062 ,\n",
              "       56692.43  ,  5170.4863, 52480.402 ,  5174.4688, 55411.145 ,\n",
              "        4348.0405,  4735.473 , 54685.914 , 55266.547 , 53665.777 ,\n",
              "       55072.63  , 52713.793 , 56092.867 , 55177.953 , 54888.73  ,\n",
              "       55326.074 , 57295.33  , 58651.734 , 58505.    ,  5059.6167,\n",
              "       55252.945 , 56673.797 , 56584.91  , 55840.492 , 52793.613 ,\n",
              "        5146.5464,  4218.025 , 56529.6   , 58438.2   , 54820.66  ,\n",
              "       55623.    ,  5537.1426, 54790.887 , 58844.06  , 56197.844 ,\n",
              "       56573.508 , 55884.31  ,  4529.222 , 55381.035 , 53760.355 ,\n",
              "       54404.17  , 55783.363 , 53697.062 , 56092.867 , 53415.32  ,\n",
              "       54688.047 ,  4788.2705, 54790.887 , 57361.24  , 53201.68  ,\n",
              "       59375.582 , 57955.164 ,  4448.9185,  4166.4204, 58591.934 ,\n",
              "       56479.934 , 57718.41  , 56479.934 , 55017.668 , 56198.19  ,\n",
              "       58399.676 , 54404.17  , 56929.758 , 57461.914 , 54994.32  ,\n",
              "       36629.19  , 57058.56  ,  3947.41  , 55637.395 , 54404.17  ,\n",
              "       54709.01  , 59037.445 , 54457.82  , 54790.887 , 56505.258 ,\n",
              "       58222.758 ,  4305.129 , 50974.75  , 54404.17  , 57461.914 ,\n",
              "       56310.273 , 57848.633 , 55381.035 , 57848.633 , 56584.91  ,\n",
              "       51818.184 ,  5203.8545, 57461.914 ,  3607.932 , 55637.05  ,\n",
              "       52451.78  , 56479.934 , 56092.867 , 57577.07  , 57673.42  ,\n",
              "       52841.86  ,  4786.9873,  5176.698 , 56142.887 , 55311.973 ,\n",
              "        4253.8945,  3953.0747, 57650.57  , 56866.652 , 54709.363 ,\n",
              "       56448.668 , 55072.63  , 53989.688 , 58516.633 , 58281.17  ,\n",
              "       56866.652 ,  5020.1895, 58075.76  , 61465.207 , 60105.965 ,\n",
              "       55662.777 , 54791.62  , 56473.066 ,  4645.7153, 55815.613 ,\n",
              "       44676.89  , 59289.82  , 52388.066 , 57130.44  , 57212.395 ,\n",
              "       58399.676 , 56054.96  , 53697.062 , 57261.746 , 53695.145 ,\n",
              "       54404.17  ,  5184.1997, 55010.14  , 56547.457 , 55607.816 ,\n",
              "       57673.42  ,  3998.0842, 55381.035 , 56692.43  , 56198.19  ,\n",
              "        4169.4365,  4305.1904, 54791.24  , 56598.223 , 57058.56  ,\n",
              "       53584.19  , 57263.504 , 55358.21  , 57035.082 ,  4660.63  ,\n",
              "       56441.676 , 55153.2   , 55215.85  , 54028.82  , 56142.887 ,\n",
              "       50371.05  ,  4847.666 , 54790.887 , 54822.277 , 53753.63  ,\n",
              "        5270.32  ,  5143.019 , 55712.793 ,  5320.0576, 51277.56  ,\n",
              "       54675.223 , 54970.54  , 57079.145 , 56049.844 , 57481.086 ,\n",
              "       55104.02  ,  5199.284 , 55104.02  ,  5181.7236, 54709.01  ,\n",
              "        4934.6484, 56850.348 ,  5272.35  , 56584.91  , 57731.22  ,\n",
              "       54735.926 , 55236.64  , 60147.52  , 53553.36  , 54404.17  ,\n",
              "       54791.24  , 55102.098 , 53915.93  , 55989.633 ,  4788.2705,\n",
              "       55309.12  , 56758.73  , 56054.96  , 55066.11  ,  4632.409 ,\n",
              "       53607.562 , 55573.043 , 54820.605 , 54404.17  , 57931.043 ,\n",
              "       58155.832 , 54685.914 ,  3551.5857, 56197.844 , 57366.72  ,\n",
              "        5137.174 ,  4280.108 , 53499.637 , 54685.914 , 55811.125 ,\n",
              "       53607.562 , 54735.926 , 57079.145 , 58143.293 , 54433.54  ,\n",
              "       56571.977 , 56548.21  , 56412.406 , 47712.312 , 55086.477 ,\n",
              "       53788.633 ,  4029.0576, 56567.285 , 58202.547 ,  4685.2935,\n",
              "       49568.266 , 54468.37  , 57368.48  , 55994.535 , 52824.32  ,\n",
              "       53737.312 , 54404.17  ,  4081.2683,  5320.0576, 56633.645 ,\n",
              "       56243.414 , 59019.27  , 55573.043 , 53325.82  , 55792.258 ,\n",
              "       54481.73  , 56197.844 , 56054.96  , 57951.035 , 53707.945 ,\n",
              "        5300.4033, 54716.324 , 56479.934 , 59625.918 , 59068.11  ,\n",
              "       38858.43  , 54966.902 , 58101.984 , 57461.914 , 56529.6   ,\n",
              "       54994.32  ,  4594.9043, 58912.88  , 55354.473 , 62266.066 ,\n",
              "       57951.035 , 50890.492 , 56197.844 ,  4851.677 ,  4432.123 ,\n",
              "       53760.355 , 56584.91  , 56054.96  , 56441.676 , 55850.094 ,\n",
              "        4963.975 ,  4875.5474, 55811.125 ,  5320.0576, 54784.637 ,\n",
              "       54732.78  , 55023.688 , 54288.156 , 54790.887 , 55144.273 ,\n",
              "       52180.94  , 57717.082 , 55411.64  , 54376.406 , 56953.582 ,\n",
              "        5204.06  , 55459.695 , 53657.582 , 55570.242 , 52962.11  ,\n",
              "       55595.156 , 54404.17  , 55459.695 , 56198.19  ,  4710.917 ,\n",
              "       57491.28  , 53658.332 , 56142.887 , 52524.375 ,  5552.952 ,\n",
              "       55720.223 ,  4633.394 , 55975.62  ,  4945.6787, 58322.63  ,\n",
              "       56424.63  , 54571.88  , 56092.867 ,  4560.5283,  4756.8726,\n",
              "       54921.188 , 56362.336 , 55096.035 ,  4531.29  , 58118.285 ,\n",
              "        5229.147 , 56197.844 ,  5839.7437, 58844.06  , 59484.72  ,\n",
              "       54743.36  ,  4734.957 , 54994.32  , 58555.527 , 57304.25  ,\n",
              "       56494.473 , 54790.887 , 55177.953 ,  4820.83  , 55811.125 ,\n",
              "       54994.32  , 55811.125 , 56479.586 , 55878.383 , 55359.15  ,\n",
              "        4539.934 , 57848.633 , 57743.656 , 55811.125 , 56092.867 ,\n",
              "        4941.846 ,  4679.3   ,  5095.375 ,  2515.003 , 55411.145 ,\n",
              "       59019.27  , 54685.914 , 56584.91  , 58130.375 , 56537.03  ,\n",
              "       54849.926 , 57955.164 , 57673.42  ,  5143.019 , 56479.586 ,\n",
              "       54416.69  , 57288.184 , 53350.668 , 58130.375 , 54908.2   ,\n",
              "        4832.271 , 57360.887 , 56571.613 , 56054.96  , 54496.61  ,\n",
              "       55662.777 , 55017.668 , 58594.94  ,  5204.06  ,  5167.4644,\n",
              "       60910.59  , 56338.836 , 55072.63  , 55177.953 , 53309.246 ,\n",
              "       56197.844 , 54502.895 , 55811.125 ,  4875.5474,  4509.2104,\n",
              "       55072.63  , 58668.24  , 55264.887 , 56866.652 , 55604.32  ,\n",
              "       50193.535 , 60271.5   , 55122.645 ,  4692.511 , 57058.56  ,\n",
              "        5391.0933, 54373.996 , 55908.8   , 54994.32  , 56197.844 ,\n",
              "       55573.043 , 56479.586 ,  4988.6113,  3747.8784, 53325.82  ,\n",
              "       56183.203 , 58117.934 , 56981.76  , 58022.023 , 54569.9   ,\n",
              "       54094.664 , 55783.363 , 56054.96  , 56197.844 , 54685.914 ,\n",
              "       56988.082 , 53373.64  , 59394.793 , 54094.664 , 56605.84  ,\n",
              "       56257.777 , 55651.953 , 55531.34  ,  4563.798 , 55531.32  ,\n",
              "       57326.137 , 54084.13  ,  4027.6096, 55919.137 , 56886.723 ,\n",
              "       53989.688 ,  5283.3906, 54404.17  , 54790.887 , 53709.8   ,\n",
              "       55840.492 ,  3163.8687, 58172.566 , 58081.02  , 61174.04  ,\n",
              "       54790.887 , 55653.266 , 55607.816 , 54965.027 , 57287.492 ,\n",
              "       59676.535 , 54684.812 , 55453.46  ,  3593.6309, 56038.668 ,\n",
              "       52021.22  , 56197.844 ,  4916.5947, 58303.76  , 56046.477 ,\n",
              "        4691.853 , 58031.348 , 55811.125 , 56328.145 , 54732.78  ,\n",
              "       55122.645 , 55072.63  ,  1105.208 , 55811.125 , 56197.844 ,\n",
              "       54950.098 ,  4327.425 , 54709.01  , 51715.363 , 56383.04  ,\n",
              "       52627.05  , 55072.63  , 52891.63  , 58230.86  ,  5017.155 ,\n",
              "       56441.676 , 54790.887 , 54994.055 , 53754.164 , 56529.6   ,\n",
              "        4848.474 , 52475.008 , 55326.074 ,  4568.9873, 55901.562 ,\n",
              "       55072.63  , 55072.63  , 57743.656 , 53665.777 , 58114.07  ,\n",
              "       53796.152 , 53309.246 ,  3810.1843, 57673.42  ,  4225.588 ,\n",
              "       56424.63  , 54404.17  ,  4010.7112, 55079.848 , 55662.777 ,\n",
              "        5240.2505, 53607.562 , 54404.17  , 54288.156 ,  5274.4653,\n",
              "       54732.78  , 57742.836 , 56811.344 ,  4753.243 , 54685.914 ,\n",
              "       54084.13  , 54790.887 , 53968.195 , 51389.594 , 55811.125 ,\n",
              "       56092.867 ,  4979.394 , 54633.09  , 56198.19  , 53000.84  ,\n",
              "       55663.13  , 51879.344 ,  4111.452 ,  4584.1226, 57499.348 ,\n",
              "       56441.676 , 58786.742 , 54096.52  , 61002.344 , 54404.17  ,\n",
              "       57848.633 ,  4352.433 , 55307.54  , 55712.793 , 56584.91  ,\n",
              "       58132.22  , 57969.29  , 53760.707 , 54790.887 , 50111.71  ],\n",
              "      dtype=float32)"
            ]
          },
          "metadata": {},
          "execution_count": 74
        }
      ],
      "source": [
        "preds = model.predict(train_inputs)\n",
        "preds"
      ]
    },
    {
      "cell_type": "code",
      "execution_count": 75,
      "metadata": {
        "id": "0OVT42kAKbx5",
        "colab": {
          "base_uri": "https://localhost:8080/"
        },
        "outputId": "d6923dd3-c808-4bda-b9e7-7e58fd99148c"
      },
      "outputs": [
        {
          "output_type": "execute_result",
          "data": {
            "text/plain": [
              "(900,)"
            ]
          },
          "metadata": {},
          "execution_count": 75
        }
      ],
      "source": [
        "preds.shape"
      ]
    },
    {
      "cell_type": "markdown",
      "metadata": {
        "id": "vcFS9eeKMMYh"
      },
      "source": [
        "# EVALUATING USING RMSE"
      ]
    },
    {
      "cell_type": "code",
      "execution_count": 76,
      "metadata": {
        "id": "74wkWdjRKb_M"
      },
      "outputs": [],
      "source": [
        "def rmse(a,b):\n",
        "  return mean_squared_error(a, b, squared=False)"
      ]
    },
    {
      "cell_type": "code",
      "execution_count": 77,
      "metadata": {
        "colab": {
          "base_uri": "https://localhost:8080/"
        },
        "id": "HFAGG97HKcGL",
        "outputId": "ec7988dd-bf91-4c6b-8dd9-96259630e8db"
      },
      "outputs": [
        {
          "output_type": "execute_result",
          "data": {
            "text/plain": [
              "15031.784428260744"
            ]
          },
          "metadata": {},
          "execution_count": 77
        }
      ],
      "source": [
        "rmse(preds,train_targets_g)"
      ]
    },
    {
      "cell_type": "markdown",
      "source": [
        "FEATURE IMPORTANCE"
      ],
      "metadata": {
        "id": "me-oHnqL6oX-"
      }
    },
    {
      "cell_type": "code",
      "source": [
        "len(train_inputs.columns)"
      ],
      "metadata": {
        "colab": {
          "base_uri": "https://localhost:8080/"
        },
        "id": "SdDan6w56uif",
        "outputId": "d8a5f864-ad9b-4a7b-c923-eb3ba79b30c2"
      },
      "execution_count": 78,
      "outputs": [
        {
          "output_type": "execute_result",
          "data": {
            "text/plain": [
              "2183"
            ]
          },
          "metadata": {},
          "execution_count": 78
        }
      ]
    },
    {
      "cell_type": "code",
      "source": [
        "len(model.feature_importances_)"
      ],
      "metadata": {
        "colab": {
          "base_uri": "https://localhost:8080/"
        },
        "id": "HhzCVbhn6umk",
        "outputId": "9a3c9022-f339-4ebe-999c-b3bc60ba7d23"
      },
      "execution_count": 79,
      "outputs": [
        {
          "output_type": "execute_result",
          "data": {
            "text/plain": [
              "2183"
            ]
          },
          "metadata": {},
          "execution_count": 79
        }
      ]
    },
    {
      "cell_type": "code",
      "source": [
        "importance_df = pd.DataFrame({\n",
        "    'feature': train_inputs.columns,\n",
        "    'importance': model.feature_importances_\n",
        "}).sort_values('importance', ascending=False)"
      ],
      "metadata": {
        "id": "p-WT9s4l6uqn"
      },
      "execution_count": 80,
      "outputs": []
    },
    {
      "cell_type": "code",
      "source": [
        "importance_df.head(10)"
      ],
      "metadata": {
        "colab": {
          "base_uri": "https://localhost:8080/",
          "height": 363
        },
        "id": "2HnU-_Al6uuj",
        "outputId": "6608ad0e-4a5c-4175-d315-a3c24143d41d"
      },
      "execution_count": 81,
      "outputs": [
        {
          "output_type": "execute_result",
          "data": {
            "text/plain": [
              "                                             feature  importance\n",
              "1092                                collision_type_?    0.725663\n",
              "1093                  collision_type_Front Collision    0.013060\n",
              "1109                               incident_state_SC    0.010684\n",
              "898   policy_bind_date_2013-01-23T00:00:00.000000000    0.009528\n",
              "2167                               auto_model_Passat    0.009145\n",
              "283   policy_bind_date_1996-06-04T00:00:00.000000000    0.009065\n",
              "2122                       police_report_available_?    0.009026\n",
              "1045     incident_date_2015-01-18T00:00:00.000000000    0.009010\n",
              "7                                      capital-gains    0.008194\n",
              "296   policy_bind_date_1996-08-23T00:00:00.000000000    0.008046"
            ],
            "text/html": [
              "\n",
              "  <div id=\"df-c778acef-0afb-46c9-8b9b-09a528186b91\">\n",
              "    <div class=\"colab-df-container\">\n",
              "      <div>\n",
              "<style scoped>\n",
              "    .dataframe tbody tr th:only-of-type {\n",
              "        vertical-align: middle;\n",
              "    }\n",
              "\n",
              "    .dataframe tbody tr th {\n",
              "        vertical-align: top;\n",
              "    }\n",
              "\n",
              "    .dataframe thead th {\n",
              "        text-align: right;\n",
              "    }\n",
              "</style>\n",
              "<table border=\"1\" class=\"dataframe\">\n",
              "  <thead>\n",
              "    <tr style=\"text-align: right;\">\n",
              "      <th></th>\n",
              "      <th>feature</th>\n",
              "      <th>importance</th>\n",
              "    </tr>\n",
              "  </thead>\n",
              "  <tbody>\n",
              "    <tr>\n",
              "      <th>1092</th>\n",
              "      <td>collision_type_?</td>\n",
              "      <td>0.725663</td>\n",
              "    </tr>\n",
              "    <tr>\n",
              "      <th>1093</th>\n",
              "      <td>collision_type_Front Collision</td>\n",
              "      <td>0.013060</td>\n",
              "    </tr>\n",
              "    <tr>\n",
              "      <th>1109</th>\n",
              "      <td>incident_state_SC</td>\n",
              "      <td>0.010684</td>\n",
              "    </tr>\n",
              "    <tr>\n",
              "      <th>898</th>\n",
              "      <td>policy_bind_date_2013-01-23T00:00:00.000000000</td>\n",
              "      <td>0.009528</td>\n",
              "    </tr>\n",
              "    <tr>\n",
              "      <th>2167</th>\n",
              "      <td>auto_model_Passat</td>\n",
              "      <td>0.009145</td>\n",
              "    </tr>\n",
              "    <tr>\n",
              "      <th>283</th>\n",
              "      <td>policy_bind_date_1996-06-04T00:00:00.000000000</td>\n",
              "      <td>0.009065</td>\n",
              "    </tr>\n",
              "    <tr>\n",
              "      <th>2122</th>\n",
              "      <td>police_report_available_?</td>\n",
              "      <td>0.009026</td>\n",
              "    </tr>\n",
              "    <tr>\n",
              "      <th>1045</th>\n",
              "      <td>incident_date_2015-01-18T00:00:00.000000000</td>\n",
              "      <td>0.009010</td>\n",
              "    </tr>\n",
              "    <tr>\n",
              "      <th>7</th>\n",
              "      <td>capital-gains</td>\n",
              "      <td>0.008194</td>\n",
              "    </tr>\n",
              "    <tr>\n",
              "      <th>296</th>\n",
              "      <td>policy_bind_date_1996-08-23T00:00:00.000000000</td>\n",
              "      <td>0.008046</td>\n",
              "    </tr>\n",
              "  </tbody>\n",
              "</table>\n",
              "</div>\n",
              "      <button class=\"colab-df-convert\" onclick=\"convertToInteractive('df-c778acef-0afb-46c9-8b9b-09a528186b91')\"\n",
              "              title=\"Convert this dataframe to an interactive table.\"\n",
              "              style=\"display:none;\">\n",
              "        \n",
              "  <svg xmlns=\"http://www.w3.org/2000/svg\" height=\"24px\"viewBox=\"0 0 24 24\"\n",
              "       width=\"24px\">\n",
              "    <path d=\"M0 0h24v24H0V0z\" fill=\"none\"/>\n",
              "    <path d=\"M18.56 5.44l.94 2.06.94-2.06 2.06-.94-2.06-.94-.94-2.06-.94 2.06-2.06.94zm-11 1L8.5 8.5l.94-2.06 2.06-.94-2.06-.94L8.5 2.5l-.94 2.06-2.06.94zm10 10l.94 2.06.94-2.06 2.06-.94-2.06-.94-.94-2.06-.94 2.06-2.06.94z\"/><path d=\"M17.41 7.96l-1.37-1.37c-.4-.4-.92-.59-1.43-.59-.52 0-1.04.2-1.43.59L10.3 9.45l-7.72 7.72c-.78.78-.78 2.05 0 2.83L4 21.41c.39.39.9.59 1.41.59.51 0 1.02-.2 1.41-.59l7.78-7.78 2.81-2.81c.8-.78.8-2.07 0-2.86zM5.41 20L4 18.59l7.72-7.72 1.47 1.35L5.41 20z\"/>\n",
              "  </svg>\n",
              "      </button>\n",
              "      \n",
              "  <style>\n",
              "    .colab-df-container {\n",
              "      display:flex;\n",
              "      flex-wrap:wrap;\n",
              "      gap: 12px;\n",
              "    }\n",
              "\n",
              "    .colab-df-convert {\n",
              "      background-color: #E8F0FE;\n",
              "      border: none;\n",
              "      border-radius: 50%;\n",
              "      cursor: pointer;\n",
              "      display: none;\n",
              "      fill: #1967D2;\n",
              "      height: 32px;\n",
              "      padding: 0 0 0 0;\n",
              "      width: 32px;\n",
              "    }\n",
              "\n",
              "    .colab-df-convert:hover {\n",
              "      background-color: #E2EBFA;\n",
              "      box-shadow: 0px 1px 2px rgba(60, 64, 67, 0.3), 0px 1px 3px 1px rgba(60, 64, 67, 0.15);\n",
              "      fill: #174EA6;\n",
              "    }\n",
              "\n",
              "    [theme=dark] .colab-df-convert {\n",
              "      background-color: #3B4455;\n",
              "      fill: #D2E3FC;\n",
              "    }\n",
              "\n",
              "    [theme=dark] .colab-df-convert:hover {\n",
              "      background-color: #434B5C;\n",
              "      box-shadow: 0px 1px 3px 1px rgba(0, 0, 0, 0.15);\n",
              "      filter: drop-shadow(0px 1px 2px rgba(0, 0, 0, 0.3));\n",
              "      fill: #FFFFFF;\n",
              "    }\n",
              "  </style>\n",
              "\n",
              "      <script>\n",
              "        const buttonEl =\n",
              "          document.querySelector('#df-c778acef-0afb-46c9-8b9b-09a528186b91 button.colab-df-convert');\n",
              "        buttonEl.style.display =\n",
              "          google.colab.kernel.accessAllowed ? 'block' : 'none';\n",
              "\n",
              "        async function convertToInteractive(key) {\n",
              "          const element = document.querySelector('#df-c778acef-0afb-46c9-8b9b-09a528186b91');\n",
              "          const dataTable =\n",
              "            await google.colab.kernel.invokeFunction('convertToInteractive',\n",
              "                                                     [key], {});\n",
              "          if (!dataTable) return;\n",
              "\n",
              "          const docLinkHtml = 'Like what you see? Visit the ' +\n",
              "            '<a target=\"_blank\" href=https://colab.research.google.com/notebooks/data_table.ipynb>data table notebook</a>'\n",
              "            + ' to learn more about interactive tables.';\n",
              "          element.innerHTML = '';\n",
              "          dataTable['output_type'] = 'display_data';\n",
              "          await google.colab.output.renderOutput(dataTable, element);\n",
              "          const docLink = document.createElement('div');\n",
              "          docLink.innerHTML = docLinkHtml;\n",
              "          element.appendChild(docLink);\n",
              "        }\n",
              "      </script>\n",
              "    </div>\n",
              "  </div>\n",
              "  "
            ]
          },
          "metadata": {},
          "execution_count": 81
        }
      ]
    },
    {
      "cell_type": "code",
      "source": [
        "plt.figure(figsize = (10, 6))\n",
        "plt.title('Feature Importances')\n",
        "sns.barplot(data = importance_df.head(10), x = 'importance', y = 'feature')"
      ],
      "metadata": {
        "colab": {
          "base_uri": "https://localhost:8080/",
          "height": 421
        },
        "id": "a1WnJqWO6ux4",
        "outputId": "bf14a085-ec87-4196-99e8-6430f77a62b2"
      },
      "execution_count": 82,
      "outputs": [
        {
          "output_type": "execute_result",
          "data": {
            "text/plain": [
              "<matplotlib.axes._subplots.AxesSubplot at 0x7fb2799986d0>"
            ]
          },
          "metadata": {},
          "execution_count": 82
        },
        {
          "output_type": "display_data",
          "data": {
            "text/plain": [
              "<Figure size 720x432 with 1 Axes>"
            ],
            "image/png": "[encoded data removed]"
          },
          "metadata": {
            "needs_background": "light"
          }
        }
      ]
    },
    {
      "cell_type": "code",
      "source": [
        "df_claim.collision_type.value_counts()"
      ],
      "metadata": {
        "colab": {
          "base_uri": "https://localhost:8080/"
        },
        "id": "RTcf_K_w6u1B",
        "outputId": "e6ae2dcc-42a5-48db-9b39-e5feee54a666"
      },
      "execution_count": 83,
      "outputs": [
        {
          "output_type": "execute_result",
          "data": {
            "text/plain": [
              "Rear Collision     292\n",
              "Side Collision     276\n",
              "Front Collision    254\n",
              "?                  178\n",
              "Name: collision_type, dtype: int64"
            ]
          },
          "metadata": {},
          "execution_count": 83
        }
      ]
    },
    {
      "cell_type": "markdown",
      "source": [
        "k-fold cross validation"
      ],
      "metadata": {
        "id": "OZqIPxIZ7XIU"
      }
    },
    {
      "cell_type": "code",
      "source": [
        "def train_and_evaluate(X_train, train_targets, X_val, val_targets, **params):\n",
        "    model = XGBRegressor(random_state=42, n_jobs=-1, **params)\n",
        "    model.fit(X_train, train_targets)\n",
        "    train_rmse = rmse(model.predict(X_train), train_targets)\n",
        "    val_rmse = rmse(model.predict(X_val), val_targets)\n",
        "    return model, train_rmse, val_rmse"
      ],
      "metadata": {
        "id": "uKU3CvC56u4H"
      },
      "execution_count": 84,
      "outputs": []
    },
    {
      "cell_type": "code",
      "source": [
        "kfold = KFold(n_splits=5)"
      ],
      "metadata": {
        "id": "65PCe_vb6u7L"
      },
      "execution_count": 85,
      "outputs": []
    },
    {
      "cell_type": "code",
      "source": [
        "models = []\n",
        "\n",
        "for train_idxs, val_idxs in kfold.split(train_inputs):\n",
        "    X_train, train_targets = train_inputs.iloc[train_idxs], train_targets_g.iloc[train_idxs]\n",
        "    X_val, val_targets = train_inputs.iloc[val_idxs], train_targets_g.iloc[val_idxs]\n",
        "    model, train_rmse, val_rmse = train_and_evaluate(X_train, \n",
        "                                                     train_targets, \n",
        "                                                     X_val, \n",
        "                                                     val_targets, \n",
        "                                                     max_depth=4, \n",
        "                                                     n_estimators=20)\n",
        "    models.append(model)\n",
        "    print('Train RMSE: {}, Validation RMSE: {}'.format(train_rmse, val_rmse))"
      ],
      "metadata": {
        "colab": {
          "base_uri": "https://localhost:8080/"
        },
        "id": "3mOp0mj56u-R",
        "outputId": "9e26c523-0bdb-425b-843e-64def158f655"
      },
      "execution_count": 86,
      "outputs": [
        {
          "output_type": "stream",
          "name": "stdout",
          "text": [
            "[06:08:46] WARNING: /workspace/src/objective/regression_obj.cu:152: reg:linear is now deprecated in favor of reg:squarederror.\n",
            "Train RMSE: 14982.677400887733, Validation RMSE: 14528.235394827338\n",
            "[06:08:47] WARNING: /workspace/src/objective/regression_obj.cu:152: reg:linear is now deprecated in favor of reg:squarederror.\n",
            "Train RMSE: 14606.959191106247, Validation RMSE: 17836.687817024525\n",
            "[06:08:47] WARNING: /workspace/src/objective/regression_obj.cu:152: reg:linear is now deprecated in favor of reg:squarederror.\n",
            "Train RMSE: 14624.23042490956, Validation RMSE: 16394.863012044363\n",
            "[06:08:48] WARNING: /workspace/src/objective/regression_obj.cu:152: reg:linear is now deprecated in favor of reg:squarederror.\n",
            "Train RMSE: 14716.242410959327, Validation RMSE: 16136.99021982087\n",
            "[06:08:49] WARNING: /workspace/src/objective/regression_obj.cu:152: reg:linear is now deprecated in favor of reg:squarederror.\n",
            "Train RMSE: 14852.469716929329, Validation RMSE: 15913.356933184947\n"
          ]
        }
      ]
    },
    {
      "cell_type": "code",
      "source": [
        "import numpy as np\n",
        "\n",
        "def predict_avg(models, inputs):\n",
        "    return np.mean([model.predict(inputs) for model in models], axis=0)"
      ],
      "metadata": {
        "id": "RyfKt-n37mDm"
      },
      "execution_count": 87,
      "outputs": []
    },
    {
      "cell_type": "code",
      "source": [
        "preds = predict_avg(models, train_inputs)\n",
        "preds"
      ],
      "metadata": {
        "colab": {
          "base_uri": "https://localhost:8080/"
        },
        "id": "KHJ-QEhD7mLA",
        "outputId": "a1cb70c1-7d48-4778-9f4d-ddb5d3779c30"
      },
      "execution_count": 88,
      "outputs": [
        {
          "output_type": "execute_result",
          "data": {
            "text/plain": [
              "array([56937.688 , 53847.137 , 55941.54  , 53972.125 ,  4090.9487,\n",
              "       54528.76  , 55070.957 ,  4525.9585,  4981.6064, 56676.742 ,\n",
              "       58131.086 , 57963.21  , 55285.1   , 54883.055 , 55784.773 ,\n",
              "       54948.188 , 56104.094 , 58757.7   , 55764.562 , 55391.77  ,\n",
              "        4094.1821, 55456.086 , 57089.29  ,  4258.325 , 57581.688 ,\n",
              "       53673.543 , 56578.773 , 58391.53  , 54282.65  , 54294.46  ,\n",
              "       55937.914 ,  5021.4634,  4933.173 , 55845.305 , 56278.688 ,\n",
              "       56821.27  , 56650.426 , 56182.76  , 54729.207 , 50224.67  ,\n",
              "       54259.105 , 54720.867 ,  5018.643 ,  4443.81  ,  5283.526 ,\n",
              "       55437.395 , 54883.51  ,  4185.6836, 58649.426 , 54899.492 ,\n",
              "       55452.812 , 55847.164 , 54160.773 , 57538.727 , 54449.086 ,\n",
              "       57518.043 , 57310.71  , 55898.8   , 56322.51  , 54080.51  ,\n",
              "       55043.414 , 54896.07  , 56962.68  , 56585.312 , 54820.664 ,\n",
              "       54489.05  ,  4750.1226, 56068.645 , 57939.18  , 57238.605 ,\n",
              "       56995.23  , 57996.76  , 54363.04  , 55789.9   , 57234.344 ,\n",
              "       54298.375 , 54810.094 , 54882.105 , 57458.24  ,  4600.616 ,\n",
              "       57520.68  , 53805.613 , 51575.96  , 55467.3   , 52907.176 ,\n",
              "       55872.355 , 53947.406 ,  4498.9795,  4592.1914, 56803.344 ,\n",
              "       55623.832 , 60802.363 ,  4722.107 ,  3757.901 , 54054.305 ,\n",
              "       54975.72  ,  4456.033 , 57652.055 , 60073.76  ,  5547.7173,\n",
              "       57383.26  , 54771.395 ,  4374.6924,  4629.6753, 56246.74  ,\n",
              "        4654.4653, 55036.176 , 55503.168 , 56941.105 , 56613.855 ,\n",
              "       56851.6   ,  4850.9307,  4072.752 , 54324.363 , 56526.586 ,\n",
              "       57027.273 , 54688.68  , 53747.3   , 58117.594 , 56873.01  ,\n",
              "       52658.875 , 55371.387 , 55500.477 , 56982.51  ,  4957.7983,\n",
              "       53923.85  , 56172.918 , 55472.4   , 54898.695 , 57244.47  ,\n",
              "       57019.    ,  4955.7705, 55220.387 , 58578.125 , 55967.773 ,\n",
              "       54804.332 , 51822.99  ,  4449.5674, 56641.375 ,  4192.3735,\n",
              "       55150.344 , 40878.477 , 56199.688 ,  4066.884 , 54553.656 ,\n",
              "       55061.855 , 55131.617 , 55596.2   , 59078.97  , 55125.605 ,\n",
              "        5025.892 , 53976.76  , 54087.26  ,  4855.779 ,  4054.2305,\n",
              "       54741.52  ,  3954.011 ,  4453.3574,  4102.5425, 54275.51  ,\n",
              "       55514.    , 56222.793 , 54579.523 , 53931.605 , 55704.176 ,\n",
              "       55958.26  , 55086.95  , 54820.04  , 53596.555 , 55016.57  ,\n",
              "        3658.0894, 56605.508 , 56109.918 , 56507.4   , 56061.664 ,\n",
              "       55337.523 ,  4829.5835,  4525.4634,  5298.0186,  4540.6445,\n",
              "       59086.582 , 51001.4   , 55513.93  , 55573.805 ,  5104.518 ,\n",
              "       55997.48  , 53731.438 , 56489.7   , 56615.164 ,  4407.032 ,\n",
              "       56452.99  , 60926.363 , 56370.664 , 54475.605 ,  4532.712 ,\n",
              "       55321.875 , 55775.05  , 55206.414 , 54617.293 , 54506.125 ,\n",
              "        6093.0703, 56367.625 , 55955.46  , 57678.    , 54404.977 ,\n",
              "       56824.45  , 55652.363 , 57666.4   , 53370.18  , 49651.594 ,\n",
              "       56500.76  , 58623.77  , 55963.156 , 56882.086 , 56805.125 ,\n",
              "       54713.72  , 56173.688 , 56251.97  , 56318.438 , 54480.008 ,\n",
              "       58312.945 , 54212.97  , 58344.555 , 57977.938 , 56058.418 ,\n",
              "       56935.6   , 58206.637 , 53932.914 ,  4401.1533, 55132.    ,\n",
              "       54276.9   , 48292.11  , 57416.332 , 53590.164 , 54960.54  ,\n",
              "       56733.426 , 58061.156 , 55301.32  , 54247.938 , 56350.03  ,\n",
              "       56134.594 , 58679.53  , 52329.668 , 52606.55  , 52985.77  ,\n",
              "       56055.21  ,  4761.435 , 57523.336 , 55007.54  , 55562.875 ,\n",
              "       60446.773 , 56510.5   , 54731.48  ,  4528.55  , 54967.977 ,\n",
              "       56230.062 ,  5359.1104, 55755.188 , 55332.062 , 51042.695 ,\n",
              "       55174.418 , 55587.523 , 54260.562 , 55183.086 , 56666.53  ,\n",
              "       55125.65  , 50463.145 ,  4966.81  , 55470.863 , 53997.688 ,\n",
              "        5109.3647, 55516.85  , 54102.15  , 53946.32  , 57259.01  ,\n",
              "       56713.043 ,  5184.796 , 54927.8   , 48095.73  ,  4335.4106,\n",
              "       55291.24  , 61147.28  , 54680.03  , 55942.273 , 55588.074 ,\n",
              "       58895.008 , 59521.07  , 54430.96  , 52643.945 , 50969.152 ,\n",
              "       57336.68  , 56231.805 , 54045.906 , 54857.22  , 59316.977 ,\n",
              "       57362.062 , 56583.992 , 56168.312 , 54143.387 , 56139.617 ,\n",
              "       55102.633 , 55780.957 , 57175.773 , 60434.28  , 54084.23  ,\n",
              "       54724.656 , 56626.312 , 57431.426 ,  4919.4194, 54380.125 ,\n",
              "       55053.227 , 53505.3   , 56157.914 , 55010.176 , 57542.832 ,\n",
              "       56446.05  ,  4727.4785,  4813.0967, 54901.914 , 56720.082 ,\n",
              "       54354.418 , 56315.977 , 57481.18  , 56491.7   , 56569.133 ,\n",
              "       54262.2   ,  5344.0674, 54591.805 , 55953.945 , 55228.727 ,\n",
              "       56004.1   , 58758.46  , 55084.418 ,  5323.025 , 56437.992 ,\n",
              "       54852.145 , 58781.23  , 52666.574 , 54745.324 , 55494.46  ,\n",
              "       52789.688 , 58730.05  , 61182.336 , 57540.55  , 57242.836 ,\n",
              "       58890.23  , 54025.49  , 56347.43  , 58677.086 , 42137.867 ,\n",
              "        4556.7993, 53799.176 , 56326.113 , 61233.824 ,  4849.089 ,\n",
              "       56620.914 , 54638.395 , 56180.76  , 46766.04  , 55568.74  ,\n",
              "       53070.54  , 55306.    , 55800.832 ,  4979.857 , 53126.574 ,\n",
              "       56656.57  ,  5159.8447, 52147.438 ,  5096.3203, 56108.82  ,\n",
              "        4300.7607,  4802.04  , 54130.055 , 53952.727 , 54665.96  ,\n",
              "       55794.945 , 53865.645 , 54878.145 , 54542.875 , 54700.414 ,\n",
              "       56452.387 , 56120.414 , 59763.605 , 58307.32  ,  5091.0044,\n",
              "       55534.273 , 55807.074 , 56809.613 , 55184.113 , 51866.723 ,\n",
              "        4946.8154,  4345.314 , 57071.85  , 59054.04  , 54691.336 ,\n",
              "       56708.445 ,  5221.9565, 55060.79  , 60244.613 , 56837.523 ,\n",
              "       56206.977 , 56872.85  ,  4745.807 , 56101.457 , 54215.062 ,\n",
              "       55124.883 , 52530.418 , 54053.363 , 56806.15  , 53515.2   ,\n",
              "       54856.65  ,  4796.643 , 56122.926 , 55422.023 , 54151.023 ,\n",
              "       59216.15  , 56748.21  ,  4441.018 ,  4197.7197, 57968.062 ,\n",
              "       55164.28  , 58651.906 , 56776.312 , 55859.938 , 55376.93  ,\n",
              "       58381.836 , 55454.883 , 57866.15  , 57746.855 , 55491.426 ,\n",
              "       42542.258 , 57271.008 ,  3992.5754, 55204.79  , 54033.688 ,\n",
              "       54097.688 , 59221.32  , 54466.273 , 55511.195 , 55711.945 ,\n",
              "       57824.98  ,  4346.    , 50965.29  , 54568.477 , 56783.8   ,\n",
              "       55396.793 , 57075.4   , 55629.93  , 57300.21  , 56499.96  ,\n",
              "       53000.645 ,  5188.6626, 56654.137 ,  3669.345 , 55305.46  ,\n",
              "       52614.71  , 56472.387 , 54396.938 , 56161.49  , 58097.105 ,\n",
              "       53539.35  ,  4646.2866,  5051.0947, 56604.727 , 54659.76  ,\n",
              "        4413.2783,  4051.648 , 57801.7   , 56708.01  , 54363.05  ,\n",
              "       57168.227 , 55575.457 , 54512.094 , 58429.074 , 60210.082 ,\n",
              "       57236.1   ,  5059.955 , 58005.273 , 57602.656 , 59588.25  ,\n",
              "       55822.117 , 53962.258 , 56063.355 ,  4756.668 , 55051.883 ,\n",
              "       45092.145 , 57973.21  , 54121.855 , 57489.367 , 57834.79  ,\n",
              "       58166.43  , 55412.414 , 54442.79  , 56727.824 , 54358.82  ,\n",
              "       53830.055 ,  5060.3154, 54117.04  , 55580.145 , 56522.28  ,\n",
              "       57722.117 ,  4281.1885, 53073.492 , 56387.99  , 56007.49  ,\n",
              "        4485.664 ,  4450.132 , 53291.863 , 57795.492 , 55804.273 ,\n",
              "       54525.01  , 60429.23  , 54614.562 , 57666.395 ,  4728.807 ,\n",
              "       56522.8   , 55715.99  , 54196.49  , 54047.043 , 55593.01  ,\n",
              "       50705.47  ,  4884.3535, 54735.8   , 54604.125 , 54957.418 ,\n",
              "        5054.2017,  5034.362 , 56053.887 ,  5038.3184, 50213.145 ,\n",
              "       55363.1   , 54594.594 , 56780.812 , 57628.926 , 57442.95  ,\n",
              "       54174.72  ,  5160.3745, 55885.07  ,  4953.766 , 53363.5   ,\n",
              "        4836.572 , 55153.71  ,  5044.661 , 56615.477 , 57101.258 ,\n",
              "       54950.055 , 54921.98  , 61400.336 , 54400.562 , 53729.832 ,\n",
              "       53744.355 , 55212.99  , 55988.555 , 54721.625 ,  4887.68  ,\n",
              "       54962.207 , 55668.99  , 55739.477 , 55532.6   ,  4454.444 ,\n",
              "       54689.914 , 55386.79  , 54143.895 , 53872.395 , 57320.79  ,\n",
              "       58085.93  , 54247.46  ,  3808.9597, 56253.05  , 57182.457 ,\n",
              "        5110.8867,  4173.658 , 53242.832 , 53176.4   , 56493.074 ,\n",
              "       54285.133 , 55294.32  , 56414.023 , 57398.613 , 55493.977 ,\n",
              "       56071.22  , 54777.02  , 56457.324 , 47838.145 , 56234.8   ,\n",
              "       55396.586 ,  4225.6104, 58633.273 , 56429.207 ,  4689.331 ,\n",
              "       49628.043 , 55702.3   , 58958.01  , 56227.43  , 53446.25  ,\n",
              "       51806.305 , 54290.24  ,  4011.0063,  5268.29  , 55466.707 ,\n",
              "       55452.957 , 60814.676 , 54600.918 , 54158.438 , 56497.68  ,\n",
              "       54447.875 , 55274.094 , 55393.46  , 55164.49  , 54853.24  ,\n",
              "        5111.687 , 53936.82  , 56314.613 , 60107.387 , 58179.24  ,\n",
              "       38214.105 , 54403.773 , 58754.773 , 56908.227 , 56232.76  ,\n",
              "       55372.96  ,  4536.394 , 59694.336 , 57611.586 , 58068.293 ,\n",
              "       58228.76  , 53349.363 , 56935.54  ,  5005.649 ,  4071.1802,\n",
              "       53738.363 , 56340.324 , 55726.03  , 55574.633 , 55508.914 ,\n",
              "        5534.6143,  4991.3843, 55509.23  ,  5154.814 , 54189.605 ,\n",
              "       54841.49  , 55356.76  , 54532.594 , 55823.105 , 55720.242 ,\n",
              "       53005.32  , 56751.918 , 53661.21  , 53614.3   , 56542.918 ,\n",
              "        5119.154 , 55463.945 , 54872.508 , 56209.758 , 53654.55  ,\n",
              "       56637.418 , 55840.293 , 56003.117 , 57863.363 ,  4750.7656,\n",
              "       55282.062 , 54766.23  , 57365.023 , 50848.773 ,  5459.8525,\n",
              "       56174.305 ,  4679.9526, 56073.707 ,  4794.381 , 56717.6   ,\n",
              "       56116.883 , 54514.992 , 53558.887 ,  4599.703 ,  4771.5034,\n",
              "       55363.523 , 55365.805 , 55617.47  ,  4774.2173, 57425.2   ,\n",
              "        5110.5884, 55004.43  ,  5656.6006, 59225.137 , 59305.082 ,\n",
              "       55246.49  ,  4703.8936, 55994.773 , 59278.082 , 57628.242 ,\n",
              "       56012.1   , 53786.418 , 54548.707 ,  4809.3447, 55726.188 ,\n",
              "       54775.79  , 55562.832 , 56732.76  , 55406.594 , 55195.207 ,\n",
              "        4552.0757, 55761.367 , 56429.707 , 54881.5   , 56346.43  ,\n",
              "        4846.02  ,  4595.1904,  5192.995 ,  3031.1714, 55229.207 ,\n",
              "       59528.176 , 53515.938 , 55344.875 , 57536.418 , 55936.336 ,\n",
              "       55221.375 , 57802.477 , 59151.418 ,  5084.967 , 56441.23  ,\n",
              "       55185.426 , 57169.895 , 53560.57  , 57769.72  , 55950.4   ,\n",
              "        5032.833 , 56484.062 , 56315.418 , 54661.57  , 54272.24  ,\n",
              "       56540.418 , 55401.008 , 58179.145 ,  5322.5986,  5147.284 ,\n",
              "       59405.938 , 55012.586 , 54857.93  , 55070.336 , 54788.543 ,\n",
              "       56689.992 , 55048.793 , 55063.105 ,  4837.7554,  4425.362 ,\n",
              "       55208.574 , 58917.426 , 53440.406 , 56556.418 , 55980.645 ,\n",
              "       50821.2   , 58816.883 , 54884.227 ,  4658.0835, 57102.145 ,\n",
              "        5219.028 , 56110.406 , 55675.914 , 55681.043 , 56106.836 ,\n",
              "       55002.676 , 56765.605 ,  5021.9365,  3650.0376, 53900.492 ,\n",
              "       55453.617 , 58481.133 , 57843.176 , 57220.645 , 54828.176 ,\n",
              "       54188.926 , 56166.395 , 55201.74  , 56627.24  , 54607.71  ,\n",
              "       60032.15  , 53905.574 , 58205.52  , 53993.355 , 56833.086 ,\n",
              "       55506.336 , 55614.1   , 55235.95  ,  4682.079 , 56199.633 ,\n",
              "       56617.05  , 53524.5   ,  4097.6255, 54104.977 , 56125.168 ,\n",
              "       54519.914 ,  5026.9937, 53154.074 , 54908.043 , 52160.1   ,\n",
              "       55842.227 ,  3357.487 , 54367.094 , 57739.414 , 58786.07  ,\n",
              "       54867.945 , 54950.992 , 56112.387 , 57051.727 , 56250.1   ,\n",
              "       59732.445 , 55305.336 , 56280.79  ,  3713.5024, 55193.625 ,\n",
              "       53131.65  , 56946.3   ,  4783.6313, 59938.957 , 56126.605 ,\n",
              "        4742.214 , 58243.188 , 56385.49  , 56990.168 , 55488.15  ,\n",
              "       55465.145 , 55221.22  ,  1626.906 , 55573.883 , 56054.46  ,\n",
              "       54376.594 ,  4209.751 , 54780.305 , 56490.555 , 57287.332 ,\n",
              "       54330.895 , 56227.68  , 55151.523 , 58616.75  ,  4985.657 ,\n",
              "       55448.5   , 55268.637 , 55209.98  , 52538.023 , 56921.695 ,\n",
              "        4693.163 , 54445.242 , 55986.32  ,  4540.13  , 56494.062 ,\n",
              "       55273.938 , 55220.668 , 57813.324 , 54860.168 , 56091.938 ,\n",
              "       53745.227 , 54747.52  ,  3996.9734, 57279.906 ,  4346.9976,\n",
              "       57036.832 , 54202.426 ,  4021.5747, 52703.74  , 55929.2   ,\n",
              "        5203.0605, 53227.51  , 53310.367 , 55180.625 ,  5099.712 ,\n",
              "       56942.555 , 56765.555 , 56391.133 ,  4680.0264, 54669.74  ,\n",
              "       53783.76  , 54417.23  , 55283.156 , 51813.023 , 56165.117 ,\n",
              "       55506.176 ,  4994.3237, 55779.375 , 56288.668 , 53562.094 ,\n",
              "       56117.27  , 51641.742 ,  4375.7656,  4665.1943, 56391.72  ,\n",
              "       56416.086 , 59305.824 , 54246.18  , 56990.355 , 54719.586 ,\n",
              "       57232.65  ,  4244.4204, 53710.168 , 56726.5   , 57058.113 ,\n",
              "       56909.492 , 57520.45  , 54651.52  , 55695.4   , 50064.047 ],\n",
              "      dtype=float32)"
            ]
          },
          "metadata": {},
          "execution_count": 88
        }
      ]
    },
    {
      "cell_type": "markdown",
      "source": [
        "# Hyperparameter Tuning"
      ],
      "metadata": {
        "id": "rvXuRChn79SV"
      }
    },
    {
      "cell_type": "code",
      "source": [
        "def test_params_kfold(n_splits, **params):\n",
        "    train_rmses, val_rmses, models = [], [], []\n",
        "    kfold = KFold(n_splits)\n",
        "    for train_idxs, val_idxs in kfold.split(train_inputs):\n",
        "        X_train, train_targets = train_inputs.iloc[train_idxs], train_targets_g.iloc[train_idxs]\n",
        "        X_val, val_targets = train_inputs.iloc[val_idxs], train_targets_g.iloc[val_idxs]\n",
        "        model, train_rmse, val_rmse = train_and_evaluate(X_train, train_targets, X_val, val_targets, **params)\n",
        "        models.append(model)\n",
        "        train_rmses.append(train_rmse)\n",
        "        val_rmses.append(val_rmse)\n",
        "    print('Train RMSE: {}, Validation RMSE: {}'.format(np.mean(train_rmses), np.mean(val_rmses)))\n",
        "    return models"
      ],
      "metadata": {
        "id": "hR_5Los17mSg"
      },
      "execution_count": 89,
      "outputs": []
    },
    {
      "cell_type": "code",
      "source": [
        "X_train, X_val, train_targets, val_targets = train_test_split(train_inputs, train_targets_g, test_size=0.1)"
      ],
      "metadata": {
        "id": "_6V4abHJ7mYn"
      },
      "execution_count": 90,
      "outputs": []
    },
    {
      "cell_type": "code",
      "source": [
        "def test_params(**params):\n",
        "    model = XGBRegressor(n_jobs=-1, random_state=42, **params)\n",
        "    model.fit(X_train, train_targets)\n",
        "    train_rmse = rmse(model.predict(X_train), train_targets)\n",
        "    val_rmse = rmse(model.predict(X_val), val_targets)\n",
        "    print('Train RMSE: {}, Validation RMSE: {}'.format(train_rmse, val_rmse))"
      ],
      "metadata": {
        "id": "i7loNVUs7mc9"
      },
      "execution_count": 91,
      "outputs": []
    },
    {
      "cell_type": "code",
      "source": [
        "test_params(n_estimators=10)  "
      ],
      "metadata": {
        "colab": {
          "base_uri": "https://localhost:8080/"
        },
        "id": "8_a7oLxk8OlZ",
        "outputId": "e051c828-403c-4eeb-b164-f9686826c812"
      },
      "execution_count": 92,
      "outputs": [
        {
          "output_type": "stream",
          "name": "stdout",
          "text": [
            "[06:08:51] WARNING: /workspace/src/objective/regression_obj.cu:152: reg:linear is now deprecated in favor of reg:squarederror.\n",
            "Train RMSE: 24575.83108069929, Validation RMSE: 23917.598877388056\n"
          ]
        }
      ]
    },
    {
      "cell_type": "code",
      "source": [
        "test_params(n_estimators=10)"
      ],
      "metadata": {
        "colab": {
          "base_uri": "https://localhost:8080/"
        },
        "id": "ujSBKG0H8Oo7",
        "outputId": "218d1d50-3beb-4645-bd0d-71cf954faff2"
      },
      "execution_count": 93,
      "outputs": [
        {
          "output_type": "stream",
          "name": "stdout",
          "text": [
            "[06:08:51] WARNING: /workspace/src/objective/regression_obj.cu:152: reg:linear is now deprecated in favor of reg:squarederror.\n",
            "Train RMSE: 24575.83108069929, Validation RMSE: 23917.598877388056\n"
          ]
        }
      ]
    },
    {
      "cell_type": "code",
      "source": [
        "test_params(n_estimators=100)"
      ],
      "metadata": {
        "colab": {
          "base_uri": "https://localhost:8080/"
        },
        "id": "OtnMXvlH8Or-",
        "outputId": "6e91ed4d-8f5e-4299-845e-1ac19c9a02bd"
      },
      "execution_count": 94,
      "outputs": [
        {
          "output_type": "stream",
          "name": "stdout",
          "text": [
            "[06:08:52] WARNING: /workspace/src/objective/regression_obj.cu:152: reg:linear is now deprecated in favor of reg:squarederror.\n",
            "Train RMSE: 11570.18099902134, Validation RMSE: 15685.696203042664\n"
          ]
        }
      ]
    },
    {
      "cell_type": "code",
      "source": [
        "test_params(max_depth=2)"
      ],
      "metadata": {
        "colab": {
          "base_uri": "https://localhost:8080/"
        },
        "id": "sE-VZRob8Ou3",
        "outputId": "132e3482-6628-449a-9f26-20eef06326d8"
      },
      "execution_count": 95,
      "outputs": [
        {
          "output_type": "stream",
          "name": "stdout",
          "text": [
            "[06:08:55] WARNING: /workspace/src/objective/regression_obj.cu:152: reg:linear is now deprecated in favor of reg:squarederror.\n",
            "Train RMSE: 12707.880366744515, Validation RMSE: 15539.03531948741\n"
          ]
        }
      ]
    },
    {
      "cell_type": "code",
      "source": [
        "test_params(max_depth=5)  "
      ],
      "metadata": {
        "colab": {
          "base_uri": "https://localhost:8080/"
        },
        "id": "NHQrmM9J7mhU",
        "outputId": "d5825d2c-7d1b-4aef-9543-d93eb554548f"
      },
      "execution_count": 96,
      "outputs": [
        {
          "output_type": "stream",
          "name": "stdout",
          "text": [
            "[06:08:57] WARNING: /workspace/src/objective/regression_obj.cu:152: reg:linear is now deprecated in favor of reg:squarederror.\n",
            "Train RMSE: 8543.927699456812, Validation RMSE: 16493.002644076787\n"
          ]
        }
      ]
    },
    {
      "cell_type": "code",
      "source": [
        "test_params(n_estimators=50, learning_rate=0.01)"
      ],
      "metadata": {
        "colab": {
          "base_uri": "https://localhost:8080/"
        },
        "id": "YEv86w_38gZv",
        "outputId": "d9fc6f70-ec8a-4c79-caab-e7f296074181"
      },
      "execution_count": 97,
      "outputs": [
        {
          "output_type": "stream",
          "name": "stdout",
          "text": [
            "[06:09:02] WARNING: /workspace/src/objective/regression_obj.cu:152: reg:linear is now deprecated in favor of reg:squarederror.\n",
            "Train RMSE: 37811.83881785863, Validation RMSE: 36012.126781395214\n"
          ]
        }
      ]
    },
    {
      "cell_type": "code",
      "source": [
        "test_params(n_estimators=50, learning_rate=0.1)"
      ],
      "metadata": {
        "colab": {
          "base_uri": "https://localhost:8080/"
        },
        "id": "XrpZh5008ggl",
        "outputId": "38dc3081-fb36-45ad-f02b-6218c245dc81"
      },
      "execution_count": 98,
      "outputs": [
        {
          "output_type": "stream",
          "name": "stdout",
          "text": [
            "[06:09:04] WARNING: /workspace/src/objective/regression_obj.cu:152: reg:linear is now deprecated in favor of reg:squarederror.\n",
            "Train RMSE: 12522.781341721693, Validation RMSE: 15440.409923405894\n"
          ]
        }
      ]
    },
    {
      "cell_type": "code",
      "source": [
        "test_params(n_estimators=50, learning_rate=0.3)"
      ],
      "metadata": {
        "colab": {
          "base_uri": "https://localhost:8080/"
        },
        "id": "r7PATeEC8gnH",
        "outputId": "f2c620ef-985b-4e64-faf8-5a2b42f6635b"
      },
      "execution_count": 99,
      "outputs": [
        {
          "output_type": "stream",
          "name": "stdout",
          "text": [
            "[06:09:05] WARNING: /workspace/src/objective/regression_obj.cu:152: reg:linear is now deprecated in favor of reg:squarederror.\n",
            "Train RMSE: 10326.232974681408, Validation RMSE: 16233.228531225577\n"
          ]
        }
      ]
    },
    {
      "cell_type": "code",
      "source": [
        "test_params(booster='gblinear')"
      ],
      "metadata": {
        "colab": {
          "base_uri": "https://localhost:8080/"
        },
        "id": "adVg3ZFu8guA",
        "outputId": "870f054e-fa79-4d12-c5fd-234317cbd8d5"
      },
      "execution_count": 100,
      "outputs": [
        {
          "output_type": "stream",
          "name": "stdout",
          "text": [
            "[06:09:07] WARNING: /workspace/src/objective/regression_obj.cu:152: reg:linear is now deprecated in favor of reg:squarederror.\n",
            "Train RMSE: 20205.63726651072, Validation RMSE: 21906.23880052939\n"
          ]
        }
      ]
    },
    {
      "cell_type": "code",
      "source": [
        "model = XGBRegressor(n_jobs=-1, random_state=42, n_estimators=1000, \n",
        "                     learning_rate=0.2, max_depth=10, subsample=0.9, \n",
        "                     colsample_bytree=0.7)"
      ],
      "metadata": {
        "id": "avnh40ku8g0K"
      },
      "execution_count": 101,
      "outputs": []
    },
    {
      "cell_type": "code",
      "source": [
        "%%time\n",
        "model.fit(train_inputs, train_targets_g)"
      ],
      "metadata": {
        "colab": {
          "base_uri": "https://localhost:8080/"
        },
        "id": "NwTSKndI897U",
        "outputId": "46e2f29f-a64d-479d-944a-11f408c510e4"
      },
      "execution_count": 102,
      "outputs": [
        {
          "output_type": "stream",
          "name": "stdout",
          "text": [
            "[06:09:09] WARNING: /workspace/src/objective/regression_obj.cu:152: reg:linear is now deprecated in favor of reg:squarederror.\n",
            "CPU times: user 2min 9s, sys: 293 ms, total: 2min 9s\n",
            "Wall time: 1min 7s\n"
          ]
        },
        {
          "output_type": "execute_result",
          "data": {
            "text/plain": [
              "XGBRegressor(colsample_bytree=0.7, learning_rate=0.2, max_depth=10,\n",
              "             n_estimators=1000, n_jobs=-1, random_state=42, subsample=0.9)"
            ]
          },
          "metadata": {},
          "execution_count": 102
        }
      ]
    },
    {
      "cell_type": "code",
      "source": [
        "test_preds = model.predict(test_inputs)"
      ],
      "metadata": {
        "id": "IyDYb0Nd8-B5"
      },
      "execution_count": 103,
      "outputs": []
    },
    {
      "cell_type": "code",
      "source": [
        "rmse(test_preds, test_targets)"
      ],
      "metadata": {
        "colab": {
          "base_uri": "https://localhost:8080/"
        },
        "id": "uuBxU1GV8-IK",
        "outputId": "4257e1de-543b-45e7-d8c1-4aff0403d205"
      },
      "execution_count": 104,
      "outputs": [
        {
          "output_type": "execute_result",
          "data": {
            "text/plain": [
              "16410.53846504027"
            ]
          },
          "metadata": {},
          "execution_count": 104
        }
      ]
    },
    {
      "cell_type": "code",
      "source": [
        "df_claim.describe()"
      ],
      "metadata": {
        "colab": {
          "base_uri": "https://localhost:8080/",
          "height": 411
        },
        "id": "zydHRtiJ8-Op",
        "outputId": "86e39907-8d97-4ddd-de69-d4355f2aa686"
      },
      "execution_count": 105,
      "outputs": [
        {
          "output_type": "execute_result",
          "data": {
            "text/plain": [
              "       months_as_customer          age  policy_number  policy_deductable  \\\n",
              "count         1000.000000  1000.000000    1000.000000        1000.000000   \n",
              "mean           203.954000    38.948000  546238.648000        1136.000000   \n",
              "std            115.113174     9.140287  257063.005276         611.864673   \n",
              "min              0.000000    19.000000  100804.000000         500.000000   \n",
              "25%            115.750000    32.000000  335980.250000         500.000000   \n",
              "50%            199.500000    38.000000  533135.000000        1000.000000   \n",
              "75%            276.250000    44.000000  759099.750000        2000.000000   \n",
              "max            479.000000    64.000000  999435.000000        2000.000000   \n",
              "\n",
              "       policy_annual_premium  umbrella_limit    insured_zip  capital-gains  \\\n",
              "count            1000.000000    1.000000e+03    1000.000000    1000.000000   \n",
              "mean             1256.406150    1.101000e+06  501214.488000   25126.100000   \n",
              "std               244.167395    2.297407e+06   71701.610941   27872.187708   \n",
              "min               433.330000   -1.000000e+06  430104.000000       0.000000   \n",
              "25%              1089.607500    0.000000e+00  448404.500000       0.000000   \n",
              "50%              1257.200000    0.000000e+00  466445.500000       0.000000   \n",
              "75%              1415.695000    0.000000e+00  603251.000000   51025.000000   \n",
              "max              2047.590000    1.000000e+07  620962.000000  100500.000000   \n",
              "\n",
              "        capital-loss  incident_hour_of_the_day  ...  vehicle_claim  \\\n",
              "count    1000.000000               1000.000000  ...    1000.000000   \n",
              "mean   -26793.700000                 11.644000  ...   37928.950000   \n",
              "std     28104.096686                  6.951373  ...   18886.252893   \n",
              "min   -111100.000000                  0.000000  ...      70.000000   \n",
              "25%    -51500.000000                  6.000000  ...   30292.500000   \n",
              "50%    -23250.000000                 12.000000  ...   42100.000000   \n",
              "75%         0.000000                 17.000000  ...   50822.500000   \n",
              "max         0.000000                 23.000000  ...   79560.000000   \n",
              "\n",
              "         auto_year  policy_bind_year  policy_bind_month  policy_bind_day  \\\n",
              "count  1000.000000       1000.000000        1000.000000      1000.000000   \n",
              "mean   2005.103000       2001.604000           6.559000        15.448000   \n",
              "std       6.015861          7.360391           3.499824         8.808001   \n",
              "min    1995.000000       1990.000000           1.000000         1.000000   \n",
              "25%    2000.000000       1995.000000           3.000000         8.000000   \n",
              "50%    2005.000000       2002.000000           7.000000        16.000000   \n",
              "75%    2010.000000       2008.000000          10.000000        23.000000   \n",
              "max    2015.000000       2015.000000          12.000000        31.000000   \n",
              "\n",
              "       policy_bind_week_of_year  incident_year  incident_day  \\\n",
              "count               1000.000000         1000.0   1000.000000   \n",
              "mean                  26.715000         2015.0     14.995000   \n",
              "std                   15.293714            0.0      8.670995   \n",
              "min                    1.000000         2015.0      1.000000   \n",
              "25%                   13.000000         2015.0      7.750000   \n",
              "50%                   27.000000         2015.0     15.000000   \n",
              "75%                   40.000000         2015.0     22.000000   \n",
              "max                   53.000000         2015.0     31.000000   \n",
              "\n",
              "       incident_week_of_year  incident_time  \n",
              "count            1000.000000    1000.000000  \n",
              "mean                5.184000     155.689000  \n",
              "std                 2.468651      88.267522  \n",
              "min                 1.000000       0.000000  \n",
              "25%                 3.000000      82.000000  \n",
              "50%                 5.000000     153.000000  \n",
              "75%                 7.000000     232.000000  \n",
              "max                 9.000000     301.000000  \n",
              "\n",
              "[8 rows x 26 columns]"
            ],
            "text/html": [
              "\n",
              "  <div id=\"df-604bb074-a1d2-486c-81cf-64be54ff5a21\">\n",
              "    <div class=\"colab-df-container\">\n",
              "      <div>\n",
              "<style scoped>\n",
              "    .dataframe tbody tr th:only-of-type {\n",
              "        vertical-align: middle;\n",
              "    }\n",
              "\n",
              "    .dataframe tbody tr th {\n",
              "        vertical-align: top;\n",
              "    }\n",
              "\n",
              "    .dataframe thead th {\n",
              "        text-align: right;\n",
              "    }\n",
              "</style>\n",
              "<table border=\"1\" class=\"dataframe\">\n",
              "  <thead>\n",
              "    <tr style=\"text-align: right;\">\n",
              "      <th></th>\n",
              "      <th>months_as_customer</th>\n",
              "      <th>age</th>\n",
              "      <th>policy_number</th>\n",
              "      <th>policy_deductable</th>\n",
              "      <th>policy_annual_premium</th>\n",
              "      <th>umbrella_limit</th>\n",
              "      <th>insured_zip</th>\n",
              "      <th>capital-gains</th>\n",
              "      <th>capital-loss</th>\n",
              "      <th>incident_hour_of_the_day</th>\n",
              "      <th>...</th>\n",
              "      <th>vehicle_claim</th>\n",
              "      <th>auto_year</th>\n",
              "      <th>policy_bind_year</th>\n",
              "      <th>policy_bind_month</th>\n",
              "      <th>policy_bind_day</th>\n",
              "      <th>policy_bind_week_of_year</th>\n",
              "      <th>incident_year</th>\n",
              "      <th>incident_day</th>\n",
              "      <th>incident_week_of_year</th>\n",
              "      <th>incident_time</th>\n",
              "    </tr>\n",
              "  </thead>\n",
              "  <tbody>\n",
              "    <tr>\n",
              "      <th>count</th>\n",
              "      <td>1000.000000</td>\n",
              "      <td>1000.000000</td>\n",
              "      <td>1000.000000</td>\n",
              "      <td>1000.000000</td>\n",
              "      <td>1000.000000</td>\n",
              "      <td>1.000000e+03</td>\n",
              "      <td>1000.000000</td>\n",
              "      <td>1000.000000</td>\n",
              "      <td>1000.000000</td>\n",
              "      <td>1000.000000</td>\n",
              "      <td>...</td>\n",
              "      <td>1000.000000</td>\n",
              "      <td>1000.000000</td>\n",
              "      <td>1000.000000</td>\n",
              "      <td>1000.000000</td>\n",
              "      <td>1000.000000</td>\n",
              "      <td>1000.000000</td>\n",
              "      <td>1000.0</td>\n",
              "      <td>1000.000000</td>\n",
              "      <td>1000.000000</td>\n",
              "      <td>1000.000000</td>\n",
              "    </tr>\n",
              "    <tr>\n",
              "      <th>mean</th>\n",
              "      <td>203.954000</td>\n",
              "      <td>38.948000</td>\n",
              "      <td>546238.648000</td>\n",
              "      <td>1136.000000</td>\n",
              "      <td>1256.406150</td>\n",
              "      <td>1.101000e+06</td>\n",
              "      <td>501214.488000</td>\n",
              "      <td>25126.100000</td>\n",
              "      <td>-26793.700000</td>\n",
              "      <td>11.644000</td>\n",
              "      <td>...</td>\n",
              "      <td>37928.950000</td>\n",
              "      <td>2005.103000</td>\n",
              "      <td>2001.604000</td>\n",
              "      <td>6.559000</td>\n",
              "      <td>15.448000</td>\n",
              "      <td>26.715000</td>\n",
              "      <td>2015.0</td>\n",
              "      <td>14.995000</td>\n",
              "      <td>5.184000</td>\n",
              "      <td>155.689000</td>\n",
              "    </tr>\n",
              "    <tr>\n",
              "      <th>std</th>\n",
              "      <td>115.113174</td>\n",
              "      <td>9.140287</td>\n",
              "      <td>257063.005276</td>\n",
              "      <td>611.864673</td>\n",
              "      <td>244.167395</td>\n",
              "      <td>2.297407e+06</td>\n",
              "      <td>71701.610941</td>\n",
              "      <td>27872.187708</td>\n",
              "      <td>28104.096686</td>\n",
              "      <td>6.951373</td>\n",
              "      <td>...</td>\n",
              "      <td>18886.252893</td>\n",
              "      <td>6.015861</td>\n",
              "      <td>7.360391</td>\n",
              "      <td>3.499824</td>\n",
              "      <td>8.808001</td>\n",
              "      <td>15.293714</td>\n",
              "      <td>0.0</td>\n",
              "      <td>8.670995</td>\n",
              "      <td>2.468651</td>\n",
              "      <td>88.267522</td>\n",
              "    </tr>\n",
              "    <tr>\n",
              "      <th>min</th>\n",
              "      <td>0.000000</td>\n",
              "      <td>19.000000</td>\n",
              "      <td>100804.000000</td>\n",
              "      <td>500.000000</td>\n",
              "      <td>433.330000</td>\n",
              "      <td>-1.000000e+06</td>\n",
              "      <td>430104.000000</td>\n",
              "      <td>0.000000</td>\n",
              "      <td>-111100.000000</td>\n",
              "      <td>0.000000</td>\n",
              "      <td>...</td>\n",
              "      <td>70.000000</td>\n",
              "      <td>1995.000000</td>\n",
              "      <td>1990.000000</td>\n",
              "      <td>1.000000</td>\n",
              "      <td>1.000000</td>\n",
              "      <td>1.000000</td>\n",
              "      <td>2015.0</td>\n",
              "      <td>1.000000</td>\n",
              "      <td>1.000000</td>\n",
              "      <td>0.000000</td>\n",
              "    </tr>\n",
              "    <tr>\n",
              "      <th>25%</th>\n",
              "      <td>115.750000</td>\n",
              "      <td>32.000000</td>\n",
              "      <td>335980.250000</td>\n",
              "      <td>500.000000</td>\n",
              "      <td>1089.607500</td>\n",
              "      <td>0.000000e+00</td>\n",
              "      <td>448404.500000</td>\n",
              "      <td>0.000000</td>\n",
              "      <td>-51500.000000</td>\n",
              "      <td>6.000000</td>\n",
              "      <td>...</td>\n",
              "      <td>30292.500000</td>\n",
              "      <td>2000.000000</td>\n",
              "      <td>1995.000000</td>\n",
              "      <td>3.000000</td>\n",
              "      <td>8.000000</td>\n",
              "      <td>13.000000</td>\n",
              "      <td>2015.0</td>\n",
              "      <td>7.750000</td>\n",
              "      <td>3.000000</td>\n",
              "      <td>82.000000</td>\n",
              "    </tr>\n",
              "    <tr>\n",
              "      <th>50%</th>\n",
              "      <td>199.500000</td>\n",
              "      <td>38.000000</td>\n",
              "      <td>533135.000000</td>\n",
              "      <td>1000.000000</td>\n",
              "      <td>1257.200000</td>\n",
              "      <td>0.000000e+00</td>\n",
              "      <td>466445.500000</td>\n",
              "      <td>0.000000</td>\n",
              "      <td>-23250.000000</td>\n",
              "      <td>12.000000</td>\n",
              "      <td>...</td>\n",
              "      <td>42100.000000</td>\n",
              "      <td>2005.000000</td>\n",
              "      <td>2002.000000</td>\n",
              "      <td>7.000000</td>\n",
              "      <td>16.000000</td>\n",
              "      <td>27.000000</td>\n",
              "      <td>2015.0</td>\n",
              "      <td>15.000000</td>\n",
              "      <td>5.000000</td>\n",
              "      <td>153.000000</td>\n",
              "    </tr>\n",
              "    <tr>\n",
              "      <th>75%</th>\n",
              "      <td>276.250000</td>\n",
              "      <td>44.000000</td>\n",
              "      <td>759099.750000</td>\n",
              "      <td>2000.000000</td>\n",
              "      <td>1415.695000</td>\n",
              "      <td>0.000000e+00</td>\n",
              "      <td>603251.000000</td>\n",
              "      <td>51025.000000</td>\n",
              "      <td>0.000000</td>\n",
              "      <td>17.000000</td>\n",
              "      <td>...</td>\n",
              "      <td>50822.500000</td>\n",
              "      <td>2010.000000</td>\n",
              "      <td>2008.000000</td>\n",
              "      <td>10.000000</td>\n",
              "      <td>23.000000</td>\n",
              "      <td>40.000000</td>\n",
              "      <td>2015.0</td>\n",
              "      <td>22.000000</td>\n",
              "      <td>7.000000</td>\n",
              "      <td>232.000000</td>\n",
              "    </tr>\n",
              "    <tr>\n",
              "      <th>max</th>\n",
              "      <td>479.000000</td>\n",
              "      <td>64.000000</td>\n",
              "      <td>999435.000000</td>\n",
              "      <td>2000.000000</td>\n",
              "      <td>2047.590000</td>\n",
              "      <td>1.000000e+07</td>\n",
              "      <td>620962.000000</td>\n",
              "      <td>100500.000000</td>\n",
              "      <td>0.000000</td>\n",
              "      <td>23.000000</td>\n",
              "      <td>...</td>\n",
              "      <td>79560.000000</td>\n",
              "      <td>2015.000000</td>\n",
              "      <td>2015.000000</td>\n",
              "      <td>12.000000</td>\n",
              "      <td>31.000000</td>\n",
              "      <td>53.000000</td>\n",
              "      <td>2015.0</td>\n",
              "      <td>31.000000</td>\n",
              "      <td>9.000000</td>\n",
              "      <td>301.000000</td>\n",
              "    </tr>\n",
              "  </tbody>\n",
              "</table>\n",
              "<p>8 rows × 26 columns</p>\n",
              "</div>\n",
              "      <button class=\"colab-df-convert\" onclick=\"convertToInteractive('df-604bb074-a1d2-486c-81cf-64be54ff5a21')\"\n",
              "              title=\"Convert this dataframe to an interactive table.\"\n",
              "              style=\"display:none;\">\n",
              "        \n",
              "  <svg xmlns=\"http://www.w3.org/2000/svg\" height=\"24px\"viewBox=\"0 0 24 24\"\n",
              "       width=\"24px\">\n",
              "    <path d=\"M0 0h24v24H0V0z\" fill=\"none\"/>\n",
              "    <path d=\"M18.56 5.44l.94 2.06.94-2.06 2.06-.94-2.06-.94-.94-2.06-.94 2.06-2.06.94zm-11 1L8.5 8.5l.94-2.06 2.06-.94-2.06-.94L8.5 2.5l-.94 2.06-2.06.94zm10 10l.94 2.06.94-2.06 2.06-.94-2.06-.94-.94-2.06-.94 2.06-2.06.94z\"/><path d=\"M17.41 7.96l-1.37-1.37c-.4-.4-.92-.59-1.43-.59-.52 0-1.04.2-1.43.59L10.3 9.45l-7.72 7.72c-.78.78-.78 2.05 0 2.83L4 21.41c.39.39.9.59 1.41.59.51 0 1.02-.2 1.41-.59l7.78-7.78 2.81-2.81c.8-.78.8-2.07 0-2.86zM5.41 20L4 18.59l7.72-7.72 1.47 1.35L5.41 20z\"/>\n",
              "  </svg>\n",
              "      </button>\n",
              "      \n",
              "  <style>\n",
              "    .colab-df-container {\n",
              "      display:flex;\n",
              "      flex-wrap:wrap;\n",
              "      gap: 12px;\n",
              "    }\n",
              "\n",
              "    .colab-df-convert {\n",
              "      background-color: #E8F0FE;\n",
              "      border: none;\n",
              "      border-radius: 50%;\n",
              "      cursor: pointer;\n",
              "      display: none;\n",
              "      fill: #1967D2;\n",
              "      height: 32px;\n",
              "      padding: 0 0 0 0;\n",
              "      width: 32px;\n",
              "    }\n",
              "\n",
              "    .colab-df-convert:hover {\n",
              "      background-color: #E2EBFA;\n",
              "      box-shadow: 0px 1px 2px rgba(60, 64, 67, 0.3), 0px 1px 3px 1px rgba(60, 64, 67, 0.15);\n",
              "      fill: #174EA6;\n",
              "    }\n",
              "\n",
              "    [theme=dark] .colab-df-convert {\n",
              "      background-color: #3B4455;\n",
              "      fill: #D2E3FC;\n",
              "    }\n",
              "\n",
              "    [theme=dark] .colab-df-convert:hover {\n",
              "      background-color: #434B5C;\n",
              "      box-shadow: 0px 1px 3px 1px rgba(0, 0, 0, 0.15);\n",
              "      filter: drop-shadow(0px 1px 2px rgba(0, 0, 0, 0.3));\n",
              "      fill: #FFFFFF;\n",
              "    }\n",
              "  </style>\n",
              "\n",
              "      <script>\n",
              "        const buttonEl =\n",
              "          document.querySelector('#df-604bb074-a1d2-486c-81cf-64be54ff5a21 button.colab-df-convert');\n",
              "        buttonEl.style.display =\n",
              "          google.colab.kernel.accessAllowed ? 'block' : 'none';\n",
              "\n",
              "        async function convertToInteractive(key) {\n",
              "          const element = document.querySelector('#df-604bb074-a1d2-486c-81cf-64be54ff5a21');\n",
              "          const dataTable =\n",
              "            await google.colab.kernel.invokeFunction('convertToInteractive',\n",
              "                                                     [key], {});\n",
              "          if (!dataTable) return;\n",
              "\n",
              "          const docLinkHtml = 'Like what you see? Visit the ' +\n",
              "            '<a target=\"_blank\" href=https://colab.research.google.com/notebooks/data_table.ipynb>data table notebook</a>'\n",
              "            + ' to learn more about interactive tables.';\n",
              "          element.innerHTML = '';\n",
              "          dataTable['output_type'] = 'display_data';\n",
              "          await google.colab.output.renderOutput(dataTable, element);\n",
              "          const docLink = document.createElement('div');\n",
              "          docLink.innerHTML = docLinkHtml;\n",
              "          element.appendChild(docLink);\n",
              "        }\n",
              "      </script>\n",
              "    </div>\n",
              "  </div>\n",
              "  "
            ]
          },
          "metadata": {},
          "execution_count": 105
        }
      ]
    },
    {
      "cell_type": "code",
      "source": [
        "df_claim['total_claim_amount'].describe()"
      ],
      "metadata": {
        "colab": {
          "base_uri": "https://localhost:8080/"
        },
        "id": "yvNX1d-m8g6a",
        "outputId": "0459f009-c5c7-4b5c-8efb-97aaa13eebfa"
      },
      "execution_count": 106,
      "outputs": [
        {
          "output_type": "execute_result",
          "data": {
            "text/plain": [
              "count      1000.00000\n",
              "mean      52761.94000\n",
              "std       26401.53319\n",
              "min         100.00000\n",
              "25%       41812.50000\n",
              "50%       58055.00000\n",
              "75%       70592.50000\n",
              "max      114920.00000\n",
              "Name: total_claim_amount, dtype: float64"
            ]
          },
          "metadata": {},
          "execution_count": 106
        }
      ]
    },
    {
      "cell_type": "code",
      "source": [],
      "metadata": {
        "id": "MJ-gVeiG6vBK"
      },
      "execution_count": 106,
      "outputs": []
    }
  ],
  "metadata": {
    "colab": {
      "collapsed_sections": [],
      "provenance": [],
      "authorship_tag": "ABX9TyOr14Er6X/tx/Tec6prn8vY",
      "include_colab_link": true
    },
    "kernelspec": {
      "display_name": "Python 3",
      "name": "python3"
    },
    "language_info": {
      "name": "python"
    }
  },
  "nbformat": 4,
  "nbformat_minor": 0
}